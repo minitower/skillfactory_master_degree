{
 "cells": [
  {
   "cell_type": "code",
   "execution_count": 7,
   "metadata": {},
   "outputs": [],
   "source": [
    "import scipy.stats as st\n",
    "import numpy as np"
   ]
  },
  {
   "cell_type": "code",
   "execution_count": 8,
   "metadata": {},
   "outputs": [
    {
     "data": {
      "text/plain": [
       "ModeResult(mode=np.int64(23), count=np.int64(4))"
      ]
     },
     "execution_count": 8,
     "metadata": {},
     "output_type": "execute_result"
    }
   ],
   "source": [
    "x = np.array([10, 7, 14, 15, 7, 10, 23, 15, 15, 21, 19, 18, 11, 23, 23, 23, 17, 18, 7, 14])\n",
    "x.mean()\n",
    "np.median(x)\n",
    "st.mode(x)"
   ]
  },
  {
   "cell_type": "code",
   "execution_count": 9,
   "metadata": {},
   "outputs": [
    {
     "data": {
      "text/plain": [
       "(14285.71, 1928571.43, 71428.57)"
      ]
     },
     "execution_count": 9,
     "metadata": {},
     "output_type": "execute_result"
    }
   ],
   "source": [
    "p = 0.00007  # вероятность выигрыша\n",
    "S = 2_000_000  # выигрыш в рублях\n",
    "C = 135  # стоимость одного билета\n",
    "\n",
    "# Среднее количество покупок\n",
    "expected_tickets = 1 / p\n",
    "\n",
    "# Средние затраты\n",
    "total_cost = C * expected_tickets\n",
    "\n",
    "# Средний выигрыш\n",
    "average_winnings = S - total_cost\n",
    "\n",
    "round(expected_tickets, 2), round(total_cost, 2), round(average_winnings, 2)"
   ]
  },
  {
   "cell_type": "code",
   "execution_count": 10,
   "metadata": {},
   "outputs": [
    {
     "data": {
      "text/plain": [
       "[4.58715596330275]"
      ]
     },
     "execution_count": 10,
     "metadata": {},
     "output_type": "execute_result"
    }
   ],
   "source": [
    "from sympy import symbols, Eq, solve\n",
    "\n",
    "# Обозначим переменные\n",
    "sigma = symbols('sigma')\n",
    "\n",
    "# Уравнение для нахождения стандартного отклонения\n",
    "equation = Eq((5 - 0.84 * sigma) / sigma, 0.25)\n",
    "\n",
    "# Решаем уравнение\n",
    "solution_sigma = solve(equation, sigma)\n",
    "solution_sigma"
   ]
  },
  {
   "cell_type": "code",
   "execution_count": 11,
   "metadata": {},
   "outputs": [
    {
     "data": {
      "text/plain": [
       "0.2668"
      ]
     },
     "execution_count": 11,
     "metadata": {},
     "output_type": "execute_result"
    }
   ],
   "source": [
    "from math import comb\n",
    "\n",
    "# Данные\n",
    "n = 10  # общее количество бросков\n",
    "k = 7   # количество успешных бросков\n",
    "p = 0.7 # вероятность успеха\n",
    "q = 1 - p # вероятность неуспеха\n",
    "\n",
    "# Вычисляем вероятность\n",
    "probability = comb(n, k) * (p ** k) * (q ** (n - k))\n",
    "round(probability, 4)"
   ]
  },
  {
   "cell_type": "code",
   "execution_count": 12,
   "metadata": {},
   "outputs": [
    {
     "data": {
      "text/latex": [
       "$\\displaystyle 2.8085$"
      ],
      "text/plain": [
       "2.8085"
      ]
     },
     "execution_count": 12,
     "metadata": {},
     "output_type": "execute_result"
    }
   ],
   "source": [
    "from sympy import symbols, integrate, pi\n",
    "\n",
    "# Переменные и пределы\n",
    "x = symbols('x')\n",
    "a, b = 1.7, 1.8\n",
    "\n",
    "# Подынтегральная функция\n",
    "volume_function = (pi / 6) * x**3\n",
    "\n",
    "# Вычисление интеграла\n",
    "integral_value = integrate(volume_function, (x, a, b))\n",
    "\n",
    "# Математическое ожидание\n",
    "expectation = (1 / (b - a)) * integral_value\n",
    "round(expectation.evalf(), 4)"
   ]
  },
  {
   "cell_type": "code",
   "execution_count": 13,
   "metadata": {},
   "outputs": [
    {
     "data": {
      "text/plain": [
       "0.9179"
      ]
     },
     "execution_count": 13,
     "metadata": {},
     "output_type": "execute_result"
    }
   ],
   "source": [
    "from math import exp\n",
    "\n",
    "# Интенсивность\n",
    "lambda_t = 2.5\n",
    "\n",
    "# Вероятность хотя бы одного вызова\n",
    "probability_at_least_one = 1 - exp(-lambda_t)\n",
    "round(probability_at_least_one, 4)"
   ]
  },
  {
   "cell_type": "code",
   "execution_count": 18,
   "metadata": {},
   "outputs": [
    {
     "data": {
      "text/plain": [
       "np.float64(6.927224871749557)"
      ]
     },
     "execution_count": 18,
     "metadata": {},
     "output_type": "execute_result"
    }
   ],
   "source": [
    "# Заданные значения\n",
    "Z_alpha_2 = stats.norm.ppf(1 - 0.02 / 2)  # критическое значение для уровня значимости 0.02 (alpha/2 = 0.01)\n",
    "sigma = np.sqrt(8)     # стандартное отклонение (корень из дисперсии 8)\n",
    "E = 2.5           # точность\n",
    "\n",
    "# Формула для расчета минимального объема выборки\n",
    "n = (Z_alpha_2 * sigma / E) ** 2\n",
    "n"
   ]
  },
  {
   "cell_type": "code",
   "execution_count": 16,
   "metadata": {},
   "outputs": [
    {
     "data": {
      "text/plain": [
       "(np.float64(46.08182885923084), np.float64(53.91817114076916))"
      ]
     },
     "execution_count": 16,
     "metadata": {},
     "output_type": "execute_result"
    }
   ],
   "source": [
    "import scipy.stats as stats\n",
    "import math\n",
    "\n",
    "# Данные\n",
    "mean = 50        # Среднее выборочное\n",
    "s_squared = 30    # Выборочная дисперсия\n",
    "n = 10            # Объем выборки\n",
    "confidence_level = 0.95\n",
    "\n",
    "# Расчет стандартного отклонения\n",
    "s = math.sqrt(s_squared)\n",
    "\n",
    "# Уровень значимости\n",
    "alpha = 1 - confidence_level\n",
    "\n",
    "# Критическое значение t для распределения Стьюдента с 9 степенями свободы\n",
    "t_alpha_2 = stats.t.ppf(1 - alpha / 2, df=n - 1)\n",
    "\n",
    "# Погрешность\n",
    "margin_of_error = t_alpha_2 * (s / math.sqrt(n))\n",
    "\n",
    "# Границы доверительного интервала\n",
    "lower_bound = mean - margin_of_error\n",
    "upper_bound = mean + margin_of_error\n",
    "\n",
    "lower_bound, upper_bound"
   ]
  },
  {
   "cell_type": "code",
   "execution_count": 17,
   "metadata": {},
   "outputs": [
    {
     "name": "stdout",
     "output_type": "stream",
     "text": [
      "Границы для доли неиспорченных товаров: (0.5888, 0.8112)\n",
      "Границы для доли испорченных товаров: (0.1888, 0.4112)\n"
     ]
    }
   ],
   "source": [
    "import scipy.stats as stats\n",
    "import math\n",
    "\n",
    "# Данные\n",
    "n = 80            # Объем выборки\n",
    "x = 56            # Количество неиспорченных товаров\n",
    "confidence_level = 0.97\n",
    "\n",
    "# Выборочная доля неиспорченных товаров\n",
    "p_hat = x / n\n",
    "q_hat = 1 - p_hat\n",
    "\n",
    "# Уровень значимости\n",
    "alpha = 1 - confidence_level\n",
    "\n",
    "# Критическое значение Z для нормального распределения\n",
    "Z_alpha_2 = stats.norm.ppf(1 - alpha / 2)\n",
    "\n",
    "# Погрешность\n",
    "E = Z_alpha_2 * math.sqrt((p_hat * q_hat) / n)\n",
    "\n",
    "# Границы доверительного интервала\n",
    "lower_bound = p_hat - E\n",
    "upper_bound = p_hat + E\n",
    "\n",
    "# Долей испорченных товаров\n",
    "lower_bound_damaged = 1 - upper_bound\n",
    "upper_bound_damaged = 1 - lower_bound\n",
    "\n",
    "print(f\"Границы для доли неиспорченных товаров: ({lower_bound:.4f}, {upper_bound:.4f})\")\n",
    "print(f\"Границы для доли испорченных товаров: ({lower_bound_damaged:.4f}, {upper_bound_damaged:.4f})\")"
   ]
  },
  {
   "cell_type": "code",
   "execution_count": 19,
   "metadata": {},
   "outputs": [
    {
     "name": "stdout",
     "output_type": "stream",
     "text": [
      "Доверительный интервал для истинного стандартного отклонения: (0.5503, 1.4605)\n"
     ]
    }
   ],
   "source": [
    "import scipy.stats as stats\n",
    "import math\n",
    "\n",
    "# Данные\n",
    "n = 10            # Размер выборки\n",
    "s = 0.8           # Выборочное стандартное отклонение\n",
    "confidence_level = 0.95\n",
    "\n",
    "# Уровень значимости\n",
    "alpha = 1 - confidence_level\n",
    "\n",
    "# Критические значения для распределения Хи-квадрат\n",
    "chi2_lower = stats.chi2.ppf(alpha / 2, df=n - 1)\n",
    "chi2_upper = stats.chi2.ppf(1 - alpha / 2, df=n - 1)\n",
    "\n",
    "# Доверительный интервал для дисперсии\n",
    "lower_bound = math.sqrt((n - 1) * s**2 / chi2_upper)\n",
    "upper_bound = math.sqrt((n - 1) * s**2 / chi2_lower)\n",
    "\n",
    "print(f\"Доверительный интервал для истинного стандартного отклонения: ({lower_bound:.4f}, {upper_bound:.4f})\")"
   ]
  },
  {
   "cell_type": "code",
   "execution_count": 20,
   "metadata": {},
   "outputs": [
    {
     "name": "stdout",
     "output_type": "stream",
     "text": [
      "p-value: 0.0286\n"
     ]
    }
   ],
   "source": [
    "import scipy.stats as stats\n",
    "\n",
    "# Данные до и после курения\n",
    "before = [2, 2, 5, 7, 8, 9, 10, 10, 10, 11]\n",
    "after = [5, 4, 6, 7, 11, 9, 9, 13, 11, 10]\n",
    "\n",
    "# Разности между значениями \"после\" и \"до\"\n",
    "differences = [a - b for a, b in zip(after, before)]\n",
    "\n",
    "# Выполним парный t-тест\n",
    "t_stat, p_value = stats.ttest_1samp(differences, 0)\n",
    "\n",
    "# Поскольку альтернативная гипотеза направлена (увеличение), делим p-value на 2\n",
    "p_value_one_sided = p_value / 2\n",
    "\n",
    "print(f\"p-value: {p_value_one_sided:.4f}\")"
   ]
  },
  {
   "cell_type": "code",
   "execution_count": 21,
   "metadata": {},
   "outputs": [
    {
     "name": "stdout",
     "output_type": "stream",
     "text": [
      "p-value: 0.0762\n"
     ]
    }
   ],
   "source": [
    "import scipy.stats as stats\n",
    "\n",
    "# Данные для больниц №1 и №2\n",
    "hospital_1 = [14, 16, 15, 17, 18, 15, 14, 15]\n",
    "hospital_2 = [15, 17, 16, 17, 19, 19, 16, 16]\n",
    "\n",
    "# Выполним t-тест для независимых выборок\n",
    "t_stat, p_value = stats.ttest_ind(hospital_1, hospital_2)\n",
    "\n",
    "# Печатаем p-value\n",
    "print(f\"p-value: {p_value:.4f}\")"
   ]
  },
  {
   "cell_type": "code",
   "execution_count": 22,
   "metadata": {},
   "outputs": [
    {
     "name": "stdout",
     "output_type": "stream",
     "text": [
      "p-value: 0.0759\n"
     ]
    }
   ],
   "source": [
    "import scipy.stats as stats\n",
    "\n",
    "# Данные для первого и второго классов\n",
    "class_1 = [79, 88, 39, 40, 40, 90, 39, 79, 75, 53]\n",
    "class_2 = [62, 64, 87, 49, 72, 65, 63, 56, 77, 41]\n",
    "\n",
    "# Вычисляем выборочные дисперсии для каждого класса\n",
    "var_1 = stats.tvar(class_1)\n",
    "var_2 = stats.tvar(class_2)\n",
    "\n",
    "# Рассчитываем F-статистику\n",
    "F_stat = var_1 / var_2\n",
    "\n",
    "# Вычисляем p-value для F-теста\n",
    "df_1 = len(class_1) - 1  # Степени свободы для первого класса\n",
    "df_2 = len(class_2) - 1  # Степени свободы для второго класса\n",
    "\n",
    "p_value = stats.f.sf(F_stat, df_1, df_2)  # p-value для F-статистики\n",
    "\n",
    "print(f\"p-value: {p_value:.4f}\")"
   ]
  },
  {
   "cell_type": "code",
   "execution_count": 23,
   "metadata": {},
   "outputs": [
    {
     "name": "stdout",
     "output_type": "stream",
     "text": [
      "p-value: 0.5553\n"
     ]
    }
   ],
   "source": [
    "import scipy.stats as stats\n",
    "\n",
    "# Данные для каждого типа ухода\n",
    "regular_care = [4.17, 5.58, 5.18, 6.11, 4.50, 4.61, 5.17, 4.53, 5.33, 5.14]\n",
    "partial_care = [4.52, 4.18, 4.84, 5.89, 3.57, 3.91, 5.96, 6.09, 4.74, 5.26]\n",
    "no_care = [4.81, 4.17, 4.41, 3.59, 5.87, 3.83, 6.03, 4.89, 4.32, 4.69]\n",
    "\n",
    "# Выполним однофакторный ANOVA\n",
    "f_stat, p_value = stats.f_oneway(regular_care, partial_care, no_care)\n",
    "\n",
    "# Печатаем p-value\n",
    "print(f\"p-value: {p_value:.4f}\")"
   ]
  },
  {
   "cell_type": "code",
   "execution_count": 25,
   "metadata": {},
   "outputs": [
    {
     "data": {
      "text/plain": [
       "np.float64(0.5113885583507743)"
      ]
     },
     "execution_count": 25,
     "metadata": {},
     "output_type": "execute_result"
    }
   ],
   "source": [
    "import pandas as pd\n",
    "\n",
    "df = pd.DataFrame({'id': [1, 2, 3, 4, 5, 6, 7, 8, 9, 10, 11, 12, 13, 14, 15],\n",
    "                   'S': [2310, 2333, 2356, 2379, 2402, 2425, 2448, 2471, 2494, 2517, 2540, 2543, 2602, 2615, 2625],\n",
    "                   'O': [2, 2, 3, 3, 2, 4, 2, 2, 3, 4, 2, 3, 4, 2, 4],\n",
    "                   'E': [2, 2, 2, 2, 3, 3, 2, 2, 3, 4, 3, 4, 2, 3, 4],\n",
    "                   'Y': [20, 12, 33, 43, 53, 23, 37, 34, 23, 55, 22, 41, 29, 17, 20],\n",
    "                   'C': [142000, 144000, 151000, 151000, 139000, 169000, 126000, 142000, 163000, 169000, 149000, 152000, 156000, 162000, 172000]})\n",
    "df['S'].corr(df['C'])"
   ]
  },
  {
   "cell_type": "code",
   "execution_count": 29,
   "metadata": {},
   "outputs": [
    {
     "data": {
      "text/plain": [
       "0    -1.561262\n",
       "1    -1.337762\n",
       "2    -1.114262\n",
       "3    -0.890762\n",
       "4    -0.667261\n",
       "5    -0.443761\n",
       "6    -0.220261\n",
       "7     0.003239\n",
       "8     0.226739\n",
       "9     0.450240\n",
       "10    0.673740\n",
       "11    0.702892\n",
       "12    1.276218\n",
       "13    1.402545\n",
       "14    1.499719\n",
       "0    -0.928191\n",
       "1    -0.928191\n",
       "2     0.232048\n",
       "3     0.232048\n",
       "4    -0.928191\n",
       "5     1.392286\n",
       "6    -0.928191\n",
       "7    -0.928191\n",
       "8     0.232048\n",
       "9     1.392286\n",
       "10   -0.928191\n",
       "11    0.232048\n",
       "12    1.392286\n",
       "13   -0.928191\n",
       "14    1.392286\n",
       "0    -0.918034\n",
       "1    -0.918034\n",
       "2    -0.918034\n",
       "3    -0.918034\n",
       "4     0.333830\n",
       "5     0.333830\n",
       "6    -0.918034\n",
       "7    -0.918034\n",
       "8     0.333830\n",
       "9     1.585695\n",
       "10    0.333830\n",
       "11    1.585695\n",
       "12   -0.918034\n",
       "13    0.333830\n",
       "14    1.585695\n",
       "0    -0.831050\n",
       "1    -1.446643\n",
       "2     0.169288\n",
       "3     0.938779\n",
       "4     1.708270\n",
       "5    -0.600203\n",
       "6     0.477084\n",
       "7     0.246237\n",
       "8    -0.600203\n",
       "9     1.862168\n",
       "10   -0.677152\n",
       "11    0.784881\n",
       "12   -0.138508\n",
       "13   -1.061898\n",
       "14   -0.831050\n",
       "dtype: float64"
      ]
     },
     "execution_count": 29,
     "metadata": {},
     "output_type": "execute_result"
    }
   ],
   "source": [
    "S = (df['S']-df['S'].mean())/df['S'].std()\n",
    "O = (df['O']-df['O'].mean())/df['O'].std()\n",
    "E = (df['E']-df['E'].mean())/df['E'].std()\n",
    "Y = (df['Y']-df['Y'].mean())/df['Y'].std()\n",
    "C = (df['C']-df['C'].mean())/df['C'].std()\n",
    "\n"
   ]
  },
  {
   "cell_type": "code",
   "execution_count": 32,
   "metadata": {},
   "outputs": [
    {
     "name": "stdout",
     "output_type": "stream",
     "text": [
      "                            OLS Regression Results                            \n",
      "==============================================================================\n",
      "Dep. Variable:                      y   R-squared:                       0.814\n",
      "Model:                            OLS   Adj. R-squared:                  0.739\n",
      "Method:                 Least Squares   F-statistic:                     10.91\n",
      "Date:                Thu, 26 Dec 2024   Prob (F-statistic):            0.00114\n",
      "Time:                        18:21:53   Log-Likelihood:                -150.15\n",
      "No. Observations:                  15   AIC:                             310.3\n",
      "Df Residuals:                      10   BIC:                             313.8\n",
      "Df Model:                           4                                         \n",
      "Covariance Type:            nonrobust                                         \n",
      "==============================================================================\n",
      "                 coef    std err          t      P>|t|      [0.025      0.975]\n",
      "------------------------------------------------------------------------------\n",
      "x1          -348.6989    143.795     -2.425      0.036    -669.094     -28.304\n",
      "x2          6867.6449   2941.389      2.335      0.042     313.821    1.34e+04\n",
      "x3          9489.6052   2316.714      4.096      0.002    4327.645    1.47e+04\n",
      "x4             0.8057     22.029      0.037      0.972     -48.277      49.889\n",
      "const       1.159e+05   5.06e+04      2.289      0.045    3083.149    2.29e+05\n",
      "==============================================================================\n",
      "Omnibus:                        0.567   Durbin-Watson:                   2.193\n",
      "Prob(Omnibus):                  0.753   Jarque-Bera (JB):                0.177\n",
      "Skew:                          -0.258   Prob(JB):                        0.915\n",
      "Kurtosis:                       2.871   Cond. No.                     7.36e+04\n",
      "==============================================================================\n",
      "\n",
      "Notes:\n",
      "[1] Standard Errors assume that the covariance matrix of the errors is correctly specified.\n",
      "[2] The condition number is large, 7.36e+04. This might indicate that there are\n",
      "strong multicollinearity or other numerical problems.\n"
     ]
    },
    {
     "name": "stderr",
     "output_type": "stream",
     "text": [
      "C:\\Users\\raven\\AppData\\Local\\Packages\\PythonSoftwareFoundation.Python.3.11_qbz5n2kfra8p0\\LocalCache\\local-packages\\Python311\\site-packages\\scipy\\stats\\_axis_nan_policy.py:418: UserWarning: `kurtosistest` p-value may be inaccurate with fewer than 20 observations; only n=15 observations were given.\n",
      "  return hypotest_fun_in(*args, **kwds)\n"
     ]
    }
   ],
   "source": [
    "import statsmodels.api as sm\n",
    "\n",
    "X = [[2310, 2333, 2356, 2379, 2402, 2425, 2448, 2471, 2494, 2517, 2540, 2543, 2602, 2615, 2625],\n",
    "     [2, 2, 3, 3, 2, 4, 2, 2, 3, 4, 2, 3, 4, 2, 4],\n",
    "     [2, 2, 2, 2, 3, 3, 2, 2, 3, 4, 3, 4, 2, 3, 4],\n",
    "     [20, 12, 33, 43, 53, 23, 37, 34, 23, 55, 22, 41, 29, 17, 20]]\n",
    "\n",
    "y = [142000, 144000, 151000, 151000, 139000, 169000, 126000, 142000, 163000, 169000, 149000, 152000, 156000, 162000, 172000]\n",
    "\n",
    "def reg_m(y, x):\n",
    "    ones = np.ones(len(x[0]))\n",
    "    X = sm.add_constant(np.column_stack((x[0], ones)))\n",
    "    for ele in x[1:]:\n",
    "        X = sm.add_constant(np.column_stack((ele, X)))\n",
    "    results = sm.OLS(y, X).fit()\n",
    "    return results\n",
    "\n",
    "print(reg_m(y, X).summary())"
   ]
  },
  {
   "cell_type": "code",
   "execution_count": 51,
   "metadata": {},
   "outputs": [
    {
     "name": "stdout",
     "output_type": "stream",
     "text": [
      "                            OLS Regression Results                            \n",
      "==============================================================================\n",
      "Dep. Variable:                      y   R-squared:                       0.814\n",
      "Model:                            OLS   Adj. R-squared:                  0.739\n",
      "Method:                 Least Squares   F-statistic:                     10.91\n",
      "Date:                Thu, 26 Dec 2024   Prob (F-statistic):            0.00114\n",
      "Time:                        18:49:55   Log-Likelihood:                -150.15\n",
      "No. Observations:                  15   AIC:                             310.3\n",
      "Df Residuals:                      10   BIC:                             313.8\n",
      "Df Model:                           4                                         \n",
      "Covariance Type:            nonrobust                                         \n",
      "==============================================================================\n",
      "                 coef    std err          t      P>|t|      [0.025      0.975]\n",
      "------------------------------------------------------------------------------\n",
      "const       1.159e+05   5.06e+04      2.289      0.045    3083.149    2.29e+05\n",
      "x1             0.8057     22.029      0.037      0.972     -48.277      49.889\n",
      "x2          9489.6052   2316.714      4.096      0.002    4327.645    1.47e+04\n",
      "x3          6867.6449   2941.389      2.335      0.042     313.821    1.34e+04\n",
      "x4          -348.6989    143.795     -2.425      0.036    -669.094     -28.304\n",
      "==============================================================================\n",
      "Omnibus:                        0.567   Durbin-Watson:                   2.193\n",
      "Prob(Omnibus):                  0.753   Jarque-Bera (JB):                0.177\n",
      "Skew:                          -0.258   Prob(JB):                        0.915\n",
      "Kurtosis:                       2.871   Cond. No.                     7.36e+04\n",
      "==============================================================================\n",
      "\n",
      "Notes:\n",
      "[1] Standard Errors assume that the covariance matrix of the errors is correctly specified.\n",
      "[2] The condition number is large, 7.36e+04. This might indicate that there are\n",
      "strong multicollinearity or other numerical problems.\n"
     ]
    },
    {
     "name": "stderr",
     "output_type": "stream",
     "text": [
      "C:\\Users\\raven\\AppData\\Local\\Packages\\PythonSoftwareFoundation.Python.3.11_qbz5n2kfra8p0\\LocalCache\\local-packages\\Python311\\site-packages\\scipy\\stats\\_axis_nan_policy.py:418: UserWarning: `kurtosistest` p-value may be inaccurate with fewer than 20 observations; only n=15 observations were given.\n",
      "  return hypotest_fun_in(*args, **kwds)\n"
     ]
    }
   ],
   "source": [
    "import numpy as np\n",
    "import statsmodels.api as sm\n",
    "\n",
    "# Признаки (X) и целевая переменная (y)\n",
    "X = np.array([\n",
    "    [2310, 2333, 2356, 2379, 2402, 2425, 2448, 2471, 2494, 2517, 2540, 2543, 2602, 2615, 2625],\n",
    "    [2, 2, 3, 3, 2, 4, 2, 2, 3, 4, 2, 3, 4, 2, 4],\n",
    "    [2, 2, 2, 2, 3, 3, 2, 2, 3, 4, 3, 4, 2, 3, 4],\n",
    "    [20, 12, 33, 43, 53, 23, 37, 34, 23, 55, 22, 41, 29, 17, 20]\n",
    "]).T  # Транспонируем, чтобы каждый столбец стал отдельной переменной\n",
    "\n",
    "y = np.array([142000, 144000, 151000, 151000, 139000, 169000, 126000, 142000, 163000, 169000, 149000, 152000, 156000, 162000, 172000])\n",
    "\n",
    "# Добавляем столбец единиц для константы\n",
    "X = sm.add_constant(X)\n",
    "\n",
    "# Строим модель OLS (Обычные наименьшие квадраты)\n",
    "model = sm.OLS(y, X).fit()\n",
    "\n",
    "# Выводим результаты\n",
    "print(model.summary())"
   ]
  },
  {
   "cell_type": "code",
   "execution_count": 54,
   "metadata": {},
   "outputs": [
    {
     "data": {
      "text/plain": [
       "np.float64(0.26094322066133113)"
      ]
     },
     "execution_count": 54,
     "metadata": {},
     "output_type": "execute_result"
    }
   ],
   "source": [
    "model.predict([1, 2391, 3, 3, 15])\n",
    "1-model.rsquared_adj"
   ]
  },
  {
   "cell_type": "code",
   "execution_count": 40,
   "metadata": {},
   "outputs": [
    {
     "name": "stdout",
     "output_type": "stream",
     "text": [
      "                            OLS Regression Results                            \n",
      "==============================================================================\n",
      "Dep. Variable:                      y   R-squared:                       0.814\n",
      "Model:                            OLS   Adj. R-squared:                  0.739\n",
      "Method:                 Least Squares   F-statistic:                     10.91\n",
      "Date:                Thu, 26 Dec 2024   Prob (F-statistic):            0.00114\n",
      "Time:                        18:33:28   Log-Likelihood:                -150.15\n",
      "No. Observations:                  15   AIC:                             310.3\n",
      "Df Residuals:                      10   BIC:                             313.8\n",
      "Df Model:                           4                                         \n",
      "Covariance Type:            nonrobust                                         \n",
      "==============================================================================\n",
      "                 coef    std err          t      P>|t|      [0.025      0.975]\n",
      "------------------------------------------------------------------------------\n",
      "const       1.525e+05   1702.169     89.572      0.000    1.49e+05    1.56e+05\n",
      "x1            82.9170   2266.934      0.037      0.972   -4968.128    5133.962\n",
      "x2          8179.0111   1996.756      4.096      0.002    3729.961    1.26e+04\n",
      "x3          5485.9341   2349.607      2.335      0.042     250.683    1.07e+04\n",
      "x4         -4531.5528   1868.701     -2.425      0.036   -8695.279    -367.827\n",
      "==============================================================================\n",
      "Omnibus:                        0.567   Durbin-Watson:                   2.193\n",
      "Prob(Omnibus):                  0.753   Jarque-Bera (JB):                0.177\n",
      "Skew:                          -0.258   Prob(JB):                        0.915\n",
      "Kurtosis:                       2.871   Cond. No.                         2.34\n",
      "==============================================================================\n",
      "\n",
      "Notes:\n",
      "[1] Standard Errors assume that the covariance matrix of the errors is correctly specified.\n"
     ]
    },
    {
     "name": "stderr",
     "output_type": "stream",
     "text": [
      "C:\\Users\\raven\\AppData\\Local\\Packages\\PythonSoftwareFoundation.Python.3.11_qbz5n2kfra8p0\\LocalCache\\local-packages\\Python311\\site-packages\\scipy\\stats\\_axis_nan_policy.py:418: UserWarning: `kurtosistest` p-value may be inaccurate with fewer than 20 observations; only n=15 observations were given.\n",
      "  return hypotest_fun_in(*args, **kwds)\n"
     ]
    }
   ],
   "source": [
    "import numpy as np\n",
    "import statsmodels.api as sm\n",
    "\n",
    "# Признаки (X) и целевая переменная (y)\n",
    "X = np.array([\n",
    "    S.values,\n",
    "    O.values,\n",
    "    E.values,\n",
    "    Y.values\n",
    "]).T  # Транспонируем, чтобы каждый столбец стал отдельной переменной\n",
    "\n",
    "y = np.array([142000, 144000, 151000, 151000, 139000, 169000, 126000, 142000, 163000, 169000, 149000, 152000, 156000, 162000, 172000])\n",
    "\n",
    "# Добавляем столбец единиц для константы\n",
    "X = sm.add_constant(X)\n",
    "\n",
    "# Строим модель OLS (Обычные наименьшие квадраты)\n",
    "model = sm.OLS(y, X).fit()\n",
    "\n",
    "# Выводим результаты\n",
    "print(model.summary())"
   ]
  },
  {
   "cell_type": "code",
   "execution_count": 57,
   "metadata": {},
   "outputs": [
    {
     "name": "stdout",
     "output_type": "stream",
     "text": [
      "                            OLS Regression Results                            \n",
      "==============================================================================\n",
      "Dep. Variable:                      y   R-squared:                       0.814\n",
      "Model:                            OLS   Adj. R-squared:                  0.739\n",
      "Method:                 Least Squares   F-statistic:                     10.91\n",
      "Date:                Thu, 26 Dec 2024   Prob (F-statistic):            0.00114\n",
      "Time:                        19:10:05   Log-Likelihood:                -150.15\n",
      "No. Observations:                  15   AIC:                             310.3\n",
      "Df Residuals:                      10   BIC:                             313.8\n",
      "Df Model:                           4                                         \n",
      "Covariance Type:            nonrobust                                         \n",
      "==============================================================================\n",
      "                 coef    std err          t      P>|t|      [0.025      0.975]\n",
      "------------------------------------------------------------------------------\n",
      "const       1.525e+05   1702.169     89.572      0.000    1.49e+05    1.56e+05\n",
      "x1            80.1054   2190.067      0.037      0.972   -4799.667    4959.878\n",
      "x2          7901.6754   1929.050      4.096      0.002    3603.485    1.22e+04\n",
      "x3          5299.9158   2269.936      2.335      0.042     242.183    1.04e+04\n",
      "x4         -4377.8959   1805.337     -2.425      0.036   -8400.437    -355.355\n",
      "==============================================================================\n",
      "Omnibus:                        0.567   Durbin-Watson:                   2.193\n",
      "Prob(Omnibus):                  0.753   Jarque-Bera (JB):                0.177\n",
      "Skew:                          -0.258   Prob(JB):                        0.915\n",
      "Kurtosis:                       2.871   Cond. No.                         2.34\n",
      "==============================================================================\n",
      "\n",
      "Notes:\n",
      "[1] Standard Errors assume that the covariance matrix of the errors is correctly specified.\n"
     ]
    },
    {
     "name": "stderr",
     "output_type": "stream",
     "text": [
      "C:\\Users\\raven\\AppData\\Local\\Packages\\PythonSoftwareFoundation.Python.3.11_qbz5n2kfra8p0\\LocalCache\\local-packages\\Python311\\site-packages\\scipy\\stats\\_axis_nan_policy.py:418: UserWarning: `kurtosistest` p-value may be inaccurate with fewer than 20 observations; only n=15 observations were given.\n",
      "  return hypotest_fun_in(*args, **kwds)\n"
     ]
    }
   ],
   "source": [
    "import numpy as np\n",
    "import statsmodels.api as sm\n",
    "from sklearn.preprocessing import StandardScaler\n",
    "\n",
    "# Данные\n",
    "X = np.array([\n",
    "    [2310, 2333, 2356, 2379, 2402, 2425, 2448, 2471, 2494, 2517, 2540, 2543, 2602, 2615, 2625],\n",
    "    [2, 2, 3, 3, 2, 4, 2, 2, 3, 4, 2, 3, 4, 2, 4],\n",
    "    [2, 2, 2, 2, 3, 3, 2, 2, 3, 4, 3, 4, 2, 3, 4],\n",
    "    [20, 12, 33, 43, 53, 23, 37, 34, 23, 55, 22, 41, 29, 17, 20]\n",
    "]).T  # Транспонируем, чтобы каждая строка стала наблюдением, а каждый столбец - признаком\n",
    "\n",
    "y = np.array([142000, 144000, 151000, 151000, 139000, 169000, 126000, 142000, 163000, 169000, 149000, 152000, 156000, 162000, 172000])\n",
    "\n",
    "# Стандартизируем данные\n",
    "scaler = StandardScaler()\n",
    "X_standardized = scaler.fit_transform(X)\n",
    "\n",
    "# Добавляем столбец единиц для константы\n",
    "X_standardized = sm.add_constant(X_standardized)\n",
    "\n",
    "# Строим модель OLS (Обычные наименьшие квадраты)\n",
    "model = sm.OLS(y, X_standardized).fit()\n",
    "\n",
    "# Выводим результаты\n",
    "print(model.summary())"
   ]
  },
  {
   "cell_type": "code",
   "execution_count": 46,
   "metadata": {},
   "outputs": [
    {
     "name": "stdout",
     "output_type": "stream",
     "text": [
      "Критическое значение F для уровня значимости 0.05: 3.478049690765229\n"
     ]
    }
   ],
   "source": [
    "import scipy.stats as stats\n",
    "\n",
    "# Заданные параметры\n",
    "alpha = 0.05  # уровень значимости\n",
    "df1 = 4  # степень свободы числителя (например, число признаков)\n",
    "df2 = 15-df1-1  # степень свободы знаменателя (например, число наблюдений - число признаков - 1)\n",
    "\n",
    "# Вычисление критического значения F\n",
    "F_critical = stats.f.ppf(1 - alpha, df1, df2)\n",
    "print(f\"Критическое значение F для уровня значимости {alpha}: {F_critical}\")"
   ]
  },
  {
   "cell_type": "code",
   "execution_count": 56,
   "metadata": {},
   "outputs": [
    {
     "name": "stdout",
     "output_type": "stream",
     "text": [
      "0.03460780221242866\n"
     ]
    }
   ],
   "source": [
    "df = pd.DataFrame({\n",
    "    'Низкий': [25, 42],\n",
    "    'Нормальный': [50, 41], \n",
    "    'Высокий': [25, 17]\n",
    "}, index=['Городская', 'Сельская'])\n",
    "alpha = 0.05\n",
    "\n",
    "chi2_stat, p_value, dof, expected = stats.chi2_contingency(df)\n",
    "\n",
    "print(p_value)"
   ]
  },
  {
   "cell_type": "code",
   "execution_count": 61,
   "metadata": {},
   "outputs": [
    {
     "name": "stdout",
     "output_type": "stream",
     "text": [
      "55.41779897399644\n"
     ]
    }
   ],
   "source": [
    "alpha = 0.02\n",
    "std = 8\n",
    "E=2.5\n",
    "\n",
    "Z_alpha_2 = stats.norm.ppf(1 - alpha / 2)\n",
    "print(((Z_alpha_2*std)/E)**2)"
   ]
  },
  {
   "cell_type": "code",
   "execution_count": 63,
   "metadata": {},
   "outputs": [
    {
     "data": {
      "text/plain": [
       "np.float64(0.26682793200000005)"
      ]
     },
     "execution_count": 63,
     "metadata": {},
     "output_type": "execute_result"
    }
   ],
   "source": [
    "import scipy.stats as stats\n",
    "\n",
    "# Заданные параметры задачи\n",
    "n = 10  # количество бросков\n",
    "k = 7   # количество попаданий\n",
    "p = 0.7 # вероятность попадания\n",
    "\n",
    "# Вычисление вероятности с помощью биномиального распределения\n",
    "probability = stats.binom.pmf(k, n, p)\n",
    "probability"
   ]
  },
  {
   "cell_type": "code",
   "execution_count": null,
   "metadata": {},
   "outputs": [],
   "source": []
  }
 ],
 "metadata": {
  "kernelspec": {
   "display_name": "Python 3",
   "language": "python",
   "name": "python3"
  },
  "language_info": {
   "codemirror_mode": {
    "name": "ipython",
    "version": 3
   },
   "file_extension": ".py",
   "mimetype": "text/x-python",
   "name": "python",
   "nbconvert_exporter": "python",
   "pygments_lexer": "ipython3",
   "version": "3.11.9"
  }
 },
 "nbformat": 4,
 "nbformat_minor": 2
}
