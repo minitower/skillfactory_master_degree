{
 "cells": [
  {
   "cell_type": "markdown",
   "id": "0dee24c0-e9bf-427b-9b04-43e4c8220228",
   "metadata": {
    "id": "0dee24c0-e9bf-427b-9b04-43e4c8220228"
   },
   "source": [
    "# Домашнее задание"
   ]
  },
  {
   "cell_type": "markdown",
   "id": "feafcfd9-2d32-4682-bcd0-07a0c9bbd32c",
   "metadata": {
    "id": "feafcfd9-2d32-4682-bcd0-07a0c9bbd32c"
   },
   "source": [
    "Математический анализ\n",
    "69 баллов"
   ]
  },
  {
   "cell_type": "markdown",
   "id": "b2345ed9-1018-4084-9636-7e7b92bd6c64",
   "metadata": {
    "id": "b2345ed9-1018-4084-9636-7e7b92bd6c64"
   },
   "source": [
    "**Задача 1** (14 баллов)\n",
    "\n",
    "Найдите экстремумы функции:"
   ]
  },
  {
   "cell_type": "markdown",
   "id": "e25e75bf-9d1e-4511-8846-8bfe99ae17f8",
   "metadata": {
    "id": "e25e75bf-9d1e-4511-8846-8bfe99ae17f8"
   },
   "source": [
    "$$\n",
    "f(x, y, z)=2 x^3+2 x y+2 x z+y^2+z^2+2 y-8 .\n",
    "$$"
   ]
  },
  {
   "cell_type": "markdown",
   "id": "ce92b07d-f19e-4f72-ab80-d04d0bae9984",
   "metadata": {
    "id": "ce92b07d-f19e-4f72-ab80-d04d0bae9984"
   },
   "source": [
    "Распишите подробное решение."
   ]
  },
  {
   "cell_type": "markdown",
   "id": "5996df9b",
   "metadata": {},
   "source": [
    "# Задача 1 (ручное решение)\n",
    "Для нахождения экстремумов функции необходимо вычислить частные производные функции (для нахождения точек экстремума). Однако в критериях к задаче также стоит \"анализ второго порядка\", поэтому проведем и его для того, чтобы определить, чем являются данные точки экстремума: седловыми точками, точками минимума или максимума.\n",
    "1) Нахождение частных производных:\n",
    "    \n",
    "    Т. к. у нас в уравнении 3 переменных ($x, y, z$), то и частных производных должно быть тоже 3 ($\\frac{\\partial f}{\\partial x}$, $\\frac{\\partial f}{\\partial y}$, $\\frac{\\partial f}{\\partial z}$). Вычислим их:\n",
    "\n",
    "$$\\frac{\\partial f}{\\partial x} = (2x^3)'+(2xy)'+(2xz)'+(y^2)'+(z^2)'+(2y)'-(8)' = (6x^2)+(2y)+(2z)+0+0+0-0 = (6x^2)+(2y)+(2z)$$\n",
    "$$\\frac{\\partial f}{\\partial y} = (2x^3)'+(2xy)'+(2xz)'+(y^2)'+(z^2)'+(2y)'-(8)' = 0+(2x)+0+(2y)+0+2-0 = 2x+2y+2$$\n",
    "$$\\frac{\\partial f}{\\partial z} = (2x^3)'+(2xy)'+(2xz)'+(y^2)'+(z^2)'+(2y)'-(8)' = 0+0+(2x)+0+(2z)+0-0 = 2x+2z$$\n",
    "2) Найдем точки экстремума, приравняв частные производные $\\frac{\\partial f}{\\partial x}$, $\\frac{\\partial f}{\\partial y}$, $\\frac{\\partial f}{\\partial z}$ к нулю. Составим систему уравнений и решим ее:\n",
    "$$\\begin{cases} (6x^2)+(2y)+(2z)=0 \\\\ 2x+2y+2=0 \\\\ 2x+2z=0 \\end{cases}$$\n",
    "$$\\begin{cases} (6x^2)+(2y)+(2z)=0 \\\\ x=-y-1 \\\\ 2x+2z=0 \\end{cases}$$\n",
    "$$\\begin{cases} z=-3y^2-7y-3 \\\\ x=-y-1 \\\\ 2x+2z=0 \\end{cases}$$\n",
    "$$\\begin{cases} z=-3y^2-7y-3 \\\\ x=-y-1 \\\\ 2(-y-1)+2(-3y^2-7y-3)=0 \\end{cases}$$\n",
    "$$\\begin{cases} z=-3y^2-7y-3 \\\\ x=-y-1 \\\\ 3y^2+8y+4=0 \\end{cases}$$\n",
    "Получается 2 системы уравнений $y_1=-\\frac{2}{3}$ и $y_2=-2$, первая система:\n",
    "$$\\begin{cases} z=-3y^2-7y-3 \\\\ x=-y-1 \\\\ y=-\\frac{2}{3} \\end{cases}$$\n",
    "$$\\begin{cases} z=\\frac{1}{3} \\\\ x=-\\frac{1}{3} \\\\ y=-\\frac{2}{3} \\end{cases}$$\n",
    "Подставляем $y_2$ в систему:\n",
    "$$\\begin{cases} z=-3y^2-7y-3 \\\\ x=-y-1 \\\\ y=-2 \\end{cases}$$\n",
    "$$\\begin{cases} z=-1 \\\\ x=1 \\\\ y=-2 \\end{cases}$$\n",
    "Точки экстремума найдены в соотсветствие с решением на Python.\n",
    "3) Исследуем производные второго порядка. Т. к. у нас более одной переменной исследовать их следует через матрицу Гессе. Составим производные второго порядка:\n",
    "$$\\frac{\\partial^2 f}{\\partial xx} = (6x^2)'+(2y)'+(2z)' = (12x)+0+0 = 12x$$\n",
    "$$\\frac{\\partial^2 f}{\\partial xy} = (6x^2)'+(2y)'+(2z)' = 0+2+0 = 2$$\n",
    "$$\\frac{\\partial^2 f}{\\partial xz} = (6x^2)'+(2y)'+(2z)' = 0+0+2 = 2$$\n",
    "$$\\frac{\\partial^2 f}{\\partial yy} = (2x)'+(2y)'+(2)' = 0+2+0 = 2$$\n",
    "$$\\frac{\\partial^2 f}{\\partial yx} = (2x)'+(2y)'+(2)' = 2+0+0 = 2$$\n",
    "$$\\frac{\\partial^2 f}{\\partial yz} = (2x)'+(2y)'+(2)' = 0+0+0 = 0$$\n",
    "$$\\frac{\\partial^2 f}{\\partial zz} = (2x)'+(2z)' = 0+2 = 2$$\n",
    "$$\\frac{\\partial^2 f}{\\partial zx} = (2x)'+(2z)' = 2+0 = 2$$\n",
    "$$\\frac{\\partial^2 f}{\\partial zy} = (2x)'+(2z)' = 0+0 = 0$$\n",
    "4) Составим матрицу Гессе:\n",
    "$$H = \\left(\\begin{matrix}\n",
    "12x & 2 & 2\\\\ \n",
    "2 & 2 & 0\\\\\n",
    "2 & 0 & 2  \n",
    "\\end{matrix}\\right)$$\n",
    "5) Подставим значения в матрицу Гессе (т. к. точки экстремума 2, то и матрицы будет 2):\n",
    "$$H_1 = \\left(\\begin{matrix}\n",
    "12*-\\frac{1}{3} & 2 & 2\\\\ \n",
    "2 & 2 & 0\\\\\n",
    "2 & 0 & 2  \n",
    "\\end{matrix}\\right)=\\left(\\begin{matrix}\n",
    "-4 & 2 & 2\\\\ \n",
    "2 & 2 & 0\\\\\n",
    "2 & 0 & 2  \n",
    "\\end{matrix}\\right)$$\n",
    "$$H_2 = \\left(\\begin{matrix}\n",
    "12*1 & 2 & 2\\\\ \n",
    "2 & 2 & 0\\\\\n",
    "2 & 0 & 2  \n",
    "\\end{matrix}\\right)=\\left(\\begin{matrix}\n",
    "12 & 2 & 2\\\\ \n",
    "2 & 2 & 0\\\\\n",
    "2 & 0 & 2  \n",
    "\\end{matrix}\\right)$$\n",
    "6) Вычислим угловые миноры (опущу операции вычисления). Для матрицы $H_1$ они будут равны:\n",
    "$$D_1=-4, D_2=-12, D_3=-32$$\n",
    "Для матрицы $H_2$ они равны:\n",
    "$$D_1=12, D_2=20, D_3=32$$\n",
    "7) Сделаем выводы:\n",
    "\n",
    "Т. к. в первой точки значения все угловые миноры меньше 0, то можно говорить о том, что это **седловая точка**;\n",
    "\n",
    "Т. к. во второй точке значения все угловые миноры больше 0, то можно говорить о том, что это **точка минимума** функции."
   ]
  },
  {
   "cell_type": "markdown",
   "id": "acc75a02",
   "metadata": {},
   "source": [
    "# Задача 1 (решение на Python)"
   ]
  },
  {
   "cell_type": "code",
   "execution_count": 2,
   "id": "0eddb54d-58f6-47ed-bef4-cb262d500cbe",
   "metadata": {
    "id": "0eddb54d-58f6-47ed-bef4-cb262d500cbe"
   },
   "outputs": [
    {
     "name": "stdout",
     "output_type": "stream",
     "text": [
      "Производная df/dx:  6*x**2 + 2*y + 2*z\n",
      "Производная df/dy:  2*x + 2*y + 2\n",
      "Производная df/dz:  2*x + 2*z\n",
      "Точки экстремума функции [(-1/3, -2/3, 1/3), (1, -2, -1)]\n",
      "Производные второго порядка.\n",
      "Производная d2f/xx:  12*x\n",
      "Производная d2f/xy:  2\n",
      "Производная d2f/xz:  2\n",
      "Производная d2f/yy:  2\n",
      "Производная d2f/yx:  2\n",
      "Производная d2f/yz:  0\n",
      "Производная d2f/zz:  2\n",
      "Производная d2f/zx:  2\n",
      "Производная d2f/zy:  0\n",
      "Матрица Гессе:  Matrix([[12*x, 2, 2], [2, 2, 0], [2, 0, 2]])\n",
      "Матрица Гессе со значениями 1:  Matrix([[-4, 2, 2], [2, 2, 0], [2, 0, 2]])\n",
      "Матрица Гессе со значениями 2:  Matrix([[12, 2, 2], [2, 2, 0], [2, 0, 2]])\n",
      "Угловые миноры первой точки экстремума:  [-4, -12, -32]\n",
      "Угловые миноры второй точки экстремума:  [12, 20, 32]\n",
      "Выводы:\n",
      "Всего было найдено 2 точки экстремума:  [(-1/3, -2/3, 1/3), (1, -2, -1)]\n",
      "После анализа матрицы Гессе было выявлено, что первая точка имеет угловые миноры:  [-4, -12, -32]\n",
      "Т. к. все угловые миноры отрицательные можно говорить о том, что это седловая точка\n",
      "При анализе второй точки экстремума былои получены следующие угловые миноры:  [12, 20, 32]\n",
      "Т. к. все угловые миноры положительные, то можно говорить о том, что точка является точкой минимума.\n"
     ]
    }
   ],
   "source": [
    "import sympy as smp\n",
    "\n",
    "x, y, z = smp.symbols('x y z')\n",
    "f = 2 * x**3 + 2 * x * y + 2 * x * z + y**2 + z**2 + 2 * y - 8\n",
    "\n",
    "df_dx = smp.diff(f, x)\n",
    "df_dy = smp.diff(f, y)\n",
    "df_dz = smp.diff(f, z)\n",
    "print('Производная df/dx: ', df_dx)\n",
    "print('Производная df/dy: ', df_dy)\n",
    "print('Производная df/dz: ', df_dz)\n",
    "\n",
    "extremum_points = smp.solve([df_dx, df_dy, df_dz], (x, y, z))\n",
    "print('Точки экстремума функции', extremum_points)\n",
    "\n",
    "d2f_xx = smp.diff(df_dx, x) \n",
    "d2f_xy = smp.diff(df_dx, y)  \n",
    "d2f_xz = smp.diff(df_dx, z)  \n",
    "d2f_yy = smp.diff(df_dy, y)\n",
    "d2f_yx = smp.diff(df_dy, x)\n",
    "d2f_yz = smp.diff(df_dy, z)  \n",
    "d2f_zz = smp.diff(df_dz, z)\n",
    "d2f_zx = smp.diff(df_dz, x)\n",
    "d2f_zy = smp.diff(df_dz, y) \n",
    "print('Производные второго порядка.')\n",
    "print('Производная d2f/xx: ', d2f_xx)\n",
    "print('Производная d2f/xy: ', d2f_xy)\n",
    "print('Производная d2f/xz: ', d2f_xz)\n",
    "print('Производная d2f/yy: ', d2f_yy)\n",
    "print('Производная d2f/yx: ', d2f_yx)\n",
    "print('Производная d2f/yz: ', d2f_yz)\n",
    "print('Производная d2f/zz: ', d2f_zz)\n",
    "print('Производная d2f/zx: ', d2f_zx)\n",
    "print('Производная d2f/zy: ', d2f_zy)\n",
    "\n",
    "H = smp.Matrix([\n",
    "    [d2f_xx, d2f_xy, d2f_xz],\n",
    "    [d2f_xy, d2f_yy, d2f_yz],\n",
    "    [d2f_xz, d2f_yz, d2f_zz]\n",
    "])\n",
    "print('Матрица Гессе: ', H)\n",
    "\n",
    "H_point1 = H.subs({x: extremum_points[0][0], y: extremum_points[0][1], z: extremum_points[0][2]})\n",
    "H_point2 = H.subs({x: extremum_points[1][0], y: extremum_points[1][1], z: extremum_points[1][2]})\n",
    "print('Матрица Гессе со значениями 1: ', H_point1)\n",
    "print('Матрица Гессе со значениями 2: ', H_point2)\n",
    "\n",
    "D11 = H_point1[0, 0] \n",
    "D12 = H_point1[:2, :2].det()\n",
    "D13 = H_point1.det()\n",
    "print('Угловые миноры первой точки экстремума: ', [D11, D12, D13])\n",
    "\n",
    "D21 = H_point2[0, 0]\n",
    "D22 = H_point2[:2, :2].det()\n",
    "D23 = H_point2.det()\n",
    "print('Угловые миноры второй точки экстремума: ', [D21, D22, D23])\n",
    "print('Выводы:')\n",
    "print('Всего было найдено 2 точки экстремума: ', extremum_points)\n",
    "print('После анализа матрицы Гессе было выявлено, что первая точка имеет угловые миноры: ', [D11, D12, D13])\n",
    "print('Т. к. все угловые миноры отрицательные можно говорить о том, что это седловая точка')\n",
    "print('При анализе второй точки экстремума былои получены следующие угловые миноры: ', [D21, D22, D23])\n",
    "print('Т. к. все угловые миноры положительные, то можно говорить о том, что точка является точкой минимума.')"
   ]
  },
  {
   "cell_type": "markdown",
   "id": "b38584b7-0da5-4858-9422-ff5bc2b3854f",
   "metadata": {
    "id": "b38584b7-0da5-4858-9422-ff5bc2b3854f"
   },
   "source": [
    "**Задача 2** (25 баллов)\n",
    "\n",
    "Найдите условные экстремумы функции:"
   ]
  },
  {
   "cell_type": "markdown",
   "id": "b36ed820-965b-484d-baab-b2cafebe7479",
   "metadata": {
    "id": "b36ed820-965b-484d-baab-b2cafebe7479"
   },
   "source": [
    "$$\n",
    "f(x, y)=4 x+8 y, y^2-2 x y+5=0\n",
    "$$"
   ]
  },
  {
   "cell_type": "markdown",
   "id": "2ce1c6f1-d126-4368-a63e-2bbbefffd542",
   "metadata": {
    "id": "2ce1c6f1-d126-4368-a63e-2bbbefffd542"
   },
   "source": [
    "Вычислите результат самостоятельно (вручную) и с помощью Python. Сравните результаты."
   ]
  },
  {
   "cell_type": "markdown",
   "id": "658d8ffe",
   "metadata": {},
   "source": [
    "# Задача 2 (ручное решение)\n",
    "Имеем функцию $f(x, y) = 4x+8y$, для которой необходимо найти точки экстремума, а также функцию ограничений $g(x, y)$ вида: $y^2-2xy+5$.\n",
    "Для нахождения экстремумов функции с указанным ограничениями необходимо:\n",
    "1) Построить функцию Лагранжа следующего вида:\n",
    "$$\\mathcal L (x, y, \\lambda) = f(x,y)+\\lambda (g(x, y)-c)$$\n",
    "Подставим значения в уравнения:\n",
    "$$\\mathcal L (x, y, \\lambda) = 4x+8y+\\lambda (y^2-2xy+5-0)$$\n",
    "\n",
    "2) Найдем частные производные всех переменных:\n",
    "$$\\mathcal L'_x = (4x+8y+\\lambda y^2- \\lambda 2xy+ \\lambda 5)' = 4- 2 \\lambda y$$\n",
    "$$\\mathcal L'_y = (4x+8y+\\lambda y^2- \\lambda 2xy+ \\lambda 5)' = 8 + 2 \\lambda y - 2\\lambda x$$\n",
    "$$\\mathcal L'_\\lambda = (4x+8y+\\lambda y^2- \\lambda 2xy+ \\lambda 5)' = y^2-2xy+5$$\n",
    "\n",
    "3) Приравняем частные производные к нулю и решим систему уравнений:\n",
    "$$\\begin{cases} 4- 2 \\lambda y=0 \\\\ 8 + 2 \\lambda y - 2\\lambda x=0 \\\\ y^2-2xy+5=0 \\end{cases}$$\n",
    "$$\\begin{cases} y=\\frac{2}{\\lambda} \\\\ 8 + 2 \\lambda y - 2\\lambda x=0 \\\\ y^2-2xy+5=0 \\end{cases}$$\n",
    "$$\\begin{cases} y=\\frac{2}{\\lambda} \\\\ 12-2x\\lambda =0 \\\\ -\\frac{4x}{\\lambda }+\\frac{4}{\\lambda^2}+5=0\\end{cases}$$\n",
    "$$\\begin{cases} y=\\frac{2}{\\lambda} \\\\ x=\\frac{6}{\\lambda} \\\\ -\\frac{4x}{\\lambda}+\\frac{4}{\\lambda^2}+5=0\\end{cases}$$\n",
    "$$\\begin{cases} y=\\frac{2}{\\lambda} \\\\ x=\\frac{6}{\\lambda} \\\\ 5-\\frac{20}{\\lambda^2}=0\\end{cases}$$\n",
    "$$\\begin{cases} y=\\frac{2}{\\lambda} \\\\ x=\\frac{6}{\\lambda} \\\\ \\frac{\\lambda^2-4}{\\lambda^2}=0\\end{cases}$$\n",
    "Из уравнения 3 получаем, что $\\lambda^2=4$, следовательно, имеем 2 корня: $\\lambda_1=2, \\lambda_2=-2$. Решаем 2 системы (первая система):\n",
    "$$\\begin{cases} y=\\frac{2}{2} \\\\ x=\\frac{6}{2} \\\\ \\lambda=2\\end{cases}$$\n",
    "$$\\begin{cases} y=1 \\\\ x=3 \\\\ \\lambda=2\\end{cases}$$\n",
    "Решаем вторую систему:\n",
    "$$\\begin{cases} y=\\frac{2}{-2} \\\\ x=\\frac{6}{-2} \\\\ \\lambda=-2\\end{cases}$$\n",
    "$$\\begin{cases} y=-1 \\\\ x=-3 \\\\ \\lambda=-2\\end{cases}$$\n",
    "4) Для определения точки минимума и максимума найдем значения целевой функции в данных точках:\n",
    "$$f(3, 1) = 4*3+8*1 = 20$$\n",
    "$$f(-3, -1) = 4*(-3)+8*(-1) = -20$$\n",
    "5) Делаем вывод о том, что точка $(3, 1)$ является точкой локального максимума, тогда как точка $(-3, -1)$ является точкой локального минимума"
   ]
  },
  {
   "cell_type": "code",
   "execution_count": 3,
   "id": "818929f6-c478-49ad-997e-536d3c4f7f33",
   "metadata": {
    "id": "818929f6-c478-49ad-997e-536d3c4f7f33"
   },
   "outputs": [
    {
     "name": "stdout",
     "output_type": "stream",
     "text": [
      "Частная производная по x:  -2*l*y + 4\n",
      "Частная производная по y:  l*(-2*x + 2*y) + 8\n",
      "Частная производная по lambda:  -2*x*y + y**2 + 5\n",
      "Точки экстремума:  [(-3, -1, -2), (3, 1, 2)]\n",
      "Точка  (-3, -1) :  -20\n",
      "Точка 2  (3, 1) :  20\n",
      "Точка  (-3, -1) является точкой условного минимума, точка  (3, 1)  - точкой локального максимума\n"
     ]
    }
   ],
   "source": [
    "x, y, lam = smp.symbols('x y l')\n",
    "\n",
    "# make function\n",
    "f = 4*x + 8*y\n",
    "g = y**2 - 2*x*y + 5\n",
    "\n",
    "# Lagrange\n",
    "L = f + lam * g\n",
    "\n",
    "# partial derivative\n",
    "dL_dx = smp.diff(L, x)\n",
    "dL_dy = smp.diff(L, y) \n",
    "dL_dlam = smp.diff(L, lam)\n",
    "print('Частная производная по x: ', dL_dx)\n",
    "print('Частная производная по y: ', dL_dy)\n",
    "print('Частная производная по lambda: ', dL_dlam)\n",
    "\n",
    "# equate to zero\n",
    "system = smp.solve([dL_dx, dL_dy, dL_dlam], (x, y, lam))\n",
    "print('Точки экстремума: ', system)\n",
    "\n",
    "# make result\n",
    "point_1 = f.subs({x: system[0][0], y: system[0][1]})\n",
    "point_2 = f.subs({x: system[1][0], y: system[1][1]})\n",
    "print('Точка ', (system[0][0], system[0][1]),': ', point_1)\n",
    "print('Точка 2 ', (system[1][0], system[1][1]),': ', point_2)\n",
    "\n",
    "# conclusion\n",
    "if point_1<point_2:\n",
    "    print('Точка ', (system[0][0], system[0][1]), 'является точкой условного минимума, точка ', (system[1][0], system[1][1]), ' - точкой локального максимума')\n",
    "else:\n",
    "    print('Точка ', (system[0][0], system[0][1]), 'является точкой условного максимума, точка ', (system[1][0], system[1][1]), ' - точкой локального минимума')"
   ]
  },
  {
   "cell_type": "markdown",
   "id": "48eebf34",
   "metadata": {},
   "source": [
    "## Сравнение решений (в ручном виде и на Python)\n",
    "Оба решения показали один и тот же результат, что подтверждает их валидность\n",
    "## Итоговые выводы\n",
    "У данных функций получилось найти 2 точки экстремума:\n",
    "- Точка $(3, 1)$ является точкой локального максимума;\n",
    "- Точка $(-3, -1)$ является точкой локального минимума"
   ]
  },
  {
   "cell_type": "markdown",
   "id": "818083c3-7318-4669-bb15-5a8a48ef543d",
   "metadata": {
    "id": "818083c3-7318-4669-bb15-5a8a48ef543d"
   },
   "source": [
    "**Задача 3** (30 баллов)\n",
    "\n",
    "Вам предложены данные с информацией о успеваемости студентов:\n",
    "\n",
    "Независимые переменные:\n",
    "* Hours Studied: Общее количество часов, потраченных на учебу каждым студентом.\n",
    "* Previous Scores: Баллы, полученные студентами на предыдущих экзаменах.\n",
    "* Sleep Hours: Среднее количество часов сна студента в сутки.\n",
    "* Sample Question Papers Practiced: Количество пробных экзаменационных работ, с которыми студент занимался.\n",
    "  \n",
    "Целевая переменная:\n",
    "* Performance Index: Показатель общей успеваемости каждого студента. Индекс успеваемости отражает академическую успеваемость студента и округляется до ближайшего целого числа. Индекс варьируется от 10 до 100, при этом более высокие значения свидетельствуют о более высокой успеваемости."
   ]
  },
  {
   "cell_type": "markdown",
   "id": "f65c2300-43b2-4c43-b762-1e20d29ae889",
   "metadata": {
    "id": "f65c2300-43b2-4c43-b762-1e20d29ae889"
   },
   "source": [
    "**Решите задачу линейной регрессии, реализовав градиентный спуск самостоятельно, не используя готовое решение из какой-либо библиотеки.**"
   ]
  },
  {
   "cell_type": "markdown",
   "id": "f0d84006",
   "metadata": {},
   "source": [
    "# Решение 1 (без учета Extracurricular Activities)\n",
    "Т. к. столбец не указан в задаче, то не будем использовать его в качестве независимой переменной"
   ]
  },
  {
   "cell_type": "code",
   "execution_count": null,
   "id": "3900c065-fb9b-45bf-bc1f-a9c9d0ab5c20",
   "metadata": {
    "id": "3900c065-fb9b-45bf-bc1f-a9c9d0ab5c20"
   },
   "outputs": [
    {
     "name": "stdout",
     "output_type": "stream",
     "text": [
      "[[-16.289]\n",
      " [  2.507]\n",
      " [  0.913]\n",
      " [ -0.568]\n",
      " [ -0.049]]\n"
     ]
    }
   ],
   "source": [
    "import pandas as pd\n",
    "import numpy as np\n",
    "\n",
    "df = pd.read_csv('./data/Student_Performance.csv')\n",
    "columns = ['Hours Studied', 'Previous Scores', 'Sleep Hours', 'Sample Question Papers Practiced']\n",
    "X = df[columns]\n",
    "y = df['Performance Index']\n",
    "n = len(y)\n",
    "X = np.append(np.ones((n,1)), X.values.reshape(n,len(columns)), axis = 1)\n",
    "y = y.values.reshape(n,1)\n",
    "par = np.zeros((len(columns)+1,1))\n",
    "\n",
    "def find_na_values(df):\n",
    "    na=0\n",
    "    for i in df.columns:\n",
    "        if len(df[i].loc[df[i].isna()==True])>0:\n",
    "            print(f'Find na values at {i} column!')\n",
    "            na=1\n",
    "    if na==0:\n",
    "        print('No na values in dataset!')\n",
    "\n",
    "def cost_function(X, y , par):\n",
    "    y_pred = np.dot(X, par)\n",
    "    error = (y_pred - y)**2\n",
    "    cost = 1/(n)*np.sum(error)\n",
    "    return cost\n",
    "\n",
    "def grad_d(X,y, par, alpha, iterations, eps=0.001):\n",
    "    costs = []\n",
    "    for _ in range(iterations):\n",
    "        y_pred = np.dot(X, par)\n",
    "        der = np.dot (X.transpose(), (y_pred - y))/ n\n",
    "        par -= alpha * der\n",
    "        costs.append(cost_function(X,y, par))\n",
    "        if np.linalg.norm(der) < eps:\n",
    "            break\n",
    "    return par, costs\n",
    "\n",
    "par, costs = grad_d(X,y, par, 0.00005, 500000)\n",
    "print(par.round(3))"
   ]
  },
  {
   "cell_type": "code",
   "execution_count": 13,
   "id": "947748fb",
   "metadata": {},
   "outputs": [
    {
     "name": "stdout",
     "output_type": "stream",
     "text": [
      "No na values in dataset!\n"
     ]
    }
   ],
   "source": [
    "\n",
    "find_na_values(df)"
   ]
  },
  {
   "cell_type": "code",
   "execution_count": 11,
   "id": "46ea4004",
   "metadata": {},
   "outputs": [
    {
     "data": {
      "text/plain": [
       "Series([], Name: Hours Studied, dtype: int64)"
      ]
     },
     "execution_count": 11,
     "metadata": {},
     "output_type": "execute_result"
    }
   ],
   "source": [
    "i = df.columns[0]\n",
    "df[i].loc[df[i].isna()==True]"
   ]
  },
  {
   "cell_type": "code",
   "execution_count": null,
   "id": "9c64b6b2",
   "metadata": {},
   "outputs": [],
   "source": []
  }
 ],
 "metadata": {
  "colab": {
   "provenance": []
  },
  "kernelspec": {
   "display_name": "Python 3",
   "language": "python",
   "name": "python3"
  },
  "language_info": {
   "codemirror_mode": {
    "name": "ipython",
    "version": 3
   },
   "file_extension": ".py",
   "mimetype": "text/x-python",
   "name": "python",
   "nbconvert_exporter": "python",
   "pygments_lexer": "ipython3",
   "version": "3.11.9"
  }
 },
 "nbformat": 4,
 "nbformat_minor": 5
}
