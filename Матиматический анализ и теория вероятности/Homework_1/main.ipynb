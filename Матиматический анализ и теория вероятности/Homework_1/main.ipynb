{
 "cells": [
  {
   "cell_type": "markdown",
   "id": "0dee24c0-e9bf-427b-9b04-43e4c8220228",
   "metadata": {
    "id": "0dee24c0-e9bf-427b-9b04-43e4c8220228"
   },
   "source": [
    "# Домашнее задание"
   ]
  },
  {
   "cell_type": "markdown",
   "id": "feafcfd9-2d32-4682-bcd0-07a0c9bbd32c",
   "metadata": {
    "id": "feafcfd9-2d32-4682-bcd0-07a0c9bbd32c"
   },
   "source": [
    "Математический анализ\n",
    "69 баллов"
   ]
  },
  {
   "cell_type": "markdown",
   "id": "b2345ed9-1018-4084-9636-7e7b92bd6c64",
   "metadata": {
    "id": "b2345ed9-1018-4084-9636-7e7b92bd6c64"
   },
   "source": [
    "**Задача 1** (14 баллов)\n",
    "\n",
    "Найдите экстремумы функции:"
   ]
  },
  {
   "cell_type": "markdown",
   "id": "e25e75bf-9d1e-4511-8846-8bfe99ae17f8",
   "metadata": {
    "id": "e25e75bf-9d1e-4511-8846-8bfe99ae17f8"
   },
   "source": [
    "$$\n",
    "f(x, y, z)=2 x^3+2 x y+2 x z+y^2+z^2+2 y-8 .\n",
    "$$"
   ]
  },
  {
   "cell_type": "markdown",
   "id": "ce92b07d-f19e-4f72-ab80-d04d0bae9984",
   "metadata": {
    "id": "ce92b07d-f19e-4f72-ab80-d04d0bae9984"
   },
   "source": [
    "Распишите подробное решение."
   ]
  },
  {
   "cell_type": "code",
   "execution_count": 1,
   "id": "0eddb54d-58f6-47ed-bef4-cb262d500cbe",
   "metadata": {
    "id": "0eddb54d-58f6-47ed-bef4-cb262d500cbe"
   },
   "outputs": [
    {
     "name": "stdout",
     "output_type": "stream",
     "text": [
      "Производная df/dx:  6*x**2 + 2*y + 2*z\n",
      "Производная df/dy:  2*x + 2*y + 2\n",
      "Производная df/dz:  2*x + 2*z\n",
      "Точки экстремума функции [(-1/3, -2/3, 1/3), (1, -2, -1)]\n",
      "Производные второго порядка.\n",
      "Производная d2f/xx:  12*x\n",
      "Производная d2f/xy:  2\n",
      "Производная d2f/xz:  2\n",
      "Производная d2f/yy:  2\n",
      "Производная d2f/yx:  2\n",
      "Производная d2f/yz:  0\n",
      "Производная d2f/zz:  2\n",
      "Производная d2f/zx:  2\n",
      "Производная d2f/zy:  0\n",
      "Матрица Гессе:  Matrix([[12*x, 2, 2], [2, 2, 0], [2, 0, 2]])\n",
      "Угловые миноры первой точки экстремума:  [-4, -12, -32]\n",
      "Угловые миноры второй точки экстремума:  [12, 20, 32]\n",
      "Выводы:\n",
      "Всего было найдено 2 точки экстремума:  [(-1/3, -2/3, 1/3), (1, -2, -1)]\n",
      "После анализа матрицы Гессе было выявлено, что первая точка имеет угловые миноры:  [-4, -12, -32]\n",
      "Т. к. все угловые миноры отрицательные можно говорить о том, что это седловая точка\n",
      "При анализе второй точки экстремума былои получены следующие угловые миноры:  [12, 20, 32]\n",
      "Т. к. все угловые миноры положительные, то можно говорить о том, что точка является точкой минимума.\n"
     ]
    }
   ],
   "source": [
    "import sympy as smp\n",
    "\n",
    "x, y, z = smp.symbols('x y z')\n",
    "f = 2 * x**3 + 2 * x * y + 2 * x * z + y**2 + z**2 + 2 * y - 8\n",
    "\n",
    "df_dx = smp.diff(f, x)\n",
    "df_dy = smp.diff(f, y)\n",
    "df_dz = smp.diff(f, z)\n",
    "print('Производная df/dx: ', df_dx)\n",
    "print('Производная df/dy: ', df_dy)\n",
    "print('Производная df/dz: ', df_dz)\n",
    "\n",
    "extremum_points = smp.solve([df_dx, df_dy, df_dz], (x, y, z))\n",
    "print('Точки экстремума функции', extremum_points)\n",
    "\n",
    "d2f_xx = smp.diff(df_dx, x) \n",
    "d2f_xy = smp.diff(df_dx, y)  \n",
    "d2f_xz = smp.diff(df_dx, z)  \n",
    "d2f_yy = smp.diff(df_dy, y)\n",
    "d2f_yx = smp.diff(df_dy, x)\n",
    "d2f_yz = smp.diff(df_dy, z)  \n",
    "d2f_zz = smp.diff(df_dz, z)\n",
    "d2f_zx = smp.diff(df_dz, x)\n",
    "d2f_zy = smp.diff(df_dz, y) \n",
    "print('Производные второго порядка.')\n",
    "print('Производная d2f/xx: ', d2f_xx)\n",
    "print('Производная d2f/xy: ', d2f_xy)\n",
    "print('Производная d2f/xz: ', d2f_xz)\n",
    "print('Производная d2f/yy: ', d2f_yy)\n",
    "print('Производная d2f/yx: ', d2f_yx)\n",
    "print('Производная d2f/yz: ', d2f_yz)\n",
    "print('Производная d2f/zz: ', d2f_zz)\n",
    "print('Производная d2f/zx: ', d2f_zx)\n",
    "print('Производная d2f/zy: ', d2f_zy)\n",
    "\n",
    "H = smp.Matrix([\n",
    "    [d2f_xx, d2f_xy, d2f_xz],\n",
    "    [d2f_xy, d2f_yy, d2f_yz],\n",
    "    [d2f_xz, d2f_yz, d2f_zz]\n",
    "])\n",
    "print('Матрица Гессе: ', H)\n",
    "\n",
    "H_point1 = H.subs({x: extremum_points[0][0], y: extremum_points[0][1], z: extremum_points[0][2]})\n",
    "H_point2 = H.subs({x: extremum_points[1][0], y: extremum_points[1][1], z: extremum_points[1][2]})\n",
    "\n",
    "D11 = H_point1[0, 0] \n",
    "D12 = H_point1[:2, :2].det()\n",
    "D13 = H_point1.det()\n",
    "print('Угловые миноры первой точки экстремума: ', [D11, D12, D13])\n",
    "\n",
    "D21 = H_point2[0, 0]\n",
    "D22 = H_point2[:2, :2].det()\n",
    "D23 = H_point2.det()\n",
    "print('Угловые миноры второй точки экстремума: ', [D21, D22, D23])\n",
    "print('Выводы:')\n",
    "print('Всего было найдено 2 точки экстремума: ', extremum_points)\n",
    "print('После анализа матрицы Гессе было выявлено, что первая точка имеет угловые миноры: ', [D11, D12, D13])\n",
    "print('Т. к. все угловые миноры отрицательные можно говорить о том, что это седловая точка')\n",
    "print('При анализе второй точки экстремума былои получены следующие угловые миноры: ', [D21, D22, D23])\n",
    "print('Т. к. все угловые миноры положительные, то можно говорить о том, что точка является точкой минимума.')"
   ]
  },
  {
   "cell_type": "markdown",
   "id": "9cc1cb18",
   "metadata": {},
   "source": [
    "# Задача 1 (ручное решение)\n",
    "Для нахождения экстремумов функции необходимо вычислить частные производные функции (для нахождения точек экстремума). Однако в критериях к задаче также стоит \"анализ второго порядка\", поэтому проведем и его для того, чтобы определить, чем являются данные точки экстремума: седловыми точками, точками минимума или максимума.\n",
    "1) Нахождение частных производных:\n",
    "    \n",
    "    Т. к. у нас в уравнении 3 переменных ($x, y, z$), то и частных производных должно быть тоже 3 ($\\frac{\\partial f}{\\partial x}$, $\\frac{\\partial f}{\\partial y}$, $\\frac{\\partial f}{\\partial z}$). Вычислим их:\n",
    "\n",
    "$$\\frac{\\partial f}{\\partial x} = (2x^3)'+(2xy)'+(2xz)'+(y^2)'+(z^2)'+(2y)'-(8)' = (6x^2)+(2y)+(2z)+0+0+0-0 = (6x^2)+(2y)+(2z)$$\n",
    "$$\\frac{\\partial f}{\\partial y} = (2x^3)'+(2xy)'+(2xz)'+(y^2)'+(z^2)'+(2y)'-(8)' = 0+(2x)+0+(2y)+0+2-0 = 2x+2y+2$$\n",
    "$$\\frac{\\partial f}{\\partial z} = (2x^3)'+(2xy)'+(2xz)'+(y^2)'+(z^2)'+(2y)'-(8)' = 0+0+(2x)+0+(2z)+0-0 = 2x+2z$$\n",
    "Составим систему уравнений и решим ее:\n",
    "$$\\begin{cases} (6x^2)+(2y)+(2z)=0 \\\\ 2x+2y+2=0 \\\\ 2x+2z=0 \\end{cases}$$\n",
    "$$\\begin{cases} (6x^2)+(2y)+(2z)=0 \\\\ x=-y-1 \\\\ 2x+2z=0 \\end{cases}$$"
   ]
  },
  {
   "cell_type": "markdown",
   "id": "b38584b7-0da5-4858-9422-ff5bc2b3854f",
   "metadata": {
    "id": "b38584b7-0da5-4858-9422-ff5bc2b3854f"
   },
   "source": [
    "**Задача 2** (25 баллов)\n",
    "\n",
    "Найдите условные экстремумы функции:"
   ]
  },
  {
   "cell_type": "markdown",
   "id": "b36ed820-965b-484d-baab-b2cafebe7479",
   "metadata": {
    "id": "b36ed820-965b-484d-baab-b2cafebe7479"
   },
   "source": [
    "$$\n",
    "f(x, y)=4 x+8 y, y^2-2 x y+5=0\n",
    "$$"
   ]
  },
  {
   "cell_type": "markdown",
   "id": "2ce1c6f1-d126-4368-a63e-2bbbefffd542",
   "metadata": {
    "id": "2ce1c6f1-d126-4368-a63e-2bbbefffd542"
   },
   "source": [
    "Вычислите результат самостоятельно (вручную) и с помощью Python. Сравните результаты."
   ]
  },
  {
   "cell_type": "code",
   "execution_count": null,
   "id": "818929f6-c478-49ad-997e-536d3c4f7f33",
   "metadata": {
    "id": "818929f6-c478-49ad-997e-536d3c4f7f33"
   },
   "outputs": [],
   "source": []
  },
  {
   "cell_type": "markdown",
   "id": "818083c3-7318-4669-bb15-5a8a48ef543d",
   "metadata": {
    "id": "818083c3-7318-4669-bb15-5a8a48ef543d"
   },
   "source": [
    "**Задача 3** (30 баллов)\n",
    "\n",
    "Вам предложены данные с информацией о успеваемости студентов:\n",
    "\n",
    "Независимые переменные:\n",
    "* Hours Studied: Общее количество часов, потраченных на учебу каждым студентом.\n",
    "* Previous Scores: Баллы, полученные студентами на предыдущих экзаменах.\n",
    "* Sleep Hours: Среднее количество часов сна студента в сутки.\n",
    "* Sample Question Papers Practiced: Количество пробных экзаменационных работ, с которыми студент занимался.\n",
    "  \n",
    "Целевая переменная:\n",
    "* Performance Index: Показатель общей успеваемости каждого студента. Индекс успеваемости отражает академическую успеваемость студента и округляется до ближайшего целого числа. Индекс варьируется от 10 до 100, при этом более высокие значения свидетельствуют о более высокой успеваемости."
   ]
  },
  {
   "cell_type": "markdown",
   "id": "f65c2300-43b2-4c43-b762-1e20d29ae889",
   "metadata": {
    "id": "f65c2300-43b2-4c43-b762-1e20d29ae889"
   },
   "source": [
    "**Решите задачу линейной регрессии, реализовав градиентный спуск самостоятельно, не используя готовое решение из какой-либо библиотеки.**"
   ]
  },
  {
   "cell_type": "code",
   "execution_count": null,
   "id": "3900c065-fb9b-45bf-bc1f-a9c9d0ab5c20",
   "metadata": {
    "id": "3900c065-fb9b-45bf-bc1f-a9c9d0ab5c20"
   },
   "outputs": [],
   "source": []
  }
 ],
 "metadata": {
  "colab": {
   "provenance": []
  },
  "kernelspec": {
   "display_name": "Python 3",
   "language": "python",
   "name": "python3"
  },
  "language_info": {
   "codemirror_mode": {
    "name": "ipython",
    "version": 3
   },
   "file_extension": ".py",
   "mimetype": "text/x-python",
   "name": "python",
   "nbconvert_exporter": "python",
   "pygments_lexer": "ipython3",
   "version": "3.11.9"
  }
 },
 "nbformat": 4,
 "nbformat_minor": 5
}
