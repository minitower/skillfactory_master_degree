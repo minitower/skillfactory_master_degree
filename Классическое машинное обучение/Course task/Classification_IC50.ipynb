{
 "cells": [
  {
   "cell_type": "code",
   "execution_count": 1,
   "id": "0dfc88e2",
   "metadata": {},
   "outputs": [],
   "source": [
    "import pandas as pd\n",
    "import numpy as np\n",
    "import matplotlib.pyplot as plt\n",
    "import seaborn as sns\n",
    "from sklearn.ensemble import RandomForestRegressor, GradientBoostingRegressor, RandomForestClassifier\n",
    "from sklearn.model_selection import GridSearchCV, train_test_split\n",
    "from sklearn.metrics import mean_absolute_error, r2_score, confusion_matrix, classification_report\n",
    "from sklearn.feature_selection import SelectFromModel\n",
    "from xgboost import XGBRegressor, XGBClassifier\n",
    "from sklearn.impute import SimpleImputer\n",
    "from sklearn.preprocessing import StandardScaler\n",
    "from sklearn.pipeline import Pipeline, make_pipeline\n",
    "# Настройка визуализаций\n",
    "%matplotlib inline\n",
    "df = pd.read_excel('data/data.xlsx', index_col='Unnamed: 0')\n",
    "# т. к. пустых значений не много, а заполнять их не представляется возможным - удаляем их\n",
    "df.dropna(how='any', inplace=True)"
   ]
  },
  {
   "cell_type": "markdown",
   "id": "aa0c3745",
   "metadata": {},
   "source": [
    "# Классификация: превышает ли значение IC50 медианное значение выборки"
   ]
  },
  {
   "cell_type": "code",
   "execution_count": 2,
   "id": "09354895",
   "metadata": {},
   "outputs": [],
   "source": [
    "# Создадим столбец, который будет содержать 2 поля: 1 если значение превышает медиану и \n",
    "# 0 в обратном случае\n",
    "df['Class_1'] = [np.nan]*len(df)\n",
    "df.loc[df['IC50, mM']>=df['IC50, mM'].median(), 'Class_1'] = 1\n",
    "df.loc[df['IC50, mM']<df['IC50, mM'].median(), 'Class_1'] = 0\n",
    "X = df.drop(['IC50, mM', 'CC50, mM', 'SI', 'Class_1'], axis=1)\n",
    "y = df['Class_1']"
   ]
  },
  {
   "cell_type": "code",
   "execution_count": 3,
   "id": "0153b8be",
   "metadata": {},
   "outputs": [
    {
     "name": "stdout",
     "output_type": "stream",
     "text": [
      "Всего отобрано признаков: 105\n"
     ]
    }
   ],
   "source": [
    "# Отбор важных признаков\n",
    "selector_forest = SelectFromModel(\n",
    "    RandomForestClassifier(n_estimators=100),\n",
    "    threshold=\"median\"\n",
    ")\n",
    "selector_forest.fit(X, y)\n",
    "\n",
    "selected_features = list(X.columns[selector_forest.get_support()])\n",
    "selected_features = list(set(selected_features))\n",
    "\n",
    "print(f\"Всего отобрано признаков: {len(selected_features)}\")"
   ]
  },
  {
   "cell_type": "code",
   "execution_count": 4,
   "id": "459cdd55",
   "metadata": {},
   "outputs": [
    {
     "name": "stdout",
     "output_type": "stream",
     "text": [
      "\n",
      "Модель классификации случайного леса:\n",
      "Лучшие параметры: {'clf__max_depth': 5, 'clf__max_features': 'sqrt', 'clf__min_samples_leaf': 2, 'clf__min_samples_split': 5, 'clf__n_estimators': 100}\n",
      "Основные метрики:               precision    recall  f1-score   support\n",
      "\n",
      "         0.0       0.74      0.67      0.70       100\n",
      "         1.0       0.70      0.76      0.73       100\n",
      "\n",
      "    accuracy                           0.71       200\n",
      "   macro avg       0.72      0.72      0.71       200\n",
      "weighted avg       0.72      0.71      0.71       200\n",
      "\n",
      "Confusion Matrix: [[67 33]\n",
      " [24 76]]\n"
     ]
    }
   ],
   "source": [
    "X_train, X_test, y_train, y_test = train_test_split(\n",
    "    X[selected_features], y, test_size=0.2, random_state=42, stratify=y\n",
    ")\n",
    "\n",
    "pipeline = Pipeline([\n",
    "    ('scaler', StandardScaler()),\n",
    "    ('clf', RandomForestClassifier(class_weight='balanced', random_state=42))\n",
    "])\n",
    "\n",
    "param_grid = {\n",
    "    'clf__n_estimators': [100, 200, 300],\n",
    "    'clf__max_depth': [5, 10, 15, None],\n",
    "    'clf__min_samples_split': [2, 5, 10],\n",
    "    'clf__min_samples_leaf': [1, 2, 4],\n",
    "    'clf__max_features': ['sqrt', 'log2', None]\n",
    "}\n",
    "\n",
    "grid_search = GridSearchCV(\n",
    "    estimator=pipeline,\n",
    "    param_grid=param_grid,\n",
    "    scoring='f1',\n",
    "    cv=5,\n",
    "    n_jobs=-1\n",
    ")\n",
    "\n",
    "grid_search.fit(X_train, y_train)\n",
    "\n",
    "best_model = grid_search.best_estimator_\n",
    "y_pred = best_model.predict(X_test)\n",
    "\n",
    "print(\"\\nМодель классификации случайного леса:\")\n",
    "print(\"Лучшие параметры:\", grid_search.best_params_)\n",
    "print(f\"Основные метрики: {classification_report(y_test, y_pred)}\")\n",
    "print(f\"Confusion Matrix: {confusion_matrix(y_test, y_pred)}\")"
   ]
  },
  {
   "cell_type": "code",
   "execution_count": 5,
   "id": "ac082b93",
   "metadata": {},
   "outputs": [
    {
     "name": "stderr",
     "output_type": "stream",
     "text": [
      "C:\\Users\\raven\\AppData\\Local\\Packages\\PythonSoftwareFoundation.Python.3.11_qbz5n2kfra8p0\\LocalCache\\local-packages\\Python311\\site-packages\\numpy\\ma\\core.py:2846: RuntimeWarning: invalid value encountered in cast\n",
      "  _data = np.array(data, dtype=dtype, copy=copy,\n"
     ]
    },
    {
     "name": "stdout",
     "output_type": "stream",
     "text": [
      "\n",
      "Модель классификации XGB:\n",
      "Лучшие параметры: {'colsample_bytree': 0.9, 'gamma': 0.1, 'learning_rate': 0.1, 'max_depth': 5, 'n_estimators': 100, 'reg_alpha': 0.1, 'subsample': 0.8}\n",
      "Основные метрики:               precision    recall  f1-score   support\n",
      "\n",
      "         0.0       0.75      0.68      0.71       100\n",
      "         1.0       0.71      0.77      0.74       100\n",
      "\n",
      "    accuracy                           0.72       200\n",
      "   macro avg       0.73      0.73      0.72       200\n",
      "weighted avg       0.73      0.72      0.72       200\n",
      "\n",
      "Confusion Matrix: [[68 32]\n",
      " [23 77]]\n"
     ]
    }
   ],
   "source": [
    "param_grid = {\n",
    "    'n_estimators': [50, 100, 150],\n",
    "    'max_depth': [5, 7],\n",
    "    'learning_rate': [0.05, 0.1, 0.15],\n",
    "    'gamma': [0, 0.1],\n",
    "    'reg_alpha': [0, 0.1],\n",
    "    'subsample': [0.8, 0.9], \n",
    "    'colsample_bytree': [0.8, 0.9]\n",
    "}\n",
    "\n",
    "xgb_classifier = XGBClassifier(\n",
    "        objective='binary:logistic', # т. к. только 2 класса\n",
    "        random_state=42\n",
    "    )\n",
    "\n",
    "grid_search = GridSearchCV(\n",
    "    estimator=xgb_classifier,\n",
    "    param_grid=param_grid,\n",
    "    scoring='f1',\n",
    "    cv=5,\n",
    "    n_jobs=-1,\n",
    ")\n",
    "\n",
    "# Запуск поиска\n",
    "grid_search.fit(X_train, y_train)\n",
    "\n",
    "y_pred = grid_search.predict(X_test)\n",
    "\n",
    "print(\"\\nМодель классификации XGB:\")\n",
    "print(\"Лучшие параметры:\", grid_search.best_params_)\n",
    "print(f\"Основные метрики: {classification_report(y_test, y_pred)}\")\n",
    "print(f\"Confusion Matrix: {confusion_matrix(y_test, y_pred)}\")"
   ]
  },
  {
   "cell_type": "markdown",
   "id": "d65b1188",
   "metadata": {},
   "source": [
    "Проанализировав результаты двух моделей можно сделать вывод, что использование XGBClassifier улучшило все показатели модели, что говорит о том, что предпочтительно использовать именно его."
   ]
  }
 ],
 "metadata": {
  "kernelspec": {
   "display_name": "Python 3",
   "language": "python",
   "name": "python3"
  },
  "language_info": {
   "codemirror_mode": {
    "name": "ipython",
    "version": 3
   },
   "file_extension": ".py",
   "mimetype": "text/x-python",
   "name": "python",
   "nbconvert_exporter": "python",
   "pygments_lexer": "ipython3",
   "version": "3.11.9"
  }
 },
 "nbformat": 4,
 "nbformat_minor": 5
}
