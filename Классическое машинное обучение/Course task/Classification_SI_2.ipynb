{
 "cells": [
  {
   "cell_type": "code",
   "execution_count": null,
   "id": "8ea92dab",
   "metadata": {},
   "outputs": [],
   "source": [
    "import pandas as pd\n",
    "import numpy as np\n",
    "from sklearn.ensemble import RandomForestClassifier\n",
    "from sklearn.model_selection import GridSearchCV, train_test_split\n",
    "from sklearn.metrics import confusion_matrix, classification_report\n",
    "from sklearn.feature_selection import SelectFromModel\n",
    "from xgboost import XGBClassifier\n",
    "from sklearn.preprocessing import StandardScaler\n",
    "from sklearn.pipeline import Pipeline"
   ]
  },
  {
   "cell_type": "code",
   "execution_count": null,
   "id": "e8b53a5b",
   "metadata": {},
   "outputs": [],
   "source": [
    "df = pd.read_excel('data/data.xlsx', index_col='Unnamed: 0')"
   ]
  },
  {
   "cell_type": "code",
   "execution_count": null,
   "id": "21306593",
   "metadata": {},
   "outputs": [],
   "source": [
    "# т. к. пустых значений не много, а заполнять их не представляется возможным - удаляем их\n",
    "df.dropna(how='any', inplace=True)"
   ]
  },
  {
   "cell_type": "code",
   "execution_count": null,
   "id": "64372eee",
   "metadata": {},
   "outputs": [],
   "source": [
    "# Из EDA мы помним о наличии больших выбросов. Уберем их\n",
    "q_low, q_high = df[\"SI\"].quantile([0.01, 0.99])\n",
    "df_filtered = df[(df[\"SI\"] >= q_low) & (df[\"SI\"] <= q_high)]\n",
    "\n",
    "# Создадим столбец, который будет содержать 2 поля: 1 если значение превышает медиану и \n",
    "# 0 в обратном случае\n",
    "\n",
    "df_filtered['Class_4'] = [np.nan]*len(df_filtered)\n",
    "df_filtered.loc[df_filtered['SI']>8, 'Class_4'] = 1\n",
    "df_filtered.loc[df_filtered['SI']<=8, 'Class_4'] = 0\n",
    "\n",
    "X = df_filtered.drop(['IC50, mM', 'CC50, mM', 'SI', 'Class_1', 'Class_2', 'Class_3', 'Class_4'], axis=1)\n",
    "y = df_filtered['Class_4']"
   ]
  },
  {
   "cell_type": "markdown",
   "id": "61981b34",
   "metadata": {},
   "source": [
    "# Классификация: превышает ли значение SI значение 8"
   ]
  },
  {
   "cell_type": "code",
   "execution_count": null,
   "id": "b9310cf4",
   "metadata": {},
   "outputs": [
    {
     "name": "stderr",
     "output_type": "stream",
     "text": [
      "C:\\Users\\raven\\AppData\\Local\\Temp\\ipykernel_2848\\1619424459.py:8: SettingWithCopyWarning: \n",
      "A value is trying to be set on a copy of a slice from a DataFrame.\n",
      "Try using .loc[row_indexer,col_indexer] = value instead\n",
      "\n",
      "See the caveats in the documentation: https://pandas.pydata.org/pandas-docs/stable/user_guide/indexing.html#returning-a-view-versus-a-copy\n",
      "  df_filtered['Class_4'] = [np.nan]*len(df_filtered)\n"
     ]
    }
   ],
   "source": [
    "# Из EDA мы помним о наличии больших выбросов. Уберем их\n",
    "q_low, q_high = df[\"SI\"].quantile([0.01, 0.99])\n",
    "df_filtered = df[(df[\"SI\"] >= q_low) & (df[\"SI\"] <= q_high)]\n",
    "\n",
    "# Создадим столбец, который будет содержать 2 поля: 1 если значение превышает медиану и \n",
    "# 0 в обратном случае\n",
    "\n",
    "df_filtered['Class_4'] = [np.nan]*len(df_filtered)\n",
    "df_filtered.loc[df_filtered['SI']>8, 'Class_4'] = 1\n",
    "df_filtered.loc[df_filtered['SI']<=8, 'Class_4'] = 0\n",
    "\n",
    "X = df_filtered.drop(['IC50, mM', 'CC50, mM', 'SI', 'Class_1', 'Class_2', 'Class_3', 'Class_4'], axis=1)\n",
    "y = df_filtered['Class_4']\n"
   ]
  },
  {
   "cell_type": "markdown",
   "id": "ffe95aab",
   "metadata": {},
   "source": [
    "Видим дизбаланс классов и запомним это"
   ]
  },
  {
   "cell_type": "code",
   "execution_count": null,
   "id": "0396edc2",
   "metadata": {},
   "outputs": [
    {
     "name": "stdout",
     "output_type": "stream",
     "text": [
      "Всего отобрано признаков: 107\n"
     ]
    }
   ],
   "source": [
    "# Отбор важных признаков\n",
    "selector_forest = SelectFromModel(\n",
    "    RandomForestClassifier(n_estimators=100),\n",
    "    threshold=\"median\"\n",
    ")\n",
    "selector_forest.fit(X, y)\n",
    "\n",
    "selected_features = [\n",
    "                        'MolLogP', 'TPSA', 'NumHDonors', 'NumHAcceptors', \n",
    "                        'fr_halogen', 'qed', 'FractionCSP3', 'SPS'\n",
    "                    ]+list(X.columns[selector_forest.get_support()])\n",
    "selected_features = list(set(selected_features))\n",
    "\n",
    "print(f\"Всего отобрано признаков: {len(selected_features)}\")"
   ]
  },
  {
   "cell_type": "code",
   "execution_count": null,
   "id": "cff7bcd4",
   "metadata": {},
   "outputs": [
    {
     "name": "stderr",
     "output_type": "stream",
     "text": [
      "C:\\Users\\raven\\AppData\\Local\\Packages\\PythonSoftwareFoundation.Python.3.11_qbz5n2kfra8p0\\LocalCache\\local-packages\\Python311\\site-packages\\numpy\\ma\\core.py:2846: RuntimeWarning: invalid value encountered in cast\n",
      "  _data = np.array(data, dtype=dtype, copy=copy,\n"
     ]
    },
    {
     "name": "stdout",
     "output_type": "stream",
     "text": [
      "\n",
      "Модель классификации случайного леса:\n",
      "Лучшие параметры: {'clf__max_depth': 10, 'clf__max_features': 'sqrt', 'clf__min_samples_leaf': 4, 'clf__min_samples_split': 10, 'clf__n_estimators': 100}\n",
      "Основные метрики:\n",
      "               precision    recall  f1-score   support\n",
      "\n",
      "         0.0       0.76      0.75      0.75       127\n",
      "         1.0       0.55      0.57      0.56        69\n",
      "\n",
      "    accuracy                           0.68       196\n",
      "   macro avg       0.65      0.66      0.66       196\n",
      "weighted avg       0.69      0.68      0.68       196\n",
      "\n",
      "Confusion Matrix:\n",
      " [[95 32]\n",
      " [30 39]]\n"
     ]
    }
   ],
   "source": [
    "# Разделение данных\n",
    "X_train, X_test, y_train, y_test = train_test_split(\n",
    "    X[selected_features], y, stratify=y, test_size=0.2, random_state=42\n",
    ")\n",
    "\n",
    "pipeline = Pipeline([\n",
    "    ('scaler', StandardScaler()),\n",
    "    ('clf', RandomForestClassifier(\n",
    "        class_weight='balanced', #Из-за дисбаланса классов\n",
    "        random_state=42))\n",
    "])\n",
    "\n",
    "param_grid = {\n",
    "    'clf__n_estimators': [100, 200, 300],\n",
    "    'clf__max_depth': [5, 10, 15, None],\n",
    "    'clf__min_samples_split': [2, 5, 10],\n",
    "    'clf__min_samples_leaf': [1, 2, 4],\n",
    "    'clf__max_features': ['sqrt', 'log2', None]\n",
    "}\n",
    "\n",
    "grid_search = GridSearchCV(\n",
    "    estimator=pipeline,\n",
    "    param_grid=param_grid,\n",
    "    scoring='f1',\n",
    "    cv=5,\n",
    "    n_jobs=-1\n",
    ")\n",
    "\n",
    "grid_search.fit(X_train, y_train)\n",
    "\n",
    "best_model = grid_search.best_estimator_\n",
    "y_pred = best_model.predict(X_test)\n",
    "\n",
    "print(\"\\nМодель классификации случайного леса:\")\n",
    "print(\"Лучшие параметры:\", grid_search.best_params_)\n",
    "print(f\"Основные метрики:\\n {classification_report(y_test, y_pred)}\")\n",
    "print(f\"Confusion Matrix:\\n {confusion_matrix(y_test, y_pred)}\")"
   ]
  },
  {
   "cell_type": "code",
   "execution_count": null,
   "id": "d50e8cdf",
   "metadata": {},
   "outputs": [
    {
     "name": "stdout",
     "output_type": "stream",
     "text": [
      "\n",
      "Модель классификации XGB:\n",
      "Лучшие параметры: {'colsample_bytree': 0.8, 'gamma': 0.1, 'learning_rate': 0.05, 'max_depth': 5, 'n_estimators': 50, 'reg_alpha': 0, 'subsample': 0.9}\n",
      "Основные метрики:               precision    recall  f1-score   support\n",
      "\n",
      "         0.0       0.77      0.69      0.72       127\n",
      "         1.0       0.52      0.62      0.57        69\n",
      "\n",
      "    accuracy                           0.66       196\n",
      "   macro avg       0.64      0.65      0.65       196\n",
      "weighted avg       0.68      0.66      0.67       196\n",
      "\n",
      "Confusion Matrix: [[87 40]\n",
      " [26 43]]\n"
     ]
    },
    {
     "name": "stderr",
     "output_type": "stream",
     "text": [
      "C:\\Users\\raven\\AppData\\Local\\Packages\\PythonSoftwareFoundation.Python.3.11_qbz5n2kfra8p0\\LocalCache\\local-packages\\Python311\\site-packages\\numpy\\ma\\core.py:2846: RuntimeWarning: invalid value encountered in cast\n",
      "  _data = np.array(data, dtype=dtype, copy=copy,\n"
     ]
    }
   ],
   "source": [
    "param_grid = {\n",
    "    'n_estimators': [50, 100, 150],\n",
    "    'max_depth': [5, 7],\n",
    "    'learning_rate': [0.05, 0.1, 0.15],\n",
    "    'gamma': [0, 0.1],\n",
    "    'reg_alpha': [0, 0.1],\n",
    "    'subsample': [0.8, 0.9], \n",
    "    'colsample_bytree': [0.8, 0.9]\n",
    "}\n",
    "\n",
    "xgb_classifier = XGBClassifier(\n",
    "        objective='binary:logistic', # т. к. только 2 класса\n",
    "        random_state=42,\n",
    "        scale_pos_weight=sum(y_train==0)/sum(y_train==1),\n",
    "    )\n",
    "\n",
    "grid_search = GridSearchCV(\n",
    "    estimator=xgb_classifier,\n",
    "    param_grid=param_grid,\n",
    "    scoring='f1',\n",
    "    cv=5,\n",
    "    n_jobs=-1,\n",
    ")\n",
    "\n",
    "# Запуск поиска\n",
    "grid_search.fit(X_train, y_train)\n",
    "\n",
    "y_pred = grid_search.predict(X_test)\n",
    "\n",
    "print(\"\\nМодель классификации XGB:\")\n",
    "print(\"Лучшие параметры:\", grid_search.best_params_)\n",
    "print(f\"Основные метрики: {classification_report(y_test, y_pred)}\")\n",
    "print(f\"Confusion Matrix: {confusion_matrix(y_test, y_pred)}\")"
   ]
  },
  {
   "cell_type": "markdown",
   "id": "f4014690",
   "metadata": {},
   "source": [
    "В данном случае снова лучше оказалось модель леса, оставляем ее"
   ]
  }
 ],
 "metadata": {
  "language_info": {
   "name": "python"
  }
 },
 "nbformat": 4,
 "nbformat_minor": 5
}
