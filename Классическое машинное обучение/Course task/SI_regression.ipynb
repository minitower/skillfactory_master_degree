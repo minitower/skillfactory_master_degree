{
 "cells": [
  {
   "cell_type": "code",
   "execution_count": null,
   "id": "ebc1efcd",
   "metadata": {},
   "outputs": [],
   "source": [
    "import pandas as pd\n",
    "import numpy as np\n",
    "import matplotlib.pyplot as plt\n",
    "import seaborn as sns\n",
    "from sklearn.ensemble import RandomForestRegressor, GradientBoostingRegressor\n",
    "from sklearn.model_selection import GridSearchCV, train_test_split\n",
    "from sklearn.metrics import mean_absolute_error, r2_score, make_scorer\n",
    "from sklearn.feature_selection import SelectFromModel\n",
    "from xgboost import XGBRegressor\n",
    "from sklearn.impute import SimpleImputer\n",
    "# Настройка визуализаций\n",
    "%matplotlib inline"
   ]
  },
  {
   "cell_type": "code",
   "execution_count": null,
   "id": "6ddb1941",
   "metadata": {},
   "outputs": [],
   "source": [
    "df = pd.read_excel('data/data.xlsx', index_col='Unnamed: 0')"
   ]
  },
  {
   "cell_type": "code",
   "execution_count": null,
   "id": "5d9fe9a3",
   "metadata": {},
   "outputs": [],
   "source": [
    "# т. к. пустых значений не много, а заполнять их не представляется возможным - удаляем их\n",
    "df.dropna(how='any', inplace=True)"
   ]
  },
  {
   "cell_type": "markdown",
   "id": "fb5b5aea",
   "metadata": {},
   "source": [
    "# Регрессия на SI"
   ]
  },
  {
   "cell_type": "code",
   "execution_count": null,
   "id": "e62ec993",
   "metadata": {},
   "outputs": [
    {
     "name": "stderr",
     "output_type": "stream",
     "text": [
      "C:\\Users\\raven\\AppData\\Local\\Temp\\ipykernel_2848\\2578173687.py:7: SettingWithCopyWarning: \n",
      "A value is trying to be set on a copy of a slice from a DataFrame.\n",
      "Try using .loc[row_indexer,col_indexer] = value instead\n",
      "\n",
      "See the caveats in the documentation: https://pandas.pydata.org/pandas-docs/stable/user_guide/indexing.html#returning-a-view-versus-a-copy\n",
      "  df_filtered['SI_log'] = np.log1p(df_filtered['SI'])  # Используем log1p для устойчивости\n"
     ]
    },
    {
     "name": "stdout",
     "output_type": "stream",
     "text": [
      "Итоговое число признаков: 87\n"
     ]
    }
   ],
   "source": [
    "# Из EDA мы помним о наличии больших выбросов. Уберем их\n",
    "q_low, q_high = df[\"SI\"].quantile([0.01, 0.99])\n",
    "df_filtered = df[(df[\"SI\"] >= q_low) & (df[\"SI\"] <= q_high)]\n",
    "\n",
    "# Логарифмирование SI (т.к. значения сильно скошены, помним из EDA)\n",
    "df_filtered['SI_log'] = np.log1p(df_filtered['SI'])\n",
    "y_si = df_filtered['SI_log']\n",
    "\n",
    "X_si = df_filtered.drop(['IC50, mM', 'CC50, mM', 'SI', 'SI_log'], axis=1)\n",
    "\n",
    "gbr_si = GradientBoostingRegressor(random_state=42)\n",
    "selector_si = SelectFromModel(gbr_si, threshold=\"median\")\n",
    "selector_si.fit(X_si, y_si)\n",
    "\n",
    "expert_features_si = [\n",
    "    'MolLogP', 'TPSA', 'NumHDonors', 'NumHAcceptors', \n",
    "    'fr_halogen', 'qed', 'FractionCSP3', 'SPS'\n",
    "]\n",
    "\n",
    "selected_features_si = expert_features_si + list(X_si.columns[selector_si.get_support()])\n",
    "selected_features_si = list(set(selected_features_si))\n",
    "\n",
    "# Удаление мультиколлинеарных признаков\n",
    "corr_matrix = X_si[selected_features_si].corr().abs()\n",
    "upper = corr_matrix.where(np.triu(np.ones(corr_matrix.shape), k=1).astype(bool))\n",
    "duplicates = [col for col in upper.columns if any(upper[col] > 0.9)]\n",
    "final_features_si = [col for col in selected_features_si if col not in duplicates]\n",
    "\n",
    "print(f\"Итоговое число признаков: {len(final_features_si)}\")"
   ]
  },
  {
   "cell_type": "code",
   "execution_count": null,
   "id": "4a9e5d5b",
   "metadata": {},
   "outputs": [
    {
     "name": "stdout",
     "output_type": "stream",
     "text": [
      "\n",
      "Модель градиентного спуска:\n",
      "Параметры: {'learning_rate': 0.1, 'max_depth': 5, 'n_estimators': 50}\n",
      "MAE на тесте: 0.815\n",
      "R² на тесте: 0.332\n"
     ]
    }
   ],
   "source": [
    "X_final_si = X_si[final_features_si]\n",
    "X_train_si, X_test_si, y_train_si, y_test_si = train_test_split(\n",
    "    X_final_si, y_si, test_size=0.2, random_state=42\n",
    ")\n",
    "\n",
    "param_grid = {\n",
    "    'n_estimators': [50, 150, 200],\n",
    "    'learning_rate': [0.1, 0.15],\n",
    "    'max_depth': [5, 10],\n",
    "}\n",
    "\n",
    "gbr_si = GradientBoostingRegressor(random_state=42)\n",
    "grid_search_gbr_si = GridSearchCV(\n",
    "    gbr_si, \n",
    "    param_grid, \n",
    "    cv=5, \n",
    "    scoring='neg_mean_squared_error',\n",
    "    n_jobs=-1)\n",
    "grid_search_gbr_si.fit(X_train_si, y_train_si)\n",
    "\n",
    "best_gbr_si = grid_search_gbr_si.best_estimator_\n",
    "y_pred = best_gbr_si.predict(X_test_si)\n",
    "\n",
    "print(\"\\nМодель градиентного спуска:\")\n",
    "print(f\"Параметры: {grid_search_gbr_si.best_params_}\")\n",
    "print(f\"MAE на тесте: {mean_absolute_error(y_test_si, y_pred):.3f}\")\n",
    "print(f\"R² на тесте: {r2_score(y_test_si, y_pred):.3f}\")"
   ]
  },
  {
   "cell_type": "code",
   "execution_count": null,
   "id": "32ffe442",
   "metadata": {},
   "outputs": [
    {
     "name": "stdout",
     "output_type": "stream",
     "text": [
      "\n",
      "Результаты для SI:\n",
      "Лучшие параметры: {'colsample_bytree': 0.9, 'gamma': 0.1, 'learning_rate': 0.05, 'max_depth': 5, 'n_estimators': 50, 'reg_alpha': 0.1, 'subsample': 0.9}\n",
      "MAE на тестовых данных: 0.8203366997961472\n",
      "R2 на тестовых данных: 0.34268901586239153\n"
     ]
    },
    {
     "name": "stderr",
     "output_type": "stream",
     "text": [
      "C:\\Users\\raven\\AppData\\Local\\Packages\\PythonSoftwareFoundation.Python.3.11_qbz5n2kfra8p0\\LocalCache\\local-packages\\Python311\\site-packages\\numpy\\ma\\core.py:2846: RuntimeWarning: invalid value encountered in cast\n",
      "  _data = np.array(data, dtype=dtype, copy=copy,\n"
     ]
    }
   ],
   "source": [
    "param_grid = {\n",
    "    'n_estimators': [50, 100, 150],\n",
    "    'max_depth': [5, 7],\n",
    "    'learning_rate': [0.05, 0.1, 0.15],\n",
    "    'gamma': [0, 0.1],\n",
    "    'reg_alpha': [0, 0.1],\n",
    "    'subsample': [0.8, 0.9], \n",
    "    'colsample_bytree': [0.8, 0.9]\n",
    "}\n",
    "\n",
    "xgb_model = XGBRegressor(random_state=42, objective='reg:squarederror')\n",
    "grid_search = GridSearchCV(\n",
    "    estimator=xgb_model,\n",
    "    param_grid=param_grid,\n",
    "    scoring='neg_mean_squared_error',\n",
    "    cv=5,\n",
    "    n_jobs=-1\n",
    ")\n",
    "\n",
    "grid_search.fit(X_train_si, y_train_si)\n",
    "\n",
    "best_model = grid_search.best_estimator_\n",
    "y_pred = best_model.predict(X_test_si)\n",
    "\n",
    "print(\"\\nМодель XGB:\")\n",
    "print(\"Лучшие параметры:\", grid_search.best_params_)\n",
    "print(f\"MAE на тестовых данных: {mean_absolute_error(y_test_si, y_pred)}\")\n",
    "print(f\"R2 на тестовых данных: {r2_score(y_test_si, y_pred)}\")"
   ]
  },
  {
   "cell_type": "markdown",
   "id": "953aeb2d",
   "metadata": {},
   "source": [
    "Получились следующие результаты:\n",
    "1) Модель XGB наилучшая среди остальных, хоть и менее устойчивая;\n",
    "2) Модель GBR более устойчивая и почти равна прогностической силе XGB;\n",
    "3) Модель ансамбля из моделей CC50 и IC50 оказалось несостоятельной."
   ]
  }
 ],
 "metadata": {
  "language_info": {
   "name": "python"
  }
 },
 "nbformat": 4,
 "nbformat_minor": 5
}
