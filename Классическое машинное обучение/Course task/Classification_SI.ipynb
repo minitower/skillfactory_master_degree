{
 "cells": [
  {
   "cell_type": "code",
   "execution_count": null,
   "id": "afe1a73a",
   "metadata": {},
   "outputs": [],
   "source": [
    "import pandas as pd\n",
    "import numpy as np\n",
    "from sklearn.ensemble import RandomForestClassifier\n",
    "from sklearn.model_selection import GridSearchCV, train_test_split\n",
    "from sklearn.metrics import confusion_matrix, classification_report\n",
    "from sklearn.feature_selection import SelectFromModel\n",
    "from xgboost import XGBClassifier\n",
    "from sklearn.preprocessing import StandardScaler\n",
    "from sklearn.pipeline import Pipeline\n",
    "\n",
    "df = pd.read_excel('data/data.xlsx', index_col='Unnamed: 0')\n",
    "# т. к. пустых значений не много, а заполнять их не представляется возможным - удаляем их\n",
    "df.dropna(how='any', inplace=True)"
   ]
  },
  {
   "cell_type": "code",
   "execution_count": null,
   "id": "69237786",
   "metadata": {},
   "outputs": [
    {
     "name": "stderr",
     "output_type": "stream",
     "text": [
      "C:\\Users\\raven\\AppData\\Local\\Temp\\ipykernel_2848\\3664061966.py:6: SettingWithCopyWarning: \n",
      "A value is trying to be set on a copy of a slice from a DataFrame.\n",
      "Try using .loc[row_indexer,col_indexer] = value instead\n",
      "\n",
      "See the caveats in the documentation: https://pandas.pydata.org/pandas-docs/stable/user_guide/indexing.html#returning-a-view-versus-a-copy\n",
      "  df_filtered['SI_log'] = np.log1p(df_filtered['SI'])\n",
      "C:\\Users\\raven\\AppData\\Local\\Temp\\ipykernel_2848\\3664061966.py:11: SettingWithCopyWarning: \n",
      "A value is trying to be set on a copy of a slice from a DataFrame.\n",
      "Try using .loc[row_indexer,col_indexer] = value instead\n",
      "\n",
      "See the caveats in the documentation: https://pandas.pydata.org/pandas-docs/stable/user_guide/indexing.html#returning-a-view-versus-a-copy\n",
      "  df_filtered['Class_3'] = [np.nan]*len(df_filtered)\n"
     ]
    }
   ],
   "source": [
    "# Из EDA мы помним о наличии больших выбросов. Уберем их\n",
    "q_low, q_high = df[\"SI\"].quantile([0.01, 0.99])\n",
    "df_filtered = df[(df[\"SI\"] >= q_low) & (df[\"SI\"] <= q_high)]\n",
    "\n",
    "# Логарифмирование SI (т.к. значения сильно скошены, помним из EDA)\n",
    "df_filtered['SI_log'] = np.log1p(df_filtered['SI'])\n",
    "\n",
    "# Создадим столбец, который будет содержать 2 поля: 1 если значение превышает медиану и \n",
    "# 0 в обратном случае\n",
    "\n",
    "df_filtered['Class_3'] = [np.nan]*len(df_filtered)\n",
    "df_filtered.loc[df_filtered['SI_log']>=df_filtered['SI_log'].median(), 'Class_3'] = 1\n",
    "df_filtered.loc[df_filtered['SI_log']<df_filtered['SI_log'].median(), 'Class_3'] = 0\n",
    "\n",
    "X = df_filtered.drop(['IC50, mM', 'CC50, mM', 'SI', 'SI_log','Class_3'], axis=1)\n",
    "y = df_filtered['Class_3']"
   ]
  },
  {
   "cell_type": "code",
   "execution_count": null,
   "id": "998e2a8d",
   "metadata": {},
   "outputs": [
    {
     "name": "stdout",
     "output_type": "stream",
     "text": [
      "Всего отобрано признаков: 107\n"
     ]
    }
   ],
   "source": [
    "# Отбор важных признаков\n",
    "selector_forest = SelectFromModel(\n",
    "    RandomForestClassifier(n_estimators=100),\n",
    "    threshold=\"median\"\n",
    ")\n",
    "selector_forest.fit(X, y)\n",
    "\n",
    "selected_features = [\n",
    "                        'MolLogP', 'TPSA', 'NumHDonors', 'NumHAcceptors', \n",
    "                        'fr_halogen', 'qed', 'FractionCSP3', 'SPS'\n",
    "                    ]+list(X.columns[selector_forest.get_support()])\n",
    "selected_features = list(set(selected_features))\n",
    "\n",
    "print(f\"Всего отобрано признаков: {len(selected_features)}\")"
   ]
  },
  {
   "cell_type": "code",
   "execution_count": null,
   "id": "532a2318",
   "metadata": {},
   "outputs": [
    {
     "name": "stderr",
     "output_type": "stream",
     "text": [
      "C:\\Users\\raven\\AppData\\Local\\Packages\\PythonSoftwareFoundation.Python.3.11_qbz5n2kfra8p0\\LocalCache\\local-packages\\Python311\\site-packages\\numpy\\ma\\core.py:2846: RuntimeWarning: invalid value encountered in cast\n",
      "  _data = np.array(data, dtype=dtype, copy=copy,\n"
     ]
    },
    {
     "name": "stdout",
     "output_type": "stream",
     "text": [
      "\n",
      "Модель классификации случайного леса:\n",
      "Лучшие параметры: {'clf__max_depth': 5, 'clf__max_features': None, 'clf__min_samples_leaf': 2, 'clf__min_samples_split': 5, 'clf__n_estimators': 100}\n",
      "Основные метрики:\n",
      "               precision    recall  f1-score   support\n",
      "\n",
      "         0.0       0.74      0.85      0.79        92\n",
      "         1.0       0.85      0.74      0.79       104\n",
      "\n",
      "    accuracy                           0.79       196\n",
      "   macro avg       0.79      0.79      0.79       196\n",
      "weighted avg       0.80      0.79      0.79       196\n",
      "\n",
      "Confusion Matrix:\n",
      " [[78 14]\n",
      " [27 77]]\n"
     ]
    }
   ],
   "source": [
    "# Разделение данных\n",
    "X_train, X_test, y_train, y_test = train_test_split(\n",
    "    X[selected_features], y, test_size=0.2, random_state=42\n",
    ")\n",
    "\n",
    "pipeline = Pipeline([\n",
    "    ('scaler', StandardScaler()),\n",
    "    ('clf', RandomForestClassifier(random_state=42))\n",
    "])\n",
    "\n",
    "param_grid = {\n",
    "    'clf__n_estimators': [100, 200, 300],\n",
    "    'clf__max_depth': [5, 10, 15, None],\n",
    "    'clf__min_samples_split': [2, 5, 10],\n",
    "    'clf__min_samples_leaf': [1, 2, 4],\n",
    "    'clf__max_features': ['sqrt', 'log2', None]\n",
    "}\n",
    "\n",
    "grid_search = GridSearchCV(\n",
    "    estimator=pipeline,\n",
    "    param_grid=param_grid,\n",
    "    scoring='f1',\n",
    "    cv=5,\n",
    "    n_jobs=-1\n",
    ")\n",
    "\n",
    "grid_search.fit(X_train, y_train)\n",
    "\n",
    "best_model = grid_search.best_estimator_\n",
    "y_pred = best_model.predict(X_test)\n",
    "\n",
    "print(\"\\nМодель классификации случайного леса:\")\n",
    "print(\"Лучшие параметры:\", grid_search.best_params_)\n",
    "print(f\"Основные метрики:\\n {classification_report(y_test, y_pred)}\")\n",
    "print(f\"Confusion Matrix:\\n {confusion_matrix(y_test, y_pred)}\")"
   ]
  },
  {
   "cell_type": "code",
   "execution_count": null,
   "id": "7e719040",
   "metadata": {},
   "outputs": [
    {
     "name": "stdout",
     "output_type": "stream",
     "text": [
      "\n",
      "Модель классификации XGB:\n",
      "Лучшие параметры: {'colsample_bytree': 0.8, 'gamma': 0, 'learning_rate': 0.1, 'max_depth': 5, 'n_estimators': 50, 'reg_alpha': 0.1, 'subsample': 0.8}\n",
      "Основные метрики:               precision    recall  f1-score   support\n",
      "\n",
      "         0.0       0.72      0.83      0.77        92\n",
      "         1.0       0.82      0.71      0.76       104\n",
      "\n",
      "    accuracy                           0.77       196\n",
      "   macro avg       0.77      0.77      0.77       196\n",
      "weighted avg       0.77      0.77      0.77       196\n",
      "\n",
      "Confusion Matrix: [[76 16]\n",
      " [30 74]]\n"
     ]
    },
    {
     "name": "stderr",
     "output_type": "stream",
     "text": [
      "C:\\Users\\raven\\AppData\\Local\\Packages\\PythonSoftwareFoundation.Python.3.11_qbz5n2kfra8p0\\LocalCache\\local-packages\\Python311\\site-packages\\numpy\\ma\\core.py:2846: RuntimeWarning: invalid value encountered in cast\n",
      "  _data = np.array(data, dtype=dtype, copy=copy,\n"
     ]
    }
   ],
   "source": [
    "param_grid = {\n",
    "    'n_estimators': [50, 100, 150],\n",
    "    'max_depth': [5, 7],\n",
    "    'learning_rate': [0.05, 0.1, 0.15],\n",
    "    'gamma': [0, 0.1],\n",
    "    'reg_alpha': [0, 0.1],\n",
    "    'subsample': [0.8, 0.9], \n",
    "    'colsample_bytree': [0.8, 0.9]\n",
    "}\n",
    "\n",
    "xgb_classifier = XGBClassifier(\n",
    "        objective='binary:logistic', # т. к. только 2 класса\n",
    "        random_state=42\n",
    "    )\n",
    "\n",
    "grid_search = GridSearchCV(\n",
    "    estimator=xgb_classifier,\n",
    "    param_grid=param_grid,\n",
    "    scoring='f1',\n",
    "    cv=5,\n",
    "    n_jobs=-1,\n",
    ")\n",
    "\n",
    "# Запуск поиска\n",
    "grid_search.fit(X_train, y_train)\n",
    "\n",
    "y_pred = grid_search.predict(X_test)\n",
    "\n",
    "print(\"\\nМодель классификации XGB:\")\n",
    "print(\"Лучшие параметры:\", grid_search.best_params_)\n",
    "print(f\"Основные метрики: {classification_report(y_test, y_pred)}\")\n",
    "print(f\"Confusion Matrix: {confusion_matrix(y_test, y_pred)}\")"
   ]
  },
  {
   "cell_type": "markdown",
   "id": "c8c3720f",
   "metadata": {},
   "source": [
    "В данной задаче выиграл случайный лес, значит, стоит использовать его"
   ]
  }
 ],
 "metadata": {
  "language_info": {
   "name": "python"
  }
 },
 "nbformat": 4,
 "nbformat_minor": 5
}
