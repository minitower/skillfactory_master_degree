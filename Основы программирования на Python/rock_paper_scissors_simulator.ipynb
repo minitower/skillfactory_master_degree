{
  "cells": [
    {
      "cell_type": "code",
      "execution_count": 3,
      "metadata": {
        "colab": {
          "base_uri": "https://localhost:8080/"
        },
        "id": "MXXTuy_o0sjk",
        "outputId": "6a257e71-7287-413f-fc57-aa4224d30b9b"
      },
      "outputs": [
        {
          "name": "stdout",
          "output_type": "stream",
          "text": [
            "\u001b[?25l   \u001b[90m━━━━━━━━━━━━━━━━━━━━━━━━━━━━━━━━━━━━━━━━\u001b[0m \u001b[32m0.0/1.3 MB\u001b[0m \u001b[31m?\u001b[0m eta \u001b[36m-:--:--\u001b[0m\r\u001b[2K   \u001b[91m━━━━━━━━━━━━━━━━━━━━━━━━━━━━━━━━━━━━━━━\u001b[0m\u001b[91m╸\u001b[0m \u001b[32m1.3/1.3 MB\u001b[0m \u001b[31m46.8 MB/s\u001b[0m eta \u001b[36m0:00:01\u001b[0m\r\u001b[2K   \u001b[90m━━━━━━━━━━━━━━━━━━━━━━━━━━━━━━━━━━━━━━━━\u001b[0m \u001b[32m1.3/1.3 MB\u001b[0m \u001b[31m26.7 MB/s\u001b[0m eta \u001b[36m0:00:00\u001b[0m\n",
            "\u001b[?25h\u001b[?25l   \u001b[90m━━━━━━━━━━━━━━━━━━━━━━━━━━━━━━━━━━━━━━━━\u001b[0m \u001b[32m0.0/953.8 kB\u001b[0m \u001b[31m?\u001b[0m eta \u001b[36m-:--:--\u001b[0m\r\u001b[2K   \u001b[90m━━━━━━━━━━━━━━━━━━━━━━━━━━━━━━━━━━━━━━━━\u001b[0m \u001b[32m953.8/953.8 kB\u001b[0m \u001b[31m39.8 MB/s\u001b[0m eta \u001b[36m0:00:00\u001b[0m\n",
            "\u001b[?25h\u001b[?25l   \u001b[90m━━━━━━━━━━━━━━━━━━━━━━━━━━━━━━━━━━━━━━━━\u001b[0m \u001b[32m0.0/840.2 kB\u001b[0m \u001b[31m?\u001b[0m eta \u001b[36m-:--:--\u001b[0m\r\u001b[2K   \u001b[90m━━━━━━━━━━━━━━━━━━━━━━━━━━━━━━━━━━━━━━━━\u001b[0m \u001b[32m840.2/840.2 kB\u001b[0m \u001b[31m27.2 MB/s\u001b[0m eta \u001b[36m0:00:00\u001b[0m\n",
            "\u001b[?25h\u001b[?25l   \u001b[90m━━━━━━━━━━━━━━━━━━━━━━━━━━━━━━━━━━━━━━━━\u001b[0m \u001b[32m0.0/178.7 kB\u001b[0m \u001b[31m?\u001b[0m eta \u001b[36m-:--:--\u001b[0m\r\u001b[2K   \u001b[90m━━━━━━━━━━━━━━━━━━━━━━━━━━━━━━━━━━━━━━━━\u001b[0m \u001b[32m178.7/178.7 kB\u001b[0m \u001b[31m13.4 MB/s\u001b[0m eta \u001b[36m0:00:00\u001b[0m\n",
            "\u001b[?25h"
          ]
        }
      ],
      "source": [
        "!pip install -q -U kaggle_environments"
      ]
    },
    {
      "cell_type": "code",
      "execution_count": 4,
      "metadata": {
        "id": "yz23vWHD0wcj"
      },
      "outputs": [],
      "source": [
        "import numpy as np\n",
        "import pandas as pd\n",
        "import random\n",
        "\n",
        "import matplotlib.pyplot as plt\n",
        "import seaborn as sns\n",
        "\n",
        "from kaggle_environments import make, evaluate"
      ]
    },
    {
      "cell_type": "markdown",
      "metadata": {
        "id": "0kuo6IOxiRub"
      },
      "source": [
        "Опишем поведение агента, всегда играющего \"камень\" - это значение 0"
      ]
    },
    {
      "cell_type": "markdown",
      "metadata": {
        "id": "dWToBGmHM0WG"
      },
      "source": [
        "# Стратегии, возвращающие одно и тоже значения каждый ход"
      ]
    },
    {
      "cell_type": "code",
      "execution_count": 5,
      "metadata": {
        "colab": {
          "base_uri": "https://localhost:8080/"
        },
        "id": "bqTqV7B92rJ6",
        "outputId": "49c19485-1f1e-4ac9-d512-415527b22295"
      },
      "outputs": [
        {
          "name": "stdout",
          "output_type": "stream",
          "text": [
            "Writing rock.py\n"
          ]
        },
        {
          "name": "stderr",
          "output_type": "stream",
          "text": [
            "/usr/local/lib/python3.10/dist-packages/ipykernel/ipkernel.py:283: DeprecationWarning: `should_run_async` will not call `transform_cell` automatically in the future. Please pass the result to `transformed_cell` argument and any exception that happen during thetransform in `preprocessing_exc_tuple` in IPython 7.17 and above.\n",
            "  and should_run_async(code)\n"
          ]
        }
      ],
      "source": [
        "%%writefile rock.py\n",
        "\n",
        "#Example of the simple agent\n",
        "#0 - rock\n",
        "#1 - paper\n",
        "#2 - scissors\n",
        "def rock(observation, configuration):\n",
        "    return 0"
      ]
    },
    {
      "cell_type": "code",
      "execution_count": 6,
      "metadata": {
        "colab": {
          "base_uri": "https://localhost:8080/"
        },
        "id": "h2xOmFnSMxf-",
        "outputId": "2b1de9fb-2149-49a5-edc2-c7ea3d79b9ec"
      },
      "outputs": [
        {
          "name": "stdout",
          "output_type": "stream",
          "text": [
            "Writing paper.py\n"
          ]
        }
      ],
      "source": [
        "%%writefile paper.py\n",
        "\n",
        "#strategy with only papers\n",
        "def paper(observation, configuration):\n",
        "    return 1"
      ]
    },
    {
      "cell_type": "code",
      "execution_count": 7,
      "metadata": {
        "colab": {
          "base_uri": "https://localhost:8080/"
        },
        "id": "WgagihMjM-iu",
        "outputId": "2b38474d-ad91-4ba4-9f38-323d7cda7e06"
      },
      "outputs": [
        {
          "name": "stdout",
          "output_type": "stream",
          "text": [
            "Writing scissors.py\n"
          ]
        }
      ],
      "source": [
        "%%writefile scissors.py\n",
        "\n",
        "# strategy with only scissors\n",
        "def scissors(observation, configuration):\n",
        "    return 2"
      ]
    },
    {
      "cell_type": "markdown",
      "metadata": {
        "id": "n7Uj-AQK-3B9"
      },
      "source": [
        "# Статистические стратегии"
      ]
    },
    {
      "cell_type": "code",
      "execution_count": 8,
      "metadata": {
        "colab": {
          "base_uri": "https://localhost:8080/"
        },
        "id": "7l6Ttw6qi0jk",
        "outputId": "e2f74c66-a095-4a69-f2ab-8aacca2736e3"
      },
      "outputs": [
        {
          "name": "stdout",
          "output_type": "stream",
          "text": [
            "Writing copy_opponent.py\n"
          ]
        }
      ],
      "source": [
        "%%writefile copy_opponent.py\n",
        "import random\n",
        "\n",
        "#Example\n",
        "def copy_opponent(observation, configuration):\n",
        "    #in case we have information about opponent last move\n",
        "    if observation.step > 0:\n",
        "        return observation.lastOpponentAction\n",
        "    #initial step\n",
        "    else:\n",
        "        return random.randrange(0, configuration.signs)"
      ]
    },
    {
      "cell_type": "markdown",
      "metadata": {
        "id": "Ng-wLc8lAO3A"
      },
      "source": [
        "# Тестовые стратегии из библиотеки"
      ]
    },
    {
      "cell_type": "code",
      "execution_count": 64,
      "metadata": {
        "colab": {
          "base_uri": "https://localhost:8080/"
        },
        "id": "H_bw4t80-Olw",
        "outputId": "095e2a90-9f88-4fe4-8355-986283feb5e2"
      },
      "outputs": [
        {
          "name": "stdout",
          "output_type": "stream",
          "text": [
            "Overwriting reactionary.py\n"
          ]
        }
      ],
      "source": [
        "%%writefile reactionary.py\n",
        "import math\n",
        "import random\n",
        "last_react_action = None\n",
        "\n",
        "def reactionary(observation, configuration):\n",
        "    def get_score(left_move, right_move):\n",
        "        # This method exists in this file so it can be consumed from rps.py and agents.py without a circular dependency\n",
        "        delta = (\n",
        "            right_move - left_move\n",
        "            if (left_move + right_move) % 2 == 0\n",
        "            else left_move - right_move\n",
        "        )\n",
        "        return 0 if delta == 0 else math.copysign(1, delta)\n",
        "    global last_react_action\n",
        "    if observation.step == 0:\n",
        "        last_react_action = random.randrange(0, configuration.signs)\n",
        "    elif get_score(last_react_action, observation.lastOpponentAction) <= 1:\n",
        "        last_react_action = (observation.lastOpponentAction + 1) % configuration.signs\n",
        "    return last_react_action\n"
      ]
    },
    {
      "cell_type": "code",
      "execution_count": 55,
      "metadata": {
        "colab": {
          "base_uri": "https://localhost:8080/"
        },
        "id": "RPtGesFk-rWY",
        "outputId": "302c0a8a-4bbd-4099-c5d7-e51708ebd3b6"
      },
      "outputs": [
        {
          "name": "stdout",
          "output_type": "stream",
          "text": [
            "Overwriting counter_reactionary.py\n"
          ]
        }
      ],
      "source": [
        "%%writefile counter_reactionary.py\n",
        "import random\n",
        "import math\n",
        "\n",
        "last_counter_action = None\n",
        "\n",
        "def counter_reactionary(observation, configuration):\n",
        "    def get_score(left_move, right_move):\n",
        "        # This method exists in this file so it can be consumed from rps.py and agents.py without a circular dependency\n",
        "        delta = (\n",
        "            right_move - left_move\n",
        "            if (left_move + right_move) % 2 == 0\n",
        "            else left_move - right_move\n",
        "        )\n",
        "        return 0 if delta == 0 else math.copysign(1, delta)\n",
        "    global last_counter_action\n",
        "    if observation.step == 0:\n",
        "        last_counter_action = random.randrange(0, configuration.signs)\n",
        "    elif get_score(last_counter_action, observation.lastOpponentAction) == 1:\n",
        "        last_counter_action = (last_counter_action + 2) % configuration.signs\n",
        "    else:\n",
        "        last_counter_action = (observation.lastOpponentAction + 1) % configuration.signs\n",
        "    return last_counter_action\n"
      ]
    },
    {
      "cell_type": "code",
      "execution_count": 44,
      "metadata": {
        "colab": {
          "base_uri": "https://localhost:8080/"
        },
        "id": "mTS3ZPro_n7o",
        "outputId": "d2bd2a6f-edb6-4a64-8a49-2f3d09c4da2f"
      },
      "outputs": [
        {
          "name": "stdout",
          "output_type": "stream",
          "text": [
            "Writing statistical.py\n"
          ]
        }
      ],
      "source": [
        "%%writefile statistical.py\n",
        "import random\n",
        "import math\n",
        "\n",
        "action_histogram = {}\n",
        "\n",
        "def statistical(observation, configuration):\n",
        "    global action_histogram\n",
        "    if observation.step == 0:\n",
        "        action_histogram = {}\n",
        "        return\n",
        "    action = observation.lastOpponentAction\n",
        "    if action not in action_histogram:\n",
        "        action_histogram[action] = 0\n",
        "    action_histogram[action] += 1\n",
        "    mode_action = None\n",
        "    mode_action_count = None\n",
        "    for k, v in action_histogram.items():\n",
        "        if mode_action_count is None or v > mode_action_count:\n",
        "            mode_action = k\n",
        "            mode_action_count = v\n",
        "            continue\n",
        "\n",
        "    return (mode_action + 1) % configuration.signs\n"
      ]
    },
    {
      "cell_type": "markdown",
      "metadata": {
        "id": "Dca2UVyiB4om"
      },
      "source": [
        "# Рандомная стратегия"
      ]
    },
    {
      "cell_type": "code",
      "execution_count": 27,
      "metadata": {
        "colab": {
          "base_uri": "https://localhost:8080/"
        },
        "id": "JhAwLI7QB4U2",
        "outputId": "5311dd25-b3fc-442b-f8b1-3191cb1748f9"
      },
      "outputs": [
        {
          "name": "stdout",
          "output_type": "stream",
          "text": [
            "Overwriting random.py\n"
          ]
        }
      ],
      "source": [
        "%%writefile random.py\n",
        "import random\n",
        "\n",
        "def random_choise(observation, configuration):\n",
        "  return random.randrange(0, configuration.signs)\n"
      ]
    },
    {
      "cell_type": "markdown",
      "metadata": {
        "id": "4RGvYkIBSZhf"
      },
      "source": [
        "# Прочие стратегии"
      ]
    },
    {
      "cell_type": "code",
      "execution_count": 70,
      "metadata": {
        "colab": {
          "base_uri": "https://localhost:8080/"
        },
        "id": "sqJXmBIRA6Lh",
        "outputId": "b964e144-81d2-47fa-b5fb-53793332effc"
      },
      "outputs": [
        {
          "name": "stdout",
          "output_type": "stream",
          "text": [
            "Writing keep_strategy.py\n"
          ]
        }
      ],
      "source": [
        "%%writefile keep_strategy.py\n",
        "import random\n",
        "import math\n",
        "\n",
        "my_action = []\n",
        "\n",
        "def keep_strategy(observation, configuration):\n",
        "    def get_score(left_move, right_move):\n",
        "        # This method exists in this file so it can be consumed from rps.py and agents.py without a circular dependency\n",
        "        delta = (\n",
        "            right_move - left_move\n",
        "            if (left_move + right_move) % 2 == 0\n",
        "            else left_move - right_move\n",
        "        )\n",
        "        return 0 if delta == 0 else math.copysign(1, delta)\n",
        "    global my_action\n",
        "    if observation.step == 0:\n",
        "        answer = random.randrange(0, configuration.signs)\n",
        "        my_action.append(answer)\n",
        "    elif get_score(my_action[-1], observation.lastOpponentAction) == 1:\n",
        "        answer = my_action[-1]\n",
        "        my_action.append(answer)\n",
        "    else:\n",
        "        answer = random.randrange(0, configuration.signs)\n",
        "        my_action.append(answer)\n",
        "    return answer\n"
      ]
    },
    {
      "cell_type": "code",
      "execution_count": 78,
      "metadata": {
        "colab": {
          "base_uri": "https://localhost:8080/"
        },
        "id": "1Bym4kfjSCTP",
        "outputId": "93293d27-8b86-4cb0-b00b-0981dd32d3ec"
      },
      "outputs": [
        {
          "name": "stdout",
          "output_type": "stream",
          "text": [
            "Writing throw_paper_if_win.py\n"
          ]
        }
      ],
      "source": [
        "%%writefile throw_paper_if_win.py\n",
        "import random\n",
        "import math\n",
        "\n",
        "my_action = []\n",
        "\n",
        "def keep_strategy(observation, configuration):\n",
        "    def get_score(left_move, right_move):\n",
        "        # This method exists in this file so it can be consumed from rps.py and agents.py without a circular dependency\n",
        "        delta = (\n",
        "            right_move - left_move\n",
        "            if (left_move + right_move) % 2 == 0\n",
        "            else left_move - right_move\n",
        "        )\n",
        "        return 0 if delta == 0 else math.copysign(1, delta)\n",
        "    global my_action\n",
        "    if observation.step == 0:\n",
        "        answer = random.randrange(0, configuration.signs)\n",
        "        my_action.append(answer)\n",
        "    elif get_score(my_action[-1], observation.lastOpponentAction) == 1:\n",
        "        answer = 1\n",
        "        my_action.append(answer)\n",
        "    else:\n",
        "        answer = random.randrange(0, configuration.signs)\n",
        "        my_action.append(answer)\n",
        "    return answer\n"
      ]
    },
    {
      "cell_type": "code",
      "execution_count": 83,
      "metadata": {
        "colab": {
          "base_uri": "https://localhost:8080/"
        },
        "id": "DNAEKKvgVV2Z",
        "outputId": "d02f6e37-a860-4978-a922-02b6e1fe154c"
      },
      "outputs": [
        {
          "name": "stdout",
          "output_type": "stream",
          "text": [
            "Writing throw_scissors_if_lose.py\n"
          ]
        }
      ],
      "source": [
        "%%writefile throw_scissors_if_lose.py\n",
        "import random\n",
        "import math\n",
        "\n",
        "my_action = []\n",
        "\n",
        "def keep_strategy(observation, configuration):\n",
        "    \"\"\"\n",
        "    Keep stategy if win\n",
        "    \"\"\"\n",
        "    def get_score(left_move, right_move):\n",
        "        # This method exists in this file so it can be consumed from rps.py and agents.py without a circular dependency\n",
        "        delta = (\n",
        "            right_move - left_move\n",
        "            if (left_move + right_move) % 2 == 0\n",
        "            else left_move - right_move\n",
        "        )\n",
        "        return 0 if delta == 0 else math.copysign(1, delta)\n",
        "    global my_action\n",
        "    if observation.step == 0:\n",
        "        answer = random.randrange(0, configuration.signs)\n",
        "        my_action.append(answer)\n",
        "    elif get_score(my_action[-1], observation.lastOpponentAction) < 1:\n",
        "        answer = 2\n",
        "        my_action.append(answer)\n",
        "    else:\n",
        "        answer = random.randrange(0, configuration.signs)\n",
        "        my_action.append(answer)\n",
        "    return answer\n"
      ]
    },
    {
      "cell_type": "code",
      "execution_count": 88,
      "metadata": {
        "colab": {
          "base_uri": "https://localhost:8080/"
        },
        "id": "PgDI9z6tWGdJ",
        "outputId": "7655b013-07e8-4516-a872-231799d1f9e2"
      },
      "outputs": [
        {
          "name": "stdout",
          "output_type": "stream",
          "text": [
            "Writing fixed_statistic.py\n"
          ]
        }
      ],
      "source": [
        "%%writefile fixed_statistic.py\n",
        "import random\n",
        "import numpy\n",
        "\n",
        "def fixed_statistic(observation, configuration):\n",
        "    \"\"\"\n",
        "    Strategy based on https://avatars.dzeninfra.ru/get-zen_doc/3985649/pub_5faa46b389ace40d9a449e91_5faa816a9c3dc81f90d0e63e/scale_1200\n",
        "    \"\"\"\n",
        "    all_results = [0]*int(configuration.episodeSteps*0.354)+[1]*int(configuration.episodeSteps*0.296) +\\\n",
        "     [2]*int(configuration.episodeSteps*0.35)\n",
        "    return random.choice(all_results)\n"
      ]
    },
    {
      "cell_type": "markdown",
      "metadata": {
        "id": "ExgIpXUVjbjN"
      },
      "source": [
        "Воспользуемся функцией evaluate из библиотеки kaggle_environments с помощью которой запустим наших агентов и проведем эксперимент на заданном количестве игр"
      ]
    },
    {
      "cell_type": "markdown",
      "metadata": {
        "id": "jqi8mmwuEI73"
      },
      "source": [
        "# Создание окружения\n"
      ]
    },
    {
      "cell_type": "code",
      "execution_count": 33,
      "metadata": {
        "id": "LZkbi1CMEIov"
      },
      "outputs": [],
      "source": [
        "env = make('rps',\n",
        "           configuration={\"episodeSteps\": 100})"
      ]
    },
    {
      "cell_type": "markdown",
      "metadata": {
        "id": "1swNxzpMLFN5"
      },
      "source": [
        "# Запуск окружения"
      ]
    },
    {
      "cell_type": "code",
      "execution_count": 100,
      "metadata": {
        "colab": {
          "base_uri": "https://localhost:8080/"
        },
        "id": "OvhX2LsxLJgB",
        "outputId": "0490499d-4fdb-4531-9bf3-2aacc2f86309"
      },
      "outputs": [
        {
          "name": "stderr",
          "output_type": "stream",
          "text": [
            "/usr/local/lib/python3.10/dist-packages/ipykernel/ipkernel.py:283: DeprecationWarning: `should_run_async` will not call `transform_cell` automatically in the future. Please pass the result to `transformed_cell` argument and any exception that happen during thetransform in `preprocessing_exc_tuple` in IPython 7.17 and above.\n",
            "  and should_run_async(code)\n"
          ]
        },
        {
          "name": "stdout",
          "output_type": "stream",
          "text": [
            "random.py\n"
          ]
        }
      ],
      "source": [
        "def run_competitions(agent_1:str, agent_2:str, debug=False) -> str:\n",
        "    \"\"\"\n",
        "    Function for run competition between 2 agents and return\n",
        "    name of the agent, which win thin competitions\n",
        "\n",
        "    Args:\n",
        "        agent_1(str): name of file with first agent\n",
        "        agent_2(str): name of file with second agent\n",
        "        debug(bool): default - False. If true: print the\n",
        "            result of the competition, else doesn't\n",
        "    Return:\n",
        "        str with name of winner\n",
        "    \"\"\"\n",
        "    result = env.run([agent_1, agent_2]) #start env\n",
        "    if debug:\n",
        "        print(result) #for debuging\n",
        "    result=result[-1] #find last observation\n",
        "    agent_1_reward = result[0]['observation']['reward'] #find last reward\n",
        "    agent_2_reward = result[1]['observation']['reward'] #find last reward\n",
        "    if agent_1_reward>agent_2_reward: # first win\n",
        "        return agent_1\n",
        "    elif agent_1_reward<agent_2_reward: # second win\n",
        "        return agent_2\n",
        "    else: #tie\n",
        "        return None\n",
        "\n",
        "a = run_competitions('random.py', 'fixed_statistic.py')\n",
        "print(a)"
      ]
    },
    {
      "cell_type": "markdown",
      "metadata": {
        "id": "Sfozcaf9Xuah"
      },
      "source": [
        "# Создаем турнир"
      ]
    },
    {
      "cell_type": "code",
      "execution_count": 102,
      "metadata": {
        "colab": {
          "base_uri": "https://localhost:8080/"
        },
        "id": "3szo0YaeXt74",
        "outputId": "778c3138-69e0-4e54-ccdf-1f8e6c11b189"
      },
      "outputs": [
        {
          "name": "stderr",
          "output_type": "stream",
          "text": [
            "/usr/local/lib/python3.10/dist-packages/ipykernel/ipkernel.py:283: DeprecationWarning: `should_run_async` will not call `transform_cell` automatically in the future. Please pass the result to `transformed_cell` argument and any exception that happen during thetransform in `preprocessing_exc_tuple` in IPython 7.17 and above.\n",
            "  and should_run_async(code)\n"
          ]
        },
        {
          "name": "stdout",
          "output_type": "stream",
          "text": [
            "Winner of 1 round is: ['counter_reactionary.py', 'throw_paper_if_win.py', 'fixed_statistic.py', 'reactionary.py', 'copy_opponent.py', 'keep_strategy.py']\n",
            "Winner of 2 round is: ['copy_opponent.py', 'keep_strategy.py', 'reactionary.py']\n",
            "Total winner is copy_opponent.py\n"
          ]
        }
      ],
      "source": [
        "import random\n",
        "\n",
        "# I can convert this to function, but don't want it)\n",
        "\n",
        "agents = ['rock.py', 'paper.py', 'scissors.py', 'copy_opponent.py',\n",
        "          'reactionary.py', 'counter_reactionary.py', 'statistical.py',\n",
        "          'random.py', 'keep_strategy.py', 'throw_paper_if_win.py',\n",
        "          'throw_scissors_if_lose.py', 'fixed_statistic.py']\n",
        "# First round\n",
        "temp = agents.copy()\n",
        "tree=[] # tree of championship\n",
        "winner_tree=[] # list with winners of round\n",
        "while temp!=[]:\n",
        "    leave = random.sample(temp, k=2) # random choice not repeated values\n",
        "    temp.remove(leave[0])\n",
        "    temp.remove(leave[1])\n",
        "    tree.append(leave) # add new pair of players\n",
        "for i in tree: # for all pairs\n",
        "    winner=None\n",
        "    while winner is None:\n",
        "        winner = run_competitions(i[0], i[1]) #start competition\n",
        "    winner_tree.append(winner)\n",
        "\n",
        "print(f'Winner of 1 round is: {winner_tree}') #print winners of the first round\n",
        "# Second round (same things)\n",
        "temp = winner_tree.copy()\n",
        "tree=[]\n",
        "winner_tree=[]\n",
        "while temp!=[]:\n",
        "    leave = random.sample(temp, k=2)\n",
        "    temp.remove(leave[0])\n",
        "    temp.remove(leave[1])\n",
        "    tree.append(leave)\n",
        "for i in tree:\n",
        "    winner=None\n",
        "    while winner is None:\n",
        "        winner = run_competitions(i[0], i[1])\n",
        "    winner_tree.append(winner)\n",
        "print(f'Winner of 2 round is: {winner_tree}')\n",
        "# Third round (change, because number of agents is odd)\n",
        "winner_1=None\n",
        "winner_2=None\n",
        "total_winner = None\n",
        "\n",
        "while winner_1 is None:\n",
        "    winner_1 = run_competitions(winner_tree[0], winner_tree[1]) #run first and second agent\n",
        "while winner_2 is None:\n",
        "    winner_2 = run_competitions(winner_1, winner_tree[2]) #run winner and second agent\n",
        "while total_winner is None:\n",
        "    total_winner = run_competitions(winner_1, winner_2) #run winners\n",
        "print(f'Total winner is {total_winner}') #WE HAVE A WINNER, CONGRATULATIONS!!!!"
      ]
    }
  ],
  "metadata": {
    "colab": {
      "provenance": []
    },
    "kernelspec": {
      "display_name": "Python 3",
      "name": "python3"
    },
    "language_info": {
      "name": "python"
    }
  },
  "nbformat": 4,
  "nbformat_minor": 0
}
