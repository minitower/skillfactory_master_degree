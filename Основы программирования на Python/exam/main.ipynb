{
 "cells": [
  {
   "cell_type": "code",
   "execution_count": 2,
   "metadata": {},
   "outputs": [],
   "source": [
    "# Импортируем нужные библиотеки\n",
    "import random"
   ]
  },
  {
   "cell_type": "markdown",
   "metadata": {},
   "source": [
    "# Задание 1\n",
    "Так как в задании сказано \"напишите программу\", то в функцию я это оборачивать не стал"
   ]
  },
  {
   "cell_type": "code",
   "execution_count": 3,
   "metadata": {},
   "outputs": [
    {
     "name": "stdout",
     "output_type": "stream",
     "text": [
      "Вывод 1\n",
      "дела как Привет\n",
      "дождь идет улице На\n",
      "программирование люблю Я\n",
      "Вывод 2\n",
      "дела как Привет\n",
      "дождь идет улице На программирование люблю Я\n"
     ]
    }
   ],
   "source": [
    "with open('./data/first_file.txt', 'r', encoding='UTF-8') as f: # читаем файл\n",
    "    text = f.read()\n",
    "arr_sentense = text.split('\\n') # делим на предложения\n",
    "arr_words = [i.split(' ') for i in arr_sentense] # на слова\n",
    "arr_reversed = [i[::-1] for i in arr_words] # реверсим\n",
    "arr_join = [' '.join(i) for i in arr_reversed] # джойним\n",
    "# Так как задание не понятное, сделаю 2 вывода\n",
    "# Вывод 1\n",
    "print('Вывод 1')\n",
    "print('\\n'.join(arr_join))\n",
    "# Вывод 2\n",
    "print('Вывод 2')\n",
    "arr_join_2 = arr_join.copy()\n",
    "arr_join_2[1] = arr_join_2[1]+ ' ' + arr_join_2[2]\n",
    "print('\\n'.join(arr_join_2[0:2]))"
   ]
  },
  {
   "cell_type": "markdown",
   "metadata": {},
   "source": [
    "# Задание 2"
   ]
  },
  {
   "cell_type": "code",
   "execution_count": 4,
   "metadata": {},
   "outputs": [
    {
     "name": "stdout",
     "output_type": "stream",
     "text": [
      "Пример 1: a3b2c\n",
      "Пример 2: abcd\n"
     ]
    }
   ],
   "source": [
    "def second(s: str) -> str:\n",
    "    arr = []\n",
    "    n = 1\n",
    "\n",
    "    for i in range(1, len(s)): \n",
    "        if s[i] == s[i-1]: # проверяем символы (с 1 символа)\n",
    "            n += 1 # считаем буквы\n",
    "        else:\n",
    "            if n>1:\n",
    "                arr.append(s[i-1]+str(n)) # если есть совпадения по буквам, вставляем количество\n",
    "            else:\n",
    "                arr.append(s[i-1]) # если совпадений нет, ничего не меняем\n",
    "            n=1\n",
    "    # Делаем то же самое для последнего символа\n",
    "    if n>1:\n",
    "        arr.append(s[-1]+str(n)) \n",
    "    else:\n",
    "        arr.append(s[-1])\n",
    "        \n",
    "    return ''.join(arr) # возвращаем результат\n",
    "\n",
    "print('Пример 1:', second('aaabbc'))\n",
    "print('Пример 2:', second('abcd'))"
   ]
  },
  {
   "cell_type": "markdown",
   "metadata": {},
   "source": [
    "# Задание 3"
   ]
  },
  {
   "cell_type": "code",
   "execution_count": 5,
   "metadata": {},
   "outputs": [
    {
     "name": "stdout",
     "output_type": "stream",
     "text": [
      "{{}}} Скобки расставлены неверно\n",
      "() Скобки расставлены правильно\n",
      "((()))(()) Скобки расставлены правильно\n",
      "{[]]} Скобки расставлены неверно\n",
      "{[]} Скобки расставлены правильно\n"
     ]
    }
   ],
   "source": [
    "def third(s: str) -> str:\n",
    "    stack = []\n",
    "    map = {')': '(', '}': '{', ']': '['}\n",
    "\n",
    "    for char in s:\n",
    "        if char in map.values():  # если добавлена открывающая скобка, то занесем ее в стэк\n",
    "            stack.append(char)\n",
    "        elif char in map.keys():  \n",
    "            try:\n",
    "                stack.pop() # удаляем скобку из стэка\n",
    "            except IndexError:\n",
    "                return 'Скобки расставлены неверно' # если найдена закрывающая скобка, а при этом стэк пустой, то неверно\n",
    "\n",
    "    if len(stack)==0:\n",
    "        return 'Скобки расставлены правильно'\n",
    "    else:\n",
    "        return 'Скобки расставлены неверно'\n",
    "\n",
    "# проверки\n",
    "print('{{}}}', third('{{}}}'))\n",
    "print('()', third('()'))\n",
    "print('((()))(())', third('((()))(())'))\n",
    "print('{[]]}', third('{[]]}'))\n",
    "print('{[]}', third('{[]}'))"
   ]
  },
  {
   "cell_type": "markdown",
   "metadata": {},
   "source": [
    "# Задание 4\n",
    "Так как не указана вероятность выпадения каких-либо символов, то пусть они выходят с равной вероятностью\n",
    "\n",
    "Также не указано, можно ли использовать библиотеки, поэтому я их буду использовать"
   ]
  },
  {
   "cell_type": "code",
   "execution_count": 6,
   "metadata": {},
   "outputs": [
    {
     "name": "stdout",
     "output_type": "stream",
     "text": [
      "W6/1'\n",
      "4%3~OB4M\n",
      "8>87T7Q*e0Y~\n",
      "2_562Y5u8'Hb=52r7%5AZ8^66//V+x5j\n"
     ]
    }
   ],
   "source": [
    "def fourth(lenght: int):\n",
    "    letters = ['a', 'b', 'c', 'd', 'e', 'f',\n",
    "            'g', 'h', 'i', 'j', 'k', 'l',\n",
    "            'm', 'n', 'o', 'p', 'q', 'r',\n",
    "           's', 't', 'u', 'v', 'w', 'x',\n",
    "           'y', 'z', 'A', 'B', 'C', 'D',\n",
    "           'E', 'F', 'G', 'H', 'I', 'J',\n",
    "            'K', 'L', 'M', 'N', 'O', 'P',\n",
    "           'Q', 'R', 'S', 'T', 'U', 'V',\n",
    "           'W', 'X', 'Y', 'Z']\n",
    "    digits = ['1', '2', '3', '4', '5', \n",
    "              '6', '7', '8', '9', '0']\n",
    "    chars = [ '!', '@', '#', '$', \n",
    "           '%', '^', '*', '?', '>', '<', \n",
    "           \"'\", '_', '+', '=', '/', '~']\n",
    "    pass_arr = []\n",
    "    if lenght<3:\n",
    "        raise Exception('Не могу создать пароль, который бы включал'+\n",
    "                        'и буквы, и цифры, и знаки') # если пароль меньше 3, то нельзя составить его\n",
    "    else:\n",
    "        pass_arr.append(random.choice(letters)) # добавляем обязательную букву\n",
    "        pass_arr.append(random.choice(digits)) # добавляем обязательную цифру\n",
    "        pass_arr.append(random.choice(chars)) # добавляем обязательный символ\n",
    "        for _ in range(0, lenght-3): # заполняем остальные символы случайно\n",
    "            type_char = random.randint(0, 2) # выбираем тип символа\n",
    "            # и добавляем символы в зависимости от типа\n",
    "            if type_char == 0:\n",
    "                pass_arr.append(random.choice(letters))\n",
    "            elif type_char == 1:\n",
    "                pass_arr.append(random.choice(digits))\n",
    "            elif type_char == 2:\n",
    "                pass_arr.append(random.choice(chars))\n",
    "    random.shuffle(pass_arr) # перемешиваем, чтобы не было влияния того, что добавляли символы в начале\n",
    "    return ''.join(pass_arr)\n",
    "\n",
    "# Немного паролей\n",
    "print(fourth(5))\n",
    "print(fourth(8))\n",
    "print(fourth(12))\n",
    "print(fourth(32))"
   ]
  },
  {
   "cell_type": "markdown",
   "metadata": {},
   "source": [
    "# Задание 5"
   ]
  },
  {
   "cell_type": "code",
   "execution_count": 7,
   "metadata": {},
   "outputs": [
    {
     "name": "stdout",
     "output_type": "stream",
     "text": [
      "Среднее время в очереди:  7.0\n",
      "Максимальное время в очереди: 18\n",
      "Количество vip клиентов: 0\n",
      "Количество обычных клиентов: 33\n",
      "Среднее время одного обслуживания: 3.0606060606060606\n",
      "Общее время очереди: 101\n"
     ]
    }
   ],
   "source": [
    "class ElectronicQueue:\n",
    "    def __init__(self):\n",
    "        self.tasks = [1, 2, 2, 3, 3, 3, 3, 4, 4, 5] # время в минутах на обслуживание (с учетом вероятности)\n",
    "        self.common_queue = [] # очередь обычных клиентов банка\n",
    "        self.vip_queue = [] # очередь для vip клиентов\n",
    "        self.vip_probability = [0, 0, 0, 0, 0, 0, 0, 0, 0, 0, 0, 0, 0, 1] # вероятность прихода vip клиента\n",
    "        self.queue_time = 0 # общее время\n",
    "        self.client_time = [] # время для клиента\n",
    "        self.work_time = 100 # время работы очереди\n",
    "        self.new_client_p = [1, 1, 1, 1, 1, 1, 1, 1, 0, 0, 0] # вероятность нового клиента\n",
    "        self.time_in_queue = [] # время клиента в очереди\n",
    "        \n",
    "    def open_queue(self, init_number:int):\n",
    "        '''\n",
    "        Функция для открытия очереди с заданным числом клиентов\n",
    "        '''\n",
    "        for _ in range(init_number):\n",
    "            vip = random.choice(self.vip_probability)\n",
    "            if vip:\n",
    "                self.vip_queue.append(1)\n",
    "            else:\n",
    "                self.common_queue.append(1)\n",
    "        self.time_in_queue = [0]*init_number # время в очереди изначально 0\n",
    "    \n",
    "    def get_task_for_client(self):\n",
    "        return random.choice(self.tasks)\n",
    "    \n",
    "    def append_new_client(self):\n",
    "        vip = random.choice(self.vip_probability)\n",
    "        if vip:\n",
    "            self.vip_queue.append(1)\n",
    "            self.time_in_queue.insert(0, 0) # для приоритетного вставляем вначало\n",
    "        else:\n",
    "            self.common_queue.append(1)\n",
    "            self.time_in_queue.append(0) # для только пришедшего обычного клиента время 0\n",
    "    \n",
    "    def process_queue(self, init_queue:int):\n",
    "        self.open_queue(init_number=init_queue)\n",
    "        while self.queue_time<=self.work_time:\n",
    "            \n",
    "            if len(self.vip_queue)!=0: # соблюдаем приоритет\n",
    "                task_time = random.choice(self.tasks)\n",
    "                self.queue_time+=task_time\n",
    "                self.time_in_queue = [i+task_time for i in self.time_in_queue]\n",
    "                self.client_time.append(['vip', task_time, self.time_in_queue[0]])\n",
    "                # логи для проверки\n",
    "                #print(self.time_in_queue)\n",
    "                #print(task_time)\n",
    "                #print(self.client_time)\n",
    "                self.vip_queue.pop(0)\n",
    "                self.time_in_queue.pop(0)\n",
    "                if random.choice(self.new_client_p):\n",
    "                    self.append_new_client()\n",
    "\n",
    "            elif len(self.vip_queue)==0 and len(self.common_queue)!=0: # соблюдаем приоритет\n",
    "                #print('COMMON') # логи для проверки приоритетов\n",
    "                task_time = random.choice(self.tasks)\n",
    "                self.queue_time+=task_time # формируем общее время\n",
    "                self.time_in_queue = [i+task_time for i in self.time_in_queue]\n",
    "                self.client_time.append(['common', task_time, self.time_in_queue[0]]) # добавляем время с информацией о типе клиента и времени в очереди\n",
    "                # логи для проверки\n",
    "                #print(self.time_in_queue)\n",
    "                #print(task_time)\n",
    "                #print(self.client_time)\n",
    "                self.common_queue.pop(0) # удаляем из очереди\n",
    "                self.time_in_queue.pop(0)\n",
    "                if random.choice(self.new_client_p):\n",
    "                    self.append_new_client() # добавляем нового клиента (если надо)\n",
    "                    \n",
    "            elif len(self.vip_queue)==0 and len(self.common_queue)==0:\n",
    "                self.append_new_client() # если клиенты закончились, ждем клиента в любом случае\n",
    "        if len(self.vip_queue)!=0: # после закрытия обслуживаем только випов\n",
    "            task_time = random.choice(self.tasks)\n",
    "            self.client_time.append(['vip', task_time])\n",
    "            self.queue_time+=task_time\n",
    "            self.vip_queue.pop(0)\n",
    "        return self.vip_queue, self.common_queue, self.client_time, self.queue_time\n",
    "\n",
    "    def print_result_queue(self, init_number: int):\n",
    "        self.process_queue(init_queue=init_number)\n",
    "        in_queue_time = [i[2] for i in self.client_time]\n",
    "        number_vip = 0\n",
    "        number_common = 0\n",
    "        for i in self.client_time:\n",
    "            if i[0]=='common':\n",
    "                number_common+=1\n",
    "            elif i[0]=='vip':\n",
    "                number_vip+=1\n",
    "        task_time = [i[1] for i in self.client_time]\n",
    "        print('Среднее время в очереди: ', sum(in_queue_time)/len(in_queue_time))\n",
    "        print('Максимальное время в очереди:', max(in_queue_time))\n",
    "        print('Количество vip клиентов:', number_vip)\n",
    "        print('Количество обычных клиентов:', number_common)\n",
    "        print('Среднее время одного обслуживания:', sum(task_time)/len(task_time))\n",
    "        print('Общее время очереди:', self.queue_time)\n",
    "        \n",
    "\n",
    "eq = ElectronicQueue()\n",
    "eq.print_result_queue(5)"
   ]
  },
  {
   "cell_type": "markdown",
   "metadata": {},
   "source": [
    "# Задание 6"
   ]
  },
  {
   "cell_type": "code",
   "execution_count": 8,
   "metadata": {},
   "outputs": [
    {
     "name": "stdout",
     "output_type": "stream",
     "text": [
      "Это палиндром\n",
      "Это палиндром\n",
      "Это палиндром\n",
      "Это палиндром\n",
      "Близко к палиндрому\n",
      "Близко к палиндрому\n",
      "Близко к палиндрому\n",
      "Близко к палиндрому\n",
      "Не палиндром\n",
      "Не палиндром\n",
      "Не палиндром\n",
      "Не палиндром\n"
     ]
    }
   ],
   "source": [
    "def palindrome(s):\n",
    "    return s == s[::-1] # равна ли фраза задом наперед\n",
    "\n",
    "def almost_palindrome(s):\n",
    "    for i in range(len(s)):\n",
    "        if palindrome(s[:i] + s[i+1:]): # если подстрока без одного символа палиндром, то почти палиндром\n",
    "            return True\n",
    "    return False\n",
    "\n",
    "def check_string(s):\n",
    "    s = s.replace(' ', '').lower() # для работы с фразами\n",
    "    if palindrome(s): \n",
    "        return \"Это палиндром\"\n",
    "    elif almost_palindrome(s):\n",
    "        return \"Близко к палиндрому\"\n",
    "    else:\n",
    "        return \"Не палиндром\"\n",
    "\n",
    "# Тестирование палиндромы\n",
    "print(check_string('а роза упала на лапу Азора'))\n",
    "print(check_string('was it a car or a cat I saw'))\n",
    "print(check_string('abacaba'))\n",
    "print(check_string('abba'))\n",
    "# Тестирование палиндромы с одной лишней буквой\n",
    "print(check_string('а роза упалаg на лапу Азора'))\n",
    "print(check_string('was it a fcar or a cat I saw'))\n",
    "print(check_string('abagcaba'))\n",
    "print(check_string('abbad'))\n",
    "# Тестирование не палиндромов\n",
    "print(check_string('dfghwe'))\n",
    "print(check_string('tyejnre'))\n",
    "print(check_string('shsfhsgn'))\n",
    "print(check_string('adfrhw4r'))"
   ]
  },
  {
   "cell_type": "markdown",
   "metadata": {},
   "source": [
    "# Задание 7\n",
    "Кратко опишу, как я понял это задание:\n",
    "1) Расчитываем *процент слов* для удаления (в примере было удалено 4 слова из 12, что составлет 33 процента. Как сказал куратор, нужно брать именно в словах);\n",
    "2) Процент слов должен быть *максимально близок* к указанному проценту (как в меньшую, так и в большую сторону);\n",
    "3) В условиях сказано о *случайном* выборе слов, поэтому никаких ограничений на это я навешивать не буду;\n",
    "4) В задании этого не сказано (но, видимо, подразумевалось), что не нужно *каждое слово* заменять на ... Вместо этого стоит заменять часть предложения на ..."
   ]
  },
  {
   "cell_type": "code",
   "execution_count": 29,
   "metadata": {},
   "outputs": [
    {
     "name": "stdout",
     "output_type": "stream",
     "text": [
      "Сегодня солнечный день, и я собираюсь гулять в парке с моими друзьями.\n"
     ]
    }
   ],
   "source": [
    "def seventh_task(file_path:str, percent:float, result_path: str = './out/seventh_file_out.txt'):\n",
    "    with open(file_path, 'r', encoding='utf-8') as file: # читаем файл\n",
    "        text = file.read()\n",
    "\n",
    "    data_arr = text.split(' ') # разделяем предложения на слова\n",
    "    remove_words =int(round(len(data_arr)*percent, 0))\n",
    "    remove_idx = random.sample(range(len(data_arr)), remove_words) # находим индексы для удаления\n",
    "\n",
    "    for index in remove_idx: # заменяем слово того индекса, который выбран\n",
    "        data_arr[index] = '...'\n",
    "    \n",
    "    modified_text = ' '.join(data_arr)\n",
    "    while modified_text.find('... ...')!=-1: # превращаем несколько идущих подряд точек в одну\n",
    "        modified_text = modified_text.replace('... ...', '...')\n",
    "    with open(result_path, 'w+', encoding='UTF-8') as f: # записываем результат\n",
    "        f.write(modified_text)\n",
    "    return modified_text\n",
    "\n",
    "# Проверки\n",
    "#result = seventh_task('./data/seventh_file.txt', 0.5) # удаляет 6 слов, ровно половину из нужного\n",
    "#result = seventh_task('./data/seventh_file.txt', 0.3) # удаляет 4 слова, ближайшее в 30 число\n",
    "#result = seventh_task('./data/seventh_file.txt', 0.0) # не удаляет ничего, т. к. процент составляет 0\n",
    "#result = seventh_task('./data/seventh_file.txt', 1.0) # оставляет только одну ...\n",
    "#print(result)"
   ]
  }
 ],
 "metadata": {
  "kernelspec": {
   "display_name": "Python 3",
   "language": "python",
   "name": "python3"
  },
  "language_info": {
   "codemirror_mode": {
    "name": "ipython",
    "version": 3
   },
   "file_extension": ".py",
   "mimetype": "text/x-python",
   "name": "python",
   "nbconvert_exporter": "python",
   "pygments_lexer": "ipython3",
   "version": "3.11.9"
  }
 },
 "nbformat": 4,
 "nbformat_minor": 2
}
