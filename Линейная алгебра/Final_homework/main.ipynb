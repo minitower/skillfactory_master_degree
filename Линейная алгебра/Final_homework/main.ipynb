{
 "cells": [
  {
   "cell_type": "markdown",
   "metadata": {
    "id": "DQQFfNTLJ20S"
   },
   "source": [
    "# Задание 1"
   ]
  },
  {
   "cell_type": "code",
   "execution_count": 35,
   "metadata": {
    "id": "XqAzbM6WJyE2"
   },
   "outputs": [
    {
     "data": {
      "text/plain": [
       "'(AxB)xC'"
      ]
     },
     "execution_count": 35,
     "metadata": {},
     "output_type": "execute_result"
    }
   ],
   "source": [
    "import numpy as np\n",
    "\n",
    "def multiplication_order(A, B, C) -> str:\n",
    "    '''\n",
    "    Function for find optimal multiplication order\n",
    "    for 3 matrix\n",
    "    \n",
    "    Args:\n",
    "        A (np.array, list-like): first matrix\n",
    "        B (np.array, list-like): second matrix\n",
    "        C (np.array, list-like): third matrix\n",
    "\n",
    "    Return:\n",
    "        str like \"(AxB)xC\" or \"Ax(BxC)\"\n",
    "    '''\n",
    "    if A.shape[0]<A.shape[1] \\\n",
    "        and A.shape[1]==B.shape[0]:\n",
    "        return \"(AxB)xC\"\n",
    "    elif B.shape[0]<B.shape[1] \\\n",
    "        and B.shape[1]==C.shape[0]:\n",
    "        return \"Ax(BxC)\"\n",
    "    elif B.shape[1]!=C.shape[0] \\\n",
    "        or A.shape[1]!=B.shape[0]:\n",
    "        return \"Can't build multiplication\"\n",
    "    else:\n",
    "        return 'Error'\n",
    "\n",
    "A = np.array([[1, 2]])\n",
    "B = np.array([[2], [1]])\n",
    "C = np.array([[5]])\n",
    "   \n",
    "multiplication_order(A, B, C)"
   ]
  },
  {
   "cell_type": "markdown",
   "metadata": {
    "id": "vQvUEt_KKShX"
   },
   "source": [
    "# Задание 2\n"
   ]
  },
  {
   "cell_type": "code",
   "execution_count": 36,
   "metadata": {
    "id": "TMJq9ob2KYBY"
   },
   "outputs": [
    {
     "data": {
      "text/plain": [
       "(3, 2)"
      ]
     },
     "execution_count": 36,
     "metadata": {},
     "output_type": "execute_result"
    }
   ],
   "source": [
    "import pandas as pd\n",
    "\n",
    "df = pd.read_csv('./data/data.csv')\n",
    "df.columns = ['room', 'square',\n",
    "                          'floor', 'center',\n",
    "                          'residential_1', 'resudential_2',\n",
    "                          'price']\n",
    "\n",
    "X = df.drop('price', axis=1).values\n",
    "Y = df['price'].values\n",
    "\n",
    "def best_worst(X, Y):\n",
    "    \"\"\"\n",
    "    Find best and worst corr of 2 matrix\n",
    "\n",
    "    Args:\n",
    "        X (np.array): matrix with features\n",
    "        Y (np.array): matrix of observed value\n",
    "\n",
    "    Returns:\n",
    "        tuple: tuple like ({index_best_corr}, {index_worst_corr})\n",
    "    \"\"\"\n",
    "    max_corr = 0\n",
    "    min_corr = np.inf\n",
    "    \n",
    "    max_feature = ''\n",
    "    min_feature = ''\n",
    "    \n",
    "    for i in range(len(X[0])):\n",
    "        corr = np.corrcoef(X[:, i], Y)[0, 1]\n",
    "        \n",
    "        if abs(corr)>abs(max_corr):\n",
    "            max_corr=abs(corr)\n",
    "            max_feature=i\n",
    "        if abs(corr)<abs(min_corr):\n",
    "            min_corr=abs(corr)\n",
    "            min_feature=i\n",
    "    return (max_feature, min_feature)        \n",
    "best_worst(X, Y)"
   ]
  },
  {
   "cell_type": "markdown",
   "metadata": {
    "id": "hindpJMCKhB8"
   },
   "source": [
    "# Задание 3\n"
   ]
  },
  {
   "cell_type": "code",
   "execution_count": 37,
   "metadata": {},
   "outputs": [
    {
     "data": {
      "text/plain": [
       "5"
      ]
     },
     "execution_count": 37,
     "metadata": {},
     "output_type": "execute_result"
    }
   ],
   "source": [
    "def corr_rank(X):\n",
    "    \"\"\"\n",
    "    Function for find rank of correlation matrix for X\n",
    "\n",
    "    Args:\n",
    "        X (np.array): matrix\n",
    "\n",
    "    Returns:\n",
    "        np.array: rank of corr matrix for X\n",
    "    \"\"\"\n",
    "    corr_matrix = np.corrcoef(X)\n",
    "    return int(np.linalg.matrix_rank(corr_matrix))\n",
    "corr_rank(X)"
   ]
  },
  {
   "cell_type": "markdown",
   "metadata": {
    "id": "tKweU9DCKk-f"
   },
   "source": [
    "# Задание 4"
   ]
  },
  {
   "cell_type": "code",
   "execution_count": 38,
   "metadata": {
    "id": "pi2fjbkjKmzi"
   },
   "outputs": [
    {
     "data": {
      "text/plain": [
       "array([[-0.33333333,  0.66666667],\n",
       "       [ 0.66666667, -0.33333333]])"
      ]
     },
     "execution_count": 38,
     "metadata": {},
     "output_type": "execute_result"
    }
   ],
   "source": [
    "def inverse_matrix(A):\n",
    "    \"\"\"\n",
    "    Function for return inverse matrix\n",
    "\n",
    "    Args:\n",
    "        A (np.array): matrix\n",
    "\n",
    "    Returns:\n",
    "        np.array: inverse matrix\n",
    "    \"\"\"\n",
    "    if abs(np.linalg.det(A))<0.001:\n",
    "        return None\n",
    "    else:\n",
    "        return np.linalg.inv(A)\n",
    "\n",
    "A = np.array([[1, 2], [2, 1]])\n",
    "inverse_matrix(A)"
   ]
  },
  {
   "cell_type": "markdown",
   "metadata": {
    "id": "pnIqMUVsKnTq"
   },
   "source": [
    "# Задание 5"
   ]
  },
  {
   "cell_type": "code",
   "execution_count": 39,
   "metadata": {
    "id": "g34wFIBuKpmL"
   },
   "outputs": [
    {
     "data": {
      "text/plain": [
       "array([-574.12295766,   65.33255763,  141.80223878, 1566.16246224,\n",
       "         12.32450391, -315.34552489])"
      ]
     },
     "execution_count": 39,
     "metadata": {},
     "output_type": "execute_result"
    }
   ],
   "source": [
    "def fit_model(X, Y):\n",
    "    \"\"\"\n",
    "    Function for create OLS coefficient for features \n",
    "\n",
    "    Args:\n",
    "        X (np.array): feature matrix\n",
    "        Y (np.array): observed value matrix\n",
    "\n",
    "    Returns:\n",
    "        np.array: matrix with coefficient of OLS model\n",
    "    \"\"\"\n",
    "    return inverse_matrix(X.T@X)@X.T@Y\n",
    "fit_model(X, Y)"
   ]
  }
 ],
 "metadata": {
  "colab": {
   "provenance": []
  },
  "kernelspec": {
   "display_name": "Python 3",
   "name": "python3"
  },
  "language_info": {
   "codemirror_mode": {
    "name": "ipython",
    "version": 3
   },
   "file_extension": ".py",
   "mimetype": "text/x-python",
   "name": "python",
   "nbconvert_exporter": "python",
   "pygments_lexer": "ipython3",
   "version": "3.11.9"
  }
 },
 "nbformat": 4,
 "nbformat_minor": 0
}
