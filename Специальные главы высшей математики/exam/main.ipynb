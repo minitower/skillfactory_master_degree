{
 "cells": [
  {
   "cell_type": "markdown",
   "metadata": {},
   "source": [
    "# Задание 1\n"
   ]
  },
  {
   "cell_type": "markdown",
   "metadata": {},
   "source": [
    "Найдите значение выражения:\n",
    "$$(2.75*\\frac{4}{5})+(1\\frac{2}{3}/0.25)-(3.6*\\frac{5}{8})$$\n",
    "\n",
    "В-первую очередь приведем все к дробному виду:\n",
    "$$(2\\frac{3}{4}*\\frac{4}{5})+(1\\frac{2}{3}/\\frac{1}{4})-(3\\frac{3}{5}*\\frac{5}{8})$$\n",
    "\n",
    "Приведем дроби к неправильным дробям:\n",
    "$$(\\frac{11}{4}*\\frac{4}{5})+(\\frac{5}{3}/\\frac{1}{4})-(\\frac{18}{5}*\\frac{5}{8})$$\n",
    "\n",
    "Произведем операции по порядку:\n",
    "$$\\frac{44}{20}+\\frac{20}{3}-\\frac{90}{40}$$\n",
    "Приведем первые два слагаемых к общему знаменателю 60\n",
    "$$\\frac{132+400}{60}-\\frac{90}{40}$$\n",
    "$$\\frac{532}{60}-\\frac{90}{40}$$\n",
    "Приведем к общему знаменателю 120:\n",
    "$$\\frac{1064-270}{120}$$\n",
    "$$\\frac{794}{120}$$\n",
    "Сократим дробь, разделив обе части на 2\n",
    "$$\\frac{397}{60}$$\n",
    "Видим простое число, больше не сократим. Вынесем целую часть для превращения дроби в правильную:\n",
    "$$6\\frac{37}{60}$$\n",
    "\n",
    "**Ответ:**\n",
    "$$6\\frac{37}{60}$$"
   ]
  },
  {
   "cell_type": "markdown",
   "metadata": {},
   "source": [
    "# Задание 2"
   ]
  },
  {
   "cell_type": "markdown",
   "metadata": {},
   "source": [
    "Найдите значение выражения:\n",
    "$$\\vert (-8)+3^2 \\vert-\\vert (-2)^3+4 \\vert+\\vert 6-\\sqrt{49}\\vert$$\n",
    "В начале решим задания, которые находятся в знаках модуля\n",
    "$$\\vert 1 \\vert - \\vert -4 \\vert + \\vert -1 \\vert$$\n",
    "Уберем модули\n",
    "$$1 - 4 + 1 $$\n",
    "Решиим пример:\n",
    "$$-2$$\n",
    "\n",
    "**Ответ:** \n",
    "$$-2$$"
   ]
  },
  {
   "cell_type": "markdown",
   "metadata": {},
   "source": [
    "# Задание 3"
   ]
  },
  {
   "cell_type": "markdown",
   "metadata": {},
   "source": [
    "Найдите значения выражения:\n",
    "$$\\frac{2^{2n}*4^{n+1}}{8^{n-1}*16^{n}}$$\n",
    "\n",
    "Известно, что $n=3$. Подставим неизвестное в выражение (можно было бы упростить выражение перед этим, но можно этого и не делать, т. к. сказано просто найти значение выражения):\n",
    "$$\\frac{2^{2*3}*4^{3+1}}{8^{3-1}*16^{3}}$$\n",
    "$$\\frac{2^{6}*4^{4}}{8^{2}*16^{3}}$$\n",
    "$$\\frac{64*256}{64*4096}$$\n",
    "$$\\frac{256}{4096}$$\n",
    "$$\\frac{2^8}{2^12}$$\n",
    "$$\\frac{1}{2^4}$$\n",
    "$$\\frac{1}{16}$$\n",
    "\n",
    "**Ответ:**\n",
    "$$\\frac{1}{16}$$"
   ]
  },
  {
   "cell_type": "markdown",
   "metadata": {},
   "source": [
    "# Задание 4"
   ]
  },
  {
   "cell_type": "markdown",
   "metadata": {},
   "source": [
    "Найдите значение выражения:\n",
    "$$log_{2}32-\\frac{1}{2} \\log_4 16+log_{16} 2$$\n",
    "$$log_{2}2^5-\\frac{1}{2} log_4 4^2+\\frac{log_2 2}{log_2 2^4}$$\n",
    "$$5-\\frac{1}{2} 2+\\frac{1}{4}$$\n",
    "$$4+\\frac{1}{4}$$\n",
    "$$\\frac{17}{4}$$\n",
    "\n",
    "**Ответ:**\n",
    "$$\\frac{17}{4}$$"
   ]
  },
  {
   "cell_type": "markdown",
   "metadata": {},
   "source": [
    "# Задание 5"
   ]
  },
  {
   "cell_type": "markdown",
   "metadata": {},
   "source": [
    "Найдите значение выражения:\n",
    "$$\\frac{\\vert 2^3-5*2^2\\vert}{log_2 16}+\\sqrt{(\\frac{1}{2})^{-4}}-log_4(\\frac{1}{16})$$\n",
    "$$\\frac{\\vert -12\\vert}{log_2 2^4}+\\sqrt{16}-log_4(4^{-2})$$\n",
    "$$\\frac{12}{4}+4-(-2)$$\n",
    "$$3+4+2$$\n",
    "$$9$$\n",
    "\n",
    "**Ответ:**\n",
    "$$9$$"
   ]
  },
  {
   "cell_type": "markdown",
   "metadata": {},
   "source": [
    "# Задание 6"
   ]
  },
  {
   "cell_type": "markdown",
   "metadata": {},
   "source": [
    "Решить уравнение:\n",
    "$$(x-2)(x+4)=x^2-5$$\n",
    "$$x^2+4x-2x-8=x^2-5$$\n",
    "$$2x-3=0$$\n",
    "$$2x=3$$\n",
    "$$x=1.5$$\n",
    "\n",
    "**Ответ:**\n",
    "$$x=1.5$$"
   ]
  },
  {
   "cell_type": "markdown",
   "metadata": {},
   "source": [
    "# Задание 7"
   ]
  },
  {
   "cell_type": "markdown",
   "metadata": {},
   "source": [
    "Решить систему уравнений:\n",
    "$$\\begin{cases} 2(3x-4)-(5(y+2)-3)=0 \\\\\n",
    "(2x-(y-1))+3(2y+1)=20 \\end{cases}$$\n",
    "\n",
    "Раскроем скобки:\n",
    "$$\\begin{cases} \n",
    "6x-8-5y-10+3=0 \\\\\n",
    "2x-y+1+6y+3=20 \n",
    "\\end{cases}$$\n",
    "$$\\begin{cases} \n",
    "6x-5y-15=0 \\\\\n",
    "2x+5y-16=0 \n",
    "\\end{cases}$$\n",
    "$$\\begin{cases} \n",
    "x=\\frac{5y+15}{6} \\\\\n",
    "2\\frac{5y+15}{6}+5y-16=0 \n",
    "\\end{cases}$$\n",
    "$$\\begin{cases} \n",
    "x=\\frac{5y+15}{6} \\\\\n",
    "\\frac{10y+30+30y-96}{6}=0 \n",
    "\\end{cases}$$\n",
    "$$\\begin{cases} \n",
    "x=\\frac{5y+15}{6} \\\\\n",
    "\\frac{40y-66}{6}=0 \n",
    "\\end{cases}$$\n",
    "$$\\begin{cases} \n",
    "x=\\frac{5y+15}{6} \\\\\n",
    "40y=66 \n",
    "\\end{cases}$$\n",
    "$$\\begin{cases} \n",
    "x=\\frac{5y+15}{6} \\\\\n",
    "y=\\frac{33}{20} \n",
    "\\end{cases}$$\n",
    "$$\\begin{cases} \n",
    "x=\\frac{5*\\frac{33}{20}+15}{6} \\\\\n",
    "y=\\frac{33}{20} \n",
    "\\end{cases}$$\n",
    "$$\\begin{cases} \n",
    "x=\\frac{31}{8} \\\\\n",
    "y=\\frac{33}{20} \n",
    "\\end{cases}$$\n",
    "$$\\begin{cases} \n",
    "x=3\\frac{7}{8} \\\\\n",
    "y=1\\frac{13}{20} \n",
    "\\end{cases}$$"
   ]
  },
  {
   "cell_type": "markdown",
   "metadata": {},
   "source": [
    "# Задание 8"
   ]
  },
  {
   "cell_type": "markdown",
   "metadata": {},
   "source": [
    "Решите уравнение:\n",
    "$$x^3-4x^2+x+6=0$$\n",
    "Попробуем поискать первый корень уравнения. Возьмем -1:\n",
    "$$(-1)^3-4*(-1)^2-1+6=-1-4-1+6=0$$\n",
    "Следовательно, первый корень: -1\n",
    "Вынесем x+1 за скобку:\n",
    "$$(x+1)(x^2-5x+6)=0$$\n",
    "По правилу умножения многочленов разложим уравнения на множетели (можно использовать дискриминант):\n",
    "$$(x+1)(x-2)(x-3)=0$$\n",
    "\n",
    "**Ответ:**\n",
    "\n",
    "Корни уравнения: $x=-1; x=2; x=3$"
   ]
  },
  {
   "cell_type": "markdown",
   "metadata": {},
   "source": [
    "# Задание 9"
   ]
  },
  {
   "cell_type": "markdown",
   "metadata": {},
   "source": [
    "Решите неравенство:\n",
    "$$\\frac{5x-2}{3}-\\frac{2x+4}{2} > \\frac{7x-5}{4}+\\frac{x+6}{3}$$\n",
    "$$\\frac{20x-8}{12}-\\frac{12x+24}{12} > \\frac{21x-15}{12}+\\frac{4x+24}{12}$$\n",
    "$$\\frac{20x-8-12x-24}{12} > \\frac{21x-15+4x+24}{12}$$\n",
    "$$\\frac{8x-32}{12} > \\frac{25x+9}{12}$$\n",
    "$$8x-32 > 25x+9$$\n",
    "$$-17x > 41$$\n",
    "$$x < -\\frac{41}{17}$$\n",
    "$$x < -2\\frac{7}{17}$$"
   ]
  },
  {
   "cell_type": "markdown",
   "metadata": {},
   "source": [
    "# Задание 10"
   ]
  },
  {
   "cell_type": "markdown",
   "metadata": {},
   "source": [
    "Разложить множители многочлен:\n",
    "$$x^3-3x^2-4x+12$$\n",
    "По аналогии с заданием 8 начнем подбирать первый корень уравнения:\n",
    "При $x=1$\n",
    "$$1^3-3*1^2-4*1+12$$\n",
    "$$1-3-4+12\\neq0$$\n",
    "При $x=-1$\n",
    "$$(-1)^3-3*(-1)^2-4*(-1)+12$$\n",
    "$$-1-3+4+12\\neq0$$\n",
    "При $x=2$\n",
    "$$2^3-3*2^2-4*2+12$$\n",
    "$$8-12-8+12=0$$\n",
    "Значит первый множитель (x-2)\n",
    "Решим квадратное уравнение $x^2-x-6$ (теперь через дискриминант):\n",
    "$$D=(-1)^2-4*(-6)=25$$\n",
    "$$x_1 = \\frac{1-5}{2}=-2$$\n",
    "$$x_2 = \\frac{1+5}{2}=3$$\n",
    "\n",
    "В итоге уравнение принимает вид:\n",
    "$$(x-2)(x+2)(x-3)$$\n",
    "\n",
    "**Ответ:**\n",
    "\n",
    "$$(x-2)(x+2)(x-3)$$"
   ]
  },
  {
   "cell_type": "markdown",
   "metadata": {},
   "source": [
    "# Задание 11"
   ]
  },
  {
   "cell_type": "markdown",
   "metadata": {},
   "source": [
    "Сколькими способами можно поставить 5 различных книг на полке, если две из них должны стоять рядом?\n",
    "\n",
    "Т. к. 2 книги должны стоять рядом можно говорить о том, что они перемещаются вместе. Следовательно, их можно только поменять местами, что дает 2 варианта.\n",
    "\n",
    "Далее расставим остальные книги. На первое место можно поставить одну из 3 книг, либо 2 книги сразу (4 варианта). На второе место можно поставить на одну книгу (или 2 книги) меньше (3 варианта). Таким образом, получается 4! вариантов.\n",
    "\n",
    "Общее количество вариантов:\n",
    "$$4!*2=48$$\n",
    "\n",
    "**Ответ:**\n",
    "$$48$$"
   ]
  },
  {
   "cell_type": "markdown",
   "metadata": {},
   "source": [
    "# Задание 12"
   ]
  },
  {
   "cell_type": "markdown",
   "metadata": {},
   "source": [
    "Вероятность, что первый телефон сломан - 0.1. Вероятность того, что второй телефон сломан - 0.3. Найдите вероятность, что оба телефона работают.\n",
    "\n",
    "Предположим, что у телефона существует только 2 состояния: телефон работает и телефон сломан. Тогда вероятность того, что телефон 1 работает равна $1-0.1=0.9$, а вероятность того, что работает телефон 2: $1-0.3=0.7$.\n",
    "\n",
    "Теперь предположим, что вероятности поломки телефона независимы. Тогда, по правилу умножения вероятностей: $P=0.9*0.7=0.63$\n",
    "\n",
    "**Ответ:**\n",
    "\n",
    "Вероятность, что оба телефона работают равна 63%"
   ]
  },
  {
   "cell_type": "markdown",
   "metadata": {},
   "source": [
    "# Задание 13"
   ]
  },
  {
   "cell_type": "markdown",
   "metadata": {},
   "source": [
    "Сколькими способами можно распределить 10 одинаковых яблок между 4 детьми, если каждый ребенок должен получить хотя бы одно яблоко?\n",
    "\n",
    "В первую очередь стоит говорить о том, что каждый ребенок должен получить хотя бы одно яблоко. Предположим, что мы раздали по одному яблоку каждому ребенку. Тогда осталось 6 яблок, которые необходимо разделить между детьми.\n",
    "\n",
    "Решим эту задачу через формулу сочетаний с повторениями:\n",
    "$$C_{9}^3=\\frac{9!}{3!*(9-3)!}=\\frac{9!}{3!*6!}=\\frac{9*8*7}{3!}=84$$\n",
    "\n",
    "**Ответ:**\n",
    "\n",
    "Всего 84 различных варианта разделения"
   ]
  },
  {
   "cell_type": "markdown",
   "metadata": {},
   "source": [
    "# Задание 14"
   ]
  },
  {
   "cell_type": "markdown",
   "metadata": {},
   "source": [
    "На экзамене студент отвечает на 5 вопросов из билета, который содержит 10 вопросов. Порядок вопросов важен. Сколькими способами студент может выбрать и расположить вопросы для ответа?\n",
    "\n",
    "Если порядок важен, то задача решается через размещения без повторений. Тогда, согласно формуле:\n",
    "$$A_{10}^5=\\frac{10!}{5!}=10*9*8*7*6=30240$$\n",
    "\n",
    "**Ответ:**\n",
    "Студент может выбрать ответы 30 240 способами"
   ]
  },
  {
   "cell_type": "markdown",
   "metadata": {},
   "source": [
    "# Задание 15"
   ]
  },
  {
   "cell_type": "markdown",
   "metadata": {},
   "source": [
    "Монету бросают 6 раз. Какова вероятность того, что орел выпадет ровно 4 раза?\n",
    "\n",
    "Т. к. варианта всего 2, то эта задача является задачей на биноминальное распределение, формула которого:\n",
    "$$P=C_n^k*p^k*(1-p)^{n-k}$$\n",
    "\n",
    "Решим задачу:\n",
    "$$P=C_6^4*0.5^4*0.5^{2}$$\n",
    "$$P=15*0.5^6$$\n",
    "$$P=\\frac{15}{64}=0.2344=23.44%$$\n",
    "\n",
    "**Ответ:**\n",
    "23.44%"
   ]
  },
  {
   "cell_type": "markdown",
   "metadata": {},
   "source": [
    "# Задача 16"
   ]
  },
  {
   "cell_type": "markdown",
   "metadata": {},
   "source": [
    "Дана функция:\n",
    "$$f(x)=\\sqrt{\\frac{ln(x^2-1)}{x-2}}$$\n",
    "Найти область определения функции, область значений и определить, четная она или нет\n",
    "\n",
    "1) Область определения функции\n",
    "\n",
    "Должно выполняться 3 условия:\n",
    "1) $x>1$ или $x<-1$ (т. к. аргумент логарифма должен быть положительным);\n",
    "2) $x\\neq 2$ (т. к. числитель не должен равен 0)\n",
    "3) $x>2$ (т. к. выражение под корнем не может быть отрицательным)\n",
    "\n",
    "Из этого всего делаем вывод, что функция определена на $(-\\infty,-1)\\cup(2, \\infty)$\n",
    "\n",
    "2) Область значений функции\n",
    "\n",
    "Подкоренное выражение не может быть отрицательным, следовательно, $f(x)\\geq 0$. Тогда область значений $[0, \\infty)$\n",
    "\n",
    "3) Четность\n",
    "\n",
    "По определению четности $f(x)=f(-x)$. Подставим $-x$\n",
    "\n",
    "$$f(-x)=\\sqrt{\\frac{ln(x^2-1)}{-x-2}}$$\n",
    "\n",
    "Т. к. функции не равны, то она нечетная."
   ]
  },
  {
   "cell_type": "markdown",
   "metadata": {},
   "source": [
    "# Задача 17"
   ]
  },
  {
   "cell_type": "markdown",
   "metadata": {},
   "source": [
    "В треугольнике ABC известно, что AC = BC, AH - высота, tg(BAC) = 7/24. Найдите косинус угла BAH.\n",
    "\n",
    "Т. к. нам дан тангенс угла ABC, в который равен углу ABH. Т. к. тангенс - это отношение противолежащего катета к гипотенузе, то имеем:\n",
    "$$\\frac{AH}{BH}=\\frac{7}{24}$$\n",
    "$$AH=\\frac{7}{24}*BH$$\n",
    "\n",
    "Обозначим $BH = 24x; AH=7x$ \n",
    "По теореме Пифагора:\n",
    "$$AB^2=(7x)^2+(24x)^2$$\n",
    "$$AB^2=(\\frac{7}{24}*BH)^2+BH^2$$\n",
    "$$AB=\\sqrt{49x^2+576x2}$$\n",
    "$$AB=25x$$\n",
    "\n",
    "Выразим cos(BAH)\n",
    "$$cos(BAH)=\\frac{AH}{AB} = \\frac{7x}{25x} = \\frac{7}{25}$$\n",
    "\n",
    "**Ответ:**\n",
    "$$cos(BAH)=\\frac{7}{25}$$"
   ]
  },
  {
   "cell_type": "markdown",
   "metadata": {},
   "source": [
    "# Задача 18"
   ]
  },
  {
   "cell_type": "markdown",
   "metadata": {},
   "source": [
    "В треугольнике со сторонами 9 и 5 проведены высоты к этим сторонам. Высота, проведённая к первой из этих сторон, равна 10. Чему равна высота, проведённая ко второй стороне?\n",
    "\n",
    "Задачу можно решить через площадь треугольника. Так, выразим площадт из известной высоты:\n",
    "$$S = \\frac{1}{2}*10*9 = 45$$\n",
    "\n",
    "Найдем площадь через вторую высоту:\n",
    "$$S=\\frac{1}{2}*5*x$$\n",
    "\n",
    "Решим уравнение:\n",
    "$$\\frac{1}{2}*5*x=45$$\n",
    "$$\\frac{1}{2}*5*x=45$$\n",
    "$$x=18$$\n",
    "\n",
    "Следовательно, вторая высота равна 18\n",
    "\n",
    "**Ответ:**\n",
    "$$x=18$$"
   ]
  },
  {
   "cell_type": "markdown",
   "metadata": {},
   "source": [
    "# Задача 19"
   ]
  },
  {
   "cell_type": "markdown",
   "metadata": {},
   "source": [
    "Найдите объём правильной треугольной пирамиды, стороны основания которой равны 1, а высота равна $\\sqrt 3$\n",
    "\n",
    "Для начала найдем площадь основания:\n",
    "\n",
    "$$S = \\sqrt{1.5*(1.5-1)*(1.5-1)*(1.5-1)}$$\n",
    "$$S = \\sqrt{3}/4$$\n",
    "\n",
    "Найдем объем пирамиды:\n",
    "$$V=\\frac{1}{3}*S*h=\\frac{1}{3}*\\frac{\\sqrt{3}}{4}*\\sqrt{3}=\\frac{1}{4}$$\n",
    "\n",
    "**Ответ:**\n",
    "$$\\frac{1}{4}$$"
   ]
  },
  {
   "cell_type": "markdown",
   "metadata": {},
   "source": [
    "# Задача 20"
   ]
  },
  {
   "attachments": {
    "image.png": {
     "image/png": "[encoded data removed]"
    }
   },
   "cell_type": "markdown",
   "metadata": {},
   "source": [
    "Опорный рисунок\n",
    "\n",
    "![image.png](attachment:image.png)"
   ]
  },
  {
   "cell_type": "markdown",
   "metadata": {},
   "source": [
    "В равнобедренной трапеции основания равны 12 и 27, острый угол равен 60 градусам.\n",
    "Найдите её периметр.\n",
    "\n",
    "Для нахождения периметра нужно найти все ее стороны. Для этого проведем высоту из угла B. Тогда:\n",
    "$$CE = \\frac{DC-AB}{2}=\\frac{27-12}{2}=7.5$$\n",
    "\n",
    "Найдем сторону BC:\n",
    "$$BC=\\frac{CE}{cos(60)}=7.5*2=15$$\n",
    "\n",
    "Периметр будет равен:\n",
    "$$P=BC*2+DC+AB$$\n",
    "$$P=15*2+27+12$$\n",
    "$$P=69$$\n",
    "\n",
    "**Ответ:**\n",
    "$$P=69$$"
   ]
  }
 ],
 "metadata": {
  "kernelspec": {
   "display_name": "Python 3",
   "language": "python",
   "name": "python3"
  },
  "language_info": {
   "codemirror_mode": {
    "name": "ipython",
    "version": 3
   },
   "file_extension": ".py",
   "mimetype": "text/x-python",
   "name": "python",
   "nbconvert_exporter": "python",
   "pygments_lexer": "ipython3",
   "version": "3.11.9"
  }
 },
 "nbformat": 4,
 "nbformat_minor": 2
}
