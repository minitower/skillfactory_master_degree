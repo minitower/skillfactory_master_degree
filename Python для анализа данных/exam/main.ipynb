{
 "cells": [
  {
   "cell_type": "markdown",
   "metadata": {},
   "source": [
    "# Подгружаем необходимые библиотеки"
   ]
  },
  {
   "cell_type": "code",
   "execution_count": 79,
   "metadata": {},
   "outputs": [],
   "source": [
    "import numpy as np\n",
    "import random\n",
    "import pandas as pd\n",
    "from datetime import timedelta\n",
    "import plotly.graph_objects as go\n",
    "import requests"
   ]
  },
  {
   "cell_type": "markdown",
   "metadata": {},
   "source": [
    "# Задание 1\n",
    "Тяжело понять, что необходимо отфильтровать, а что оставить. В задании сказано *отфильтровать* числа, которые делятся без остатка. Кажется, что это значит, что такие числа нужно убрать. На всякий случай прикладываю 2 варианта"
   ]
  },
  {
   "cell_type": "code",
   "execution_count": 80,
   "metadata": {},
   "outputs": [
    {
     "name": "stdout",
     "output_type": "stream",
     "text": [
      "Среднее арифметическое массива: 51.78\n",
      "Медиана массива: 54.0\n",
      "Стандартное отклонение: 28.002349901392204\n",
      "Массив без фильтра:  [31.          6.33333333 24.66666667  9.          4.66666667  9.66666667\n",
      " 25.66666667  4.         23.66666667 23.66666667  9.66666667  5.\n",
      "  9.          3.33333333  6.33333333 27.33333333 16.66666667  4.\n",
      " 23.66666667 26.66666667 25.66666667 31.         10.         26.\n",
      " 22.33333333 26.33333333  7.         10.33333333 18.          7.\n",
      "  7.33333333  6.66666667 33.33333333 18.         28.          6.33333333\n",
      " 14.33333333 21.33333333  5.66666667 17.33333333 28.33333333 28.\n",
      " 18.66666667 25.         17.33333333  6.66666667 28.66666667 21.66666667\n",
      " 30.66666667 22.        ]\n",
      "Деление на 3, с фильтром на числа без остатка [ 6.33333333 24.66666667  4.66666667  9.66666667 25.66666667 23.66666667\n",
      " 23.66666667  9.66666667  3.33333333  6.33333333 27.33333333 16.66666667\n",
      " 23.66666667 26.66666667 25.66666667 22.33333333 26.33333333 10.33333333\n",
      "  7.33333333  6.66666667 33.33333333  6.33333333 14.33333333 21.33333333\n",
      "  5.66666667 17.33333333 28.33333333 18.66666667 17.33333333  6.66666667\n",
      " 28.66666667 21.66666667 30.66666667]\n",
      "Деление на 3, с фильтром на числа c остатком [31.  9.  4.  5.  9.  4. 31. 10. 26.  7. 18.  7. 18. 28. 28. 25. 22.]\n"
     ]
    }
   ],
   "source": [
    "base_arr = np.array([i for i in range(10, 101, 1)]) # создаем array с числами\n",
    "random_arr = np.array([random.choice(base_arr) for _ in range(50)]) # случайно выбираем 50 чисел из массива\n",
    "\n",
    "print('Среднее арифметическое массива:', random_arr.mean())\n",
    "print('Медиана массива:', np.median(random_arr))\n",
    "print('Стандартное отклонение:', np.std(random_arr))\n",
    "\n",
    "divided_arr = random_arr/3 # делим на 3\n",
    "print('Массив без фильтра: ', divided_arr)\n",
    "divided_arr_filtred = np.extract(divmod(divided_arr, 1)[1]!=0, divided_arr) # делаем фильтр, при котором деление на 1 создает остаток (т. е. остаток был изначально)\n",
    "print('Деление на 3, с фильтром на числа без остатка', divided_arr_filtred)\n",
    "divided_arr_filtred_2 = np.extract(divmod(divided_arr, 1)[1]==0, divided_arr)# делаем фильтр, при котором деление на 1 создает остаток (т. е. остаток был изначально)\n",
    "print('Деление на 3, с фильтром на числа c остатком', divided_arr_filtred_2)"
   ]
  },
  {
   "cell_type": "markdown",
   "metadata": {},
   "source": [
    "# Задание 2"
   ]
  },
  {
   "cell_type": "code",
   "execution_count": null,
   "metadata": {},
   "outputs": [
    {
     "name": "stdout",
     "output_type": "stream",
     "text": [
      "Количество записей: 500\n",
      "Регионы в файле данных: ['West' 'South' 'East' 'North']\n",
      "Продукты в файле данных: ['Widget C' 'Widget B' 'Widget A']\n",
      "Общие продажи по регионам\n",
      "        sales\n",
      "region       \n",
      "East    29244\n",
      "North   39605\n",
      "South   33023\n",
      "West    35171\n",
      "Средний объем продаж для каждого продукта\n",
      "               sales\n",
      "product             \n",
      "Widget A  275.424242\n",
      "Widget B  268.331361\n",
      "Widget C  278.614458\n",
      "Сводная таблица, показывающая средние продажи по регионам и продуктам\n",
      "product    Widget A    Widget B    Widget C\n",
      "region                                     \n",
      "East     291.464286  263.116279  271.361111\n",
      "North    289.145833  238.477273  304.660000\n",
      "South    277.380952  282.833333  263.722222\n",
      "West     250.106383  291.550000  267.136364\n"
     ]
    }
   ],
   "source": [
    "df = pd.read_csv('./data/sales_data_large.csv')\n",
    "print('Количество записей:', df.shape[0])\n",
    "print('Регионы в файле данных:', df['region'].unique())\n",
    "print('Продукты в файле данных:', df['product'].unique())\n",
    "\n",
    "region_df = df[['region', 'sales']].groupby('region').sum() # группировка по региону с агрегацией по сумме\n",
    "print('Общие продажи по регионам')\n",
    "print(region_df)\n",
    "\n",
    "product_df = df[['product', 'sales']].groupby('product').mean() # группировка по продукту с агрегацией по среднему\n",
    "print('Средний объем продаж для каждого продукта')\n",
    "print(product_df)\n",
    "\n",
    "pivot_table = pd.pivot_table(df, values='sales', index='region',\n",
    "                         columns='product', aggfunc=\"mean\") # сводная таблица по продукту и региону с агрегацией по среднему\n",
    "print('Сводная таблица, показывающая средние продажи по регионам и продуктам')\n",
    "print(pivot_table)"
   ]
  },
  {
   "cell_type": "markdown",
   "metadata": {},
   "source": [
    "# Задание 3\n",
    "1) Для дат взято среднее значение (по рекомендации ментора);\n",
    "2) Среднее округлено до целого по правилам математического округления."
   ]
  },
  {
   "cell_type": "code",
   "execution_count": 85,
   "metadata": {},
   "outputs": [
    {
     "name": "stdout",
     "output_type": "stream",
     "text": [
      "Предобработанный DataFrame:\n",
      "                             date  sales region\n",
      "1   2024-12-01 00:00:00.000000000  400.0   East\n",
      "3   2024-12-01 00:00:00.000000000  350.0   West\n",
      "4   2024-12-02 00:00:00.000000000  400.0  South\n",
      "5   2024-12-02 00:00:00.000000000   50.0  North\n",
      "6   2024-12-02 00:00:00.000000000  250.0   West\n",
      "..                            ...    ...    ...\n",
      "189 2024-12-31 00:00:00.000000000  400.0   West\n",
      "190 2024-12-15 19:27:09.473684224  150.0  South\n",
      "192 2024-12-15 19:27:09.473684224   50.0   West\n",
      "193 2024-12-15 19:27:09.473684224  350.0  South\n",
      "195 2024-12-15 19:27:09.473684224  400.0   West\n",
      "\n",
      "[111 rows x 3 columns]\n"
     ]
    },
    {
     "data": {
      "application/vnd.plotly.v1+json": {
       "config": {
        "plotlyServerURL": "https://plot.ly"
       },
       "data": [
        {
         "type": "scatter",
         "x": [
          "2024-12-01T00:00:00",
          "2024-12-02T00:00:00",
          "2024-12-03T00:00:00",
          "2024-12-04T00:00:00",
          "2024-12-05T00:00:00",
          "2024-12-06T00:00:00",
          "2024-12-07T00:00:00",
          "2024-12-08T00:00:00",
          "2024-12-09T00:00:00",
          "2024-12-10T00:00:00",
          "2024-12-11T00:00:00",
          "2024-12-12T00:00:00",
          "2024-12-13T00:00:00",
          "2024-12-14T00:00:00",
          "2024-12-15T00:00:00",
          "2024-12-15T19:27:09.473684",
          "2024-12-16T00:00:00",
          "2024-12-17T00:00:00",
          "2024-12-18T00:00:00",
          "2024-12-19T00:00:00",
          "2024-12-20T00:00:00",
          "2024-12-21T00:00:00",
          "2024-12-22T00:00:00",
          "2024-12-24T00:00:00",
          "2024-12-25T00:00:00",
          "2024-12-26T00:00:00",
          "2024-12-27T00:00:00",
          "2024-12-28T00:00:00",
          "2024-12-29T00:00:00",
          "2024-12-30T00:00:00",
          "2024-12-31T00:00:00"
         ],
         "y": [
          750,
          700,
          376,
          776,
          800,
          1326,
          826,
          200,
          300,
          900,
          950,
          1350,
          2502,
          350,
          1176,
          950,
          1000,
          626,
          1076,
          300,
          350,
          100,
          450,
          500,
          200,
          450,
          1550,
          1226,
          1650,
          200,
          1200
         ]
        }
       ],
       "layout": {
        "template": {
         "data": {
          "bar": [
           {
            "error_x": {
             "color": "#2a3f5f"
            },
            "error_y": {
             "color": "#2a3f5f"
            },
            "marker": {
             "line": {
              "color": "#E5ECF6",
              "width": 0.5
             },
             "pattern": {
              "fillmode": "overlay",
              "size": 10,
              "solidity": 0.2
             }
            },
            "type": "bar"
           }
          ],
          "barpolar": [
           {
            "marker": {
             "line": {
              "color": "#E5ECF6",
              "width": 0.5
             },
             "pattern": {
              "fillmode": "overlay",
              "size": 10,
              "solidity": 0.2
             }
            },
            "type": "barpolar"
           }
          ],
          "carpet": [
           {
            "aaxis": {
             "endlinecolor": "#2a3f5f",
             "gridcolor": "white",
             "linecolor": "white",
             "minorgridcolor": "white",
             "startlinecolor": "#2a3f5f"
            },
            "baxis": {
             "endlinecolor": "#2a3f5f",
             "gridcolor": "white",
             "linecolor": "white",
             "minorgridcolor": "white",
             "startlinecolor": "#2a3f5f"
            },
            "type": "carpet"
           }
          ],
          "choropleth": [
           {
            "colorbar": {
             "outlinewidth": 0,
             "ticks": ""
            },
            "type": "choropleth"
           }
          ],
          "contour": [
           {
            "colorbar": {
             "outlinewidth": 0,
             "ticks": ""
            },
            "colorscale": [
             [
              0,
              "#0d0887"
             ],
             [
              0.1111111111111111,
              "#46039f"
             ],
             [
              0.2222222222222222,
              "#7201a8"
             ],
             [
              0.3333333333333333,
              "#9c179e"
             ],
             [
              0.4444444444444444,
              "#bd3786"
             ],
             [
              0.5555555555555556,
              "#d8576b"
             ],
             [
              0.6666666666666666,
              "#ed7953"
             ],
             [
              0.7777777777777778,
              "#fb9f3a"
             ],
             [
              0.8888888888888888,
              "#fdca26"
             ],
             [
              1,
              "#f0f921"
             ]
            ],
            "type": "contour"
           }
          ],
          "contourcarpet": [
           {
            "colorbar": {
             "outlinewidth": 0,
             "ticks": ""
            },
            "type": "contourcarpet"
           }
          ],
          "heatmap": [
           {
            "colorbar": {
             "outlinewidth": 0,
             "ticks": ""
            },
            "colorscale": [
             [
              0,
              "#0d0887"
             ],
             [
              0.1111111111111111,
              "#46039f"
             ],
             [
              0.2222222222222222,
              "#7201a8"
             ],
             [
              0.3333333333333333,
              "#9c179e"
             ],
             [
              0.4444444444444444,
              "#bd3786"
             ],
             [
              0.5555555555555556,
              "#d8576b"
             ],
             [
              0.6666666666666666,
              "#ed7953"
             ],
             [
              0.7777777777777778,
              "#fb9f3a"
             ],
             [
              0.8888888888888888,
              "#fdca26"
             ],
             [
              1,
              "#f0f921"
             ]
            ],
            "type": "heatmap"
           }
          ],
          "heatmapgl": [
           {
            "colorbar": {
             "outlinewidth": 0,
             "ticks": ""
            },
            "colorscale": [
             [
              0,
              "#0d0887"
             ],
             [
              0.1111111111111111,
              "#46039f"
             ],
             [
              0.2222222222222222,
              "#7201a8"
             ],
             [
              0.3333333333333333,
              "#9c179e"
             ],
             [
              0.4444444444444444,
              "#bd3786"
             ],
             [
              0.5555555555555556,
              "#d8576b"
             ],
             [
              0.6666666666666666,
              "#ed7953"
             ],
             [
              0.7777777777777778,
              "#fb9f3a"
             ],
             [
              0.8888888888888888,
              "#fdca26"
             ],
             [
              1,
              "#f0f921"
             ]
            ],
            "type": "heatmapgl"
           }
          ],
          "histogram": [
           {
            "marker": {
             "pattern": {
              "fillmode": "overlay",
              "size": 10,
              "solidity": 0.2
             }
            },
            "type": "histogram"
           }
          ],
          "histogram2d": [
           {
            "colorbar": {
             "outlinewidth": 0,
             "ticks": ""
            },
            "colorscale": [
             [
              0,
              "#0d0887"
             ],
             [
              0.1111111111111111,
              "#46039f"
             ],
             [
              0.2222222222222222,
              "#7201a8"
             ],
             [
              0.3333333333333333,
              "#9c179e"
             ],
             [
              0.4444444444444444,
              "#bd3786"
             ],
             [
              0.5555555555555556,
              "#d8576b"
             ],
             [
              0.6666666666666666,
              "#ed7953"
             ],
             [
              0.7777777777777778,
              "#fb9f3a"
             ],
             [
              0.8888888888888888,
              "#fdca26"
             ],
             [
              1,
              "#f0f921"
             ]
            ],
            "type": "histogram2d"
           }
          ],
          "histogram2dcontour": [
           {
            "colorbar": {
             "outlinewidth": 0,
             "ticks": ""
            },
            "colorscale": [
             [
              0,
              "#0d0887"
             ],
             [
              0.1111111111111111,
              "#46039f"
             ],
             [
              0.2222222222222222,
              "#7201a8"
             ],
             [
              0.3333333333333333,
              "#9c179e"
             ],
             [
              0.4444444444444444,
              "#bd3786"
             ],
             [
              0.5555555555555556,
              "#d8576b"
             ],
             [
              0.6666666666666666,
              "#ed7953"
             ],
             [
              0.7777777777777778,
              "#fb9f3a"
             ],
             [
              0.8888888888888888,
              "#fdca26"
             ],
             [
              1,
              "#f0f921"
             ]
            ],
            "type": "histogram2dcontour"
           }
          ],
          "mesh3d": [
           {
            "colorbar": {
             "outlinewidth": 0,
             "ticks": ""
            },
            "type": "mesh3d"
           }
          ],
          "parcoords": [
           {
            "line": {
             "colorbar": {
              "outlinewidth": 0,
              "ticks": ""
             }
            },
            "type": "parcoords"
           }
          ],
          "pie": [
           {
            "automargin": true,
            "type": "pie"
           }
          ],
          "scatter": [
           {
            "fillpattern": {
             "fillmode": "overlay",
             "size": 10,
             "solidity": 0.2
            },
            "type": "scatter"
           }
          ],
          "scatter3d": [
           {
            "line": {
             "colorbar": {
              "outlinewidth": 0,
              "ticks": ""
             }
            },
            "marker": {
             "colorbar": {
              "outlinewidth": 0,
              "ticks": ""
             }
            },
            "type": "scatter3d"
           }
          ],
          "scattercarpet": [
           {
            "marker": {
             "colorbar": {
              "outlinewidth": 0,
              "ticks": ""
             }
            },
            "type": "scattercarpet"
           }
          ],
          "scattergeo": [
           {
            "marker": {
             "colorbar": {
              "outlinewidth": 0,
              "ticks": ""
             }
            },
            "type": "scattergeo"
           }
          ],
          "scattergl": [
           {
            "marker": {
             "colorbar": {
              "outlinewidth": 0,
              "ticks": ""
             }
            },
            "type": "scattergl"
           }
          ],
          "scattermapbox": [
           {
            "marker": {
             "colorbar": {
              "outlinewidth": 0,
              "ticks": ""
             }
            },
            "type": "scattermapbox"
           }
          ],
          "scatterpolar": [
           {
            "marker": {
             "colorbar": {
              "outlinewidth": 0,
              "ticks": ""
             }
            },
            "type": "scatterpolar"
           }
          ],
          "scatterpolargl": [
           {
            "marker": {
             "colorbar": {
              "outlinewidth": 0,
              "ticks": ""
             }
            },
            "type": "scatterpolargl"
           }
          ],
          "scatterternary": [
           {
            "marker": {
             "colorbar": {
              "outlinewidth": 0,
              "ticks": ""
             }
            },
            "type": "scatterternary"
           }
          ],
          "surface": [
           {
            "colorbar": {
             "outlinewidth": 0,
             "ticks": ""
            },
            "colorscale": [
             [
              0,
              "#0d0887"
             ],
             [
              0.1111111111111111,
              "#46039f"
             ],
             [
              0.2222222222222222,
              "#7201a8"
             ],
             [
              0.3333333333333333,
              "#9c179e"
             ],
             [
              0.4444444444444444,
              "#bd3786"
             ],
             [
              0.5555555555555556,
              "#d8576b"
             ],
             [
              0.6666666666666666,
              "#ed7953"
             ],
             [
              0.7777777777777778,
              "#fb9f3a"
             ],
             [
              0.8888888888888888,
              "#fdca26"
             ],
             [
              1,
              "#f0f921"
             ]
            ],
            "type": "surface"
           }
          ],
          "table": [
           {
            "cells": {
             "fill": {
              "color": "#EBF0F8"
             },
             "line": {
              "color": "white"
             }
            },
            "header": {
             "fill": {
              "color": "#C8D4E3"
             },
             "line": {
              "color": "white"
             }
            },
            "type": "table"
           }
          ]
         },
         "layout": {
          "annotationdefaults": {
           "arrowcolor": "#2a3f5f",
           "arrowhead": 0,
           "arrowwidth": 1
          },
          "autotypenumbers": "strict",
          "coloraxis": {
           "colorbar": {
            "outlinewidth": 0,
            "ticks": ""
           }
          },
          "colorscale": {
           "diverging": [
            [
             0,
             "#8e0152"
            ],
            [
             0.1,
             "#c51b7d"
            ],
            [
             0.2,
             "#de77ae"
            ],
            [
             0.3,
             "#f1b6da"
            ],
            [
             0.4,
             "#fde0ef"
            ],
            [
             0.5,
             "#f7f7f7"
            ],
            [
             0.6,
             "#e6f5d0"
            ],
            [
             0.7,
             "#b8e186"
            ],
            [
             0.8,
             "#7fbc41"
            ],
            [
             0.9,
             "#4d9221"
            ],
            [
             1,
             "#276419"
            ]
           ],
           "sequential": [
            [
             0,
             "#0d0887"
            ],
            [
             0.1111111111111111,
             "#46039f"
            ],
            [
             0.2222222222222222,
             "#7201a8"
            ],
            [
             0.3333333333333333,
             "#9c179e"
            ],
            [
             0.4444444444444444,
             "#bd3786"
            ],
            [
             0.5555555555555556,
             "#d8576b"
            ],
            [
             0.6666666666666666,
             "#ed7953"
            ],
            [
             0.7777777777777778,
             "#fb9f3a"
            ],
            [
             0.8888888888888888,
             "#fdca26"
            ],
            [
             1,
             "#f0f921"
            ]
           ],
           "sequentialminus": [
            [
             0,
             "#0d0887"
            ],
            [
             0.1111111111111111,
             "#46039f"
            ],
            [
             0.2222222222222222,
             "#7201a8"
            ],
            [
             0.3333333333333333,
             "#9c179e"
            ],
            [
             0.4444444444444444,
             "#bd3786"
            ],
            [
             0.5555555555555556,
             "#d8576b"
            ],
            [
             0.6666666666666666,
             "#ed7953"
            ],
            [
             0.7777777777777778,
             "#fb9f3a"
            ],
            [
             0.8888888888888888,
             "#fdca26"
            ],
            [
             1,
             "#f0f921"
            ]
           ]
          },
          "colorway": [
           "#636efa",
           "#EF553B",
           "#00cc96",
           "#ab63fa",
           "#FFA15A",
           "#19d3f3",
           "#FF6692",
           "#B6E880",
           "#FF97FF",
           "#FECB52"
          ],
          "font": {
           "color": "#2a3f5f"
          },
          "geo": {
           "bgcolor": "white",
           "lakecolor": "white",
           "landcolor": "#E5ECF6",
           "showlakes": true,
           "showland": true,
           "subunitcolor": "white"
          },
          "hoverlabel": {
           "align": "left"
          },
          "hovermode": "closest",
          "mapbox": {
           "style": "light"
          },
          "paper_bgcolor": "white",
          "plot_bgcolor": "#E5ECF6",
          "polar": {
           "angularaxis": {
            "gridcolor": "white",
            "linecolor": "white",
            "ticks": ""
           },
           "bgcolor": "#E5ECF6",
           "radialaxis": {
            "gridcolor": "white",
            "linecolor": "white",
            "ticks": ""
           }
          },
          "scene": {
           "xaxis": {
            "backgroundcolor": "#E5ECF6",
            "gridcolor": "white",
            "gridwidth": 2,
            "linecolor": "white",
            "showbackground": true,
            "ticks": "",
            "zerolinecolor": "white"
           },
           "yaxis": {
            "backgroundcolor": "#E5ECF6",
            "gridcolor": "white",
            "gridwidth": 2,
            "linecolor": "white",
            "showbackground": true,
            "ticks": "",
            "zerolinecolor": "white"
           },
           "zaxis": {
            "backgroundcolor": "#E5ECF6",
            "gridcolor": "white",
            "gridwidth": 2,
            "linecolor": "white",
            "showbackground": true,
            "ticks": "",
            "zerolinecolor": "white"
           }
          },
          "shapedefaults": {
           "line": {
            "color": "#2a3f5f"
           }
          },
          "ternary": {
           "aaxis": {
            "gridcolor": "white",
            "linecolor": "white",
            "ticks": ""
           },
           "baxis": {
            "gridcolor": "white",
            "linecolor": "white",
            "ticks": ""
           },
           "bgcolor": "#E5ECF6",
           "caxis": {
            "gridcolor": "white",
            "linecolor": "white",
            "ticks": ""
           }
          },
          "title": {
           "x": 0.05
          },
          "xaxis": {
           "automargin": true,
           "gridcolor": "white",
           "linecolor": "white",
           "ticks": "",
           "title": {
            "standoff": 15
           },
           "zerolinecolor": "white",
           "zerolinewidth": 2
          },
          "yaxis": {
           "automargin": true,
           "gridcolor": "white",
           "linecolor": "white",
           "ticks": "",
           "title": {
            "standoff": 15
           },
           "zerolinecolor": "white",
           "zerolinewidth": 2
          }
         }
        },
        "title": {
         "text": "Sales plot by date"
        }
       }
      }
     },
     "metadata": {},
     "output_type": "display_data"
    }
   ],
   "source": [
    "df = pd.read_csv('./data/sales_cleaning_large.csv')\n",
    "df['date']=pd.to_datetime(df['date'])\n",
    "df['date'] = df['date'].fillna(df['date'].mean()) # заполняем пропущенные даты\n",
    "df = df.drop(df.loc[df['sales']<0].index) # удаляем отрицательные значения (т. к. сказано, что можно удалять)\n",
    "df['sales'] = df['sales'].fillna(round(df['sales'].mean(), 0)) # заполняем пропущенные значения в sales\n",
    "\n",
    "print('Предобработанный DataFrame:')\n",
    "print(df)\n",
    "# строим график продаж по датам\n",
    "df_sales = df[['date', 'sales']].groupby('date').sum() # формируем df с информацией о продажах в рамке даты\n",
    "df_sales.sort_index() # убеждаемся, что даты упорядочены\n",
    "fig = go.Figure(data=[\n",
    "    go.Scatter(\n",
    "        x=df_sales.index,\n",
    "        y=df_sales['sales']\n",
    "    )\n",
    "], layout={\n",
    "    'title': 'Sales plot by date'\n",
    "})\n",
    "fig.show()"
   ]
  },
  {
   "cell_type": "markdown",
   "metadata": {},
   "source": [
    "# Задание 4"
   ]
  },
  {
   "cell_type": "code",
   "execution_count": 83,
   "metadata": {},
   "outputs": [
    {
     "name": "stdout",
     "output_type": "stream",
     "text": [
      "Таблица, содержащая пользователей, которые работают в компании, в которой содержится слово \"Group\"\n",
      "   id                      name                   email     company_name\n",
      "6   7           Kurtis Weissnat  Telly.Hoeger@billy.biz      Johns Group\n",
      "7   8  Nicholas Runolfsdottir V    Sherwood@rosamond.me  Abernathy Group\n"
     ]
    }
   ],
   "source": [
    "req = requests.get('https://jsonplaceholder.typicode.com/users')\n",
    "json = req.json() # получаем ответ в виде JSON\n",
    "\n",
    "columns = ['id', 'name', 'email', 'company_name'] # создаем колонки\n",
    "df_arr = []\n",
    "for i in json:\n",
    "    df_arr.append([i['id'], i['name'], i['email'], i['company']['name']]) # заполняем данные из json-а\n",
    "df = pd.DataFrame(df_arr, columns=columns) # формируем DF\n",
    "print('Таблица, содержащая пользователей, которые работают в компании, в которой содержится слово \"Group\"')\n",
    "print(df.loc[df['company_name'].str.find('Group')!=-1]) # фильтрация"
   ]
  }
 ],
 "metadata": {
  "kernelspec": {
   "display_name": "Python 3",
   "language": "python",
   "name": "python3"
  },
  "language_info": {
   "codemirror_mode": {
    "name": "ipython",
    "version": 3
   },
   "file_extension": ".py",
   "mimetype": "text/x-python",
   "name": "python",
   "nbconvert_exporter": "python",
   "pygments_lexer": "ipython3",
   "version": "3.11.9"
  }
 },
 "nbformat": 4,
 "nbformat_minor": 2
}
